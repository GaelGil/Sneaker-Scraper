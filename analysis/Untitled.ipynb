{
 "cells": [
  {
   "cell_type": "code",
   "execution_count": 141,
   "metadata": {},
   "outputs": [],
   "source": [
    "import pandas as pd\n",
    "import sqlite3\n",
    "import matplotlib.pyplot as plt\n",
    "import numpy as np"
   ]
  },
  {
   "cell_type": "code",
   "execution_count": 142,
   "metadata": {},
   "outputs": [
    {
     "name": "stdout",
     "output_type": "stream",
     "text": [
      "Untitled.ipynb   data_by_year.csv main_data.ipynb  sneaker_data.csv\n",
      "\u001b[34mdata\u001b[m\u001b[m             load_data.ipynb  \u001b[34mrandom\u001b[m\u001b[m\n"
     ]
    }
   ],
   "source": [
    "!ls"
   ]
  },
  {
   "cell_type": "code",
   "execution_count": 143,
   "metadata": {},
   "outputs": [],
   "source": [
    "shoe_df = pd.read_csv('data_by_year.csv')"
   ]
  },
  {
   "cell_type": "code",
   "execution_count": 144,
   "metadata": {},
   "outputs": [
    {
     "name": "stdout",
     "output_type": "stream",
     "text": [
      "<class 'pandas.core.frame.DataFrame'>\n",
      "RangeIndex: 7006 entries, 0 to 7005\n",
      "Data columns (total 4 columns):\n",
      "Unnamed: 0    7006 non-null int64\n",
      "brand         7006 non-null object\n",
      "price         7006 non-null int64\n",
      "year          7006 non-null int64\n",
      "dtypes: int64(3), object(1)\n",
      "memory usage: 219.1+ KB\n"
     ]
    }
   ],
   "source": [
    "shoe_df.info()"
   ]
  },
  {
   "cell_type": "code",
   "execution_count": 145,
   "metadata": {},
   "outputs": [
    {
     "data": {
      "text/html": [
       "<div>\n",
       "<style scoped>\n",
       "    .dataframe tbody tr th:only-of-type {\n",
       "        vertical-align: middle;\n",
       "    }\n",
       "\n",
       "    .dataframe tbody tr th {\n",
       "        vertical-align: top;\n",
       "    }\n",
       "\n",
       "    .dataframe thead th {\n",
       "        text-align: right;\n",
       "    }\n",
       "</style>\n",
       "<table border=\"1\" class=\"dataframe\">\n",
       "  <thead>\n",
       "    <tr style=\"text-align: right;\">\n",
       "      <th></th>\n",
       "      <th>Unnamed: 0</th>\n",
       "      <th>brand</th>\n",
       "      <th>price</th>\n",
       "      <th>year</th>\n",
       "    </tr>\n",
       "  </thead>\n",
       "  <tbody>\n",
       "    <tr>\n",
       "      <th>0</th>\n",
       "      <td>0</td>\n",
       "      <td>lebron</td>\n",
       "      <td>400</td>\n",
       "      <td>2004</td>\n",
       "    </tr>\n",
       "    <tr>\n",
       "      <th>1</th>\n",
       "      <td>1</td>\n",
       "      <td>jordan</td>\n",
       "      <td>250</td>\n",
       "      <td>2004</td>\n",
       "    </tr>\n",
       "    <tr>\n",
       "      <th>2</th>\n",
       "      <td>2</td>\n",
       "      <td>nike</td>\n",
       "      <td>459</td>\n",
       "      <td>2004</td>\n",
       "    </tr>\n",
       "    <tr>\n",
       "      <th>3</th>\n",
       "      <td>3</td>\n",
       "      <td>jordan</td>\n",
       "      <td>200</td>\n",
       "      <td>2004</td>\n",
       "    </tr>\n",
       "    <tr>\n",
       "      <th>4</th>\n",
       "      <td>4</td>\n",
       "      <td>jordan</td>\n",
       "      <td>175</td>\n",
       "      <td>2004</td>\n",
       "    </tr>\n",
       "    <tr>\n",
       "      <th>...</th>\n",
       "      <td>...</td>\n",
       "      <td>...</td>\n",
       "      <td>...</td>\n",
       "      <td>...</td>\n",
       "    </tr>\n",
       "    <tr>\n",
       "      <th>7001</th>\n",
       "      <td>2687</td>\n",
       "      <td>Jordan</td>\n",
       "      <td>209</td>\n",
       "      <td>2018</td>\n",
       "    </tr>\n",
       "    <tr>\n",
       "      <th>7002</th>\n",
       "      <td>2688</td>\n",
       "      <td>Jordan</td>\n",
       "      <td>70</td>\n",
       "      <td>2018</td>\n",
       "    </tr>\n",
       "    <tr>\n",
       "      <th>7003</th>\n",
       "      <td>2689</td>\n",
       "      <td>Jordan</td>\n",
       "      <td>53</td>\n",
       "      <td>2018</td>\n",
       "    </tr>\n",
       "    <tr>\n",
       "      <th>7004</th>\n",
       "      <td>2690</td>\n",
       "      <td>Air</td>\n",
       "      <td>138</td>\n",
       "      <td>2018</td>\n",
       "    </tr>\n",
       "    <tr>\n",
       "      <th>7005</th>\n",
       "      <td>2691</td>\n",
       "      <td>Jordan</td>\n",
       "      <td>149</td>\n",
       "      <td>2018</td>\n",
       "    </tr>\n",
       "  </tbody>\n",
       "</table>\n",
       "<p>7006 rows × 4 columns</p>\n",
       "</div>"
      ],
      "text/plain": [
       "      Unnamed: 0   brand  price  year\n",
       "0              0  lebron    400  2004\n",
       "1              1  jordan    250  2004\n",
       "2              2    nike    459  2004\n",
       "3              3  jordan    200  2004\n",
       "4              4  jordan    175  2004\n",
       "...          ...     ...    ...   ...\n",
       "7001        2687  Jordan    209  2018\n",
       "7002        2688  Jordan     70  2018\n",
       "7003        2689  Jordan     53  2018\n",
       "7004        2690     Air    138  2018\n",
       "7005        2691  Jordan    149  2018\n",
       "\n",
       "[7006 rows x 4 columns]"
      ]
     },
     "execution_count": 145,
     "metadata": {},
     "output_type": "execute_result"
    }
   ],
   "source": [
    "shoe_df"
   ]
  },
  {
   "cell_type": "code",
   "execution_count": 146,
   "metadata": {},
   "outputs": [],
   "source": [
    "shoe_df = shoe_df.drop(\"Unnamed: 0\", axis=1)"
   ]
  },
  {
   "cell_type": "code",
   "execution_count": null,
   "metadata": {},
   "outputs": [],
   "source": []
  },
  {
   "cell_type": "code",
   "execution_count": 147,
   "metadata": {},
   "outputs": [
    {
     "data": {
      "text/html": [
       "<div>\n",
       "<style scoped>\n",
       "    .dataframe tbody tr th:only-of-type {\n",
       "        vertical-align: middle;\n",
       "    }\n",
       "\n",
       "    .dataframe tbody tr th {\n",
       "        vertical-align: top;\n",
       "    }\n",
       "\n",
       "    .dataframe thead th {\n",
       "        text-align: right;\n",
       "    }\n",
       "</style>\n",
       "<table border=\"1\" class=\"dataframe\">\n",
       "  <thead>\n",
       "    <tr style=\"text-align: right;\">\n",
       "      <th></th>\n",
       "      <th>brand</th>\n",
       "      <th>price</th>\n",
       "      <th>year</th>\n",
       "    </tr>\n",
       "  </thead>\n",
       "  <tbody>\n",
       "    <tr>\n",
       "      <th>0</th>\n",
       "      <td>lebron</td>\n",
       "      <td>400</td>\n",
       "      <td>2004</td>\n",
       "    </tr>\n",
       "    <tr>\n",
       "      <th>1</th>\n",
       "      <td>jordan</td>\n",
       "      <td>250</td>\n",
       "      <td>2004</td>\n",
       "    </tr>\n",
       "    <tr>\n",
       "      <th>2</th>\n",
       "      <td>nike</td>\n",
       "      <td>459</td>\n",
       "      <td>2004</td>\n",
       "    </tr>\n",
       "    <tr>\n",
       "      <th>3</th>\n",
       "      <td>jordan</td>\n",
       "      <td>200</td>\n",
       "      <td>2004</td>\n",
       "    </tr>\n",
       "    <tr>\n",
       "      <th>4</th>\n",
       "      <td>jordan</td>\n",
       "      <td>175</td>\n",
       "      <td>2004</td>\n",
       "    </tr>\n",
       "    <tr>\n",
       "      <th>...</th>\n",
       "      <td>...</td>\n",
       "      <td>...</td>\n",
       "      <td>...</td>\n",
       "    </tr>\n",
       "    <tr>\n",
       "      <th>7001</th>\n",
       "      <td>Jordan</td>\n",
       "      <td>209</td>\n",
       "      <td>2018</td>\n",
       "    </tr>\n",
       "    <tr>\n",
       "      <th>7002</th>\n",
       "      <td>Jordan</td>\n",
       "      <td>70</td>\n",
       "      <td>2018</td>\n",
       "    </tr>\n",
       "    <tr>\n",
       "      <th>7003</th>\n",
       "      <td>Jordan</td>\n",
       "      <td>53</td>\n",
       "      <td>2018</td>\n",
       "    </tr>\n",
       "    <tr>\n",
       "      <th>7004</th>\n",
       "      <td>Air</td>\n",
       "      <td>138</td>\n",
       "      <td>2018</td>\n",
       "    </tr>\n",
       "    <tr>\n",
       "      <th>7005</th>\n",
       "      <td>Jordan</td>\n",
       "      <td>149</td>\n",
       "      <td>2018</td>\n",
       "    </tr>\n",
       "  </tbody>\n",
       "</table>\n",
       "<p>7006 rows × 3 columns</p>\n",
       "</div>"
      ],
      "text/plain": [
       "       brand  price  year\n",
       "0     lebron    400  2004\n",
       "1     jordan    250  2004\n",
       "2       nike    459  2004\n",
       "3     jordan    200  2004\n",
       "4     jordan    175  2004\n",
       "...      ...    ...   ...\n",
       "7001  Jordan    209  2018\n",
       "7002  Jordan     70  2018\n",
       "7003  Jordan     53  2018\n",
       "7004     Air    138  2018\n",
       "7005  Jordan    149  2018\n",
       "\n",
       "[7006 rows x 3 columns]"
      ]
     },
     "execution_count": 147,
     "metadata": {},
     "output_type": "execute_result"
    }
   ],
   "source": [
    "shoe_df"
   ]
  },
  {
   "cell_type": "code",
   "execution_count": 148,
   "metadata": {},
   "outputs": [
    {
     "data": {
      "image/png": "[encoded data removed]",
      "text/plain": [
       "<Figure size 1440x1080 with 2 Axes>"
      ]
     },
     "metadata": {
      "needs_background": "light"
     },
     "output_type": "display_data"
    }
   ],
   "source": [
    "%matplotlib inline \n",
    "import matplotlib.pyplot as plt\n",
    "shoe_df.hist(bins=50, figsize=(20,15))\n",
    "plt.show()"
   ]
  },
  {
   "cell_type": "code",
   "execution_count": 149,
   "metadata": {},
   "outputs": [],
   "source": [
    "avg_by_year = shoe_df.groupby('year').mean()\n",
    "avg_by_brand = shoe_df.groupby('brand').mean()"
   ]
  },
  {
   "cell_type": "code",
   "execution_count": 150,
   "metadata": {},
   "outputs": [],
   "source": [
    "year_1998 = shoe_df.groupby(['year']).get_group(1998)\n",
    "year_1998 = year_1998.groupby('brand').mean()\n",
    "jordan_1998 = year_1998.loc['Jordan','price']\n",
    "\n",
    "\n",
    "\n",
    "\n",
    "year_1999 = shoe_df.groupby(['year']).get_group(1999)\n",
    "year_1999 = year_1999.groupby('brand').mean()\n",
    "jordan_1999 = year_1999.loc['Jordan','price']\n",
    "nike_1999 = year_1999.loc['Air','price']\n",
    "\n",
    "\n",
    "#\n",
    "year_2000 = shoe_df.groupby(['year']).get_group(2000)\n",
    "year_2000 = year_2000.groupby('brand').mean()\n",
    "jordan_2000 = year_2000.loc['Jordan','price']\n",
    "nike_2000 = year_2000.loc['air','price']\n",
    "\n",
    "#\n",
    "year_2001 = shoe_df.groupby(['year']).get_group(2001)\n",
    "year_2001 = year_2001.groupby('brand').mean()\n",
    "jordan_2001 = year_2001.loc['Jordan','price']\n",
    "nike_2001 = year_2001.loc['Air','price']"
   ]
  },
  {
   "cell_type": "code",
   "execution_count": 151,
   "metadata": {},
   "outputs": [],
   "source": [
    "#\n",
    "year_2002 = shoe_df.groupby(['year']).get_group(2002)\n",
    "year_2002 = year_2002.groupby('brand').mean()\n",
    "nike_avg_price_2002 = year_2002.loc['Nike','price']\n",
    "air_avg_price_2002 = year_2002.loc['Air','price']\n",
    "nike_2002 = nike_avg_price_2002 + air_avg_price_2002\n",
    "jordan_2002 = year_2002.loc['Jordan','price']\n",
    "\n",
    "#\n",
    "year_2003 = shoe_df.groupby(['year']).get_group(2003)\n",
    "year_2003 = year_2003.groupby('brand').mean()\n",
    "nike_avg_price_2003 = year_2003.loc['Nike','price']\n",
    "air_avg_price_2003 = year_2003.loc['Air','price']\n",
    "nike_2003 = nike_avg_price_2003 + air_avg_price_2003\n",
    "jordan_2003 = year_2003.loc['Jordan','price']\n",
    "\n",
    "#\n",
    "year_2004 = shoe_df.groupby(['year']).get_group(2004)\n",
    "year_2004 = year_2004.groupby('brand').mean()\n",
    "nike_avg_price_2004 = year_2004.loc['Nike','price']\n",
    "air_avg_price_2004 = year_2004.loc['Air','price']\n",
    "nike_2004 = nike_avg_price_2004 + air_avg_price_2004\n",
    "jordan_2004 = year_2004.loc['Jordan','price']\n",
    "\n",
    "\n",
    "\n",
    "\n",
    "#\n",
    "year_2005 = shoe_df.groupby(['year']).get_group(2005)\n",
    "year_2005 = year_2005.groupby('brand').mean()\n",
    "nike_avg_price_2005 = year_2005.loc['Nike','price']\n",
    "air_avg_price_2005 = year_2005.loc['Air','price']\n",
    "nike_2005 = nike_avg_price_2005 + air_avg_price_2005\n",
    "jordan_2005 = year_2005.loc['Jordan','price']\n",
    "\n",
    "\n",
    "\n",
    "\n",
    "#\n",
    "year_2006 = shoe_df.groupby(['year']).get_group(2006)\n",
    "year_2006 = year_2006.groupby('brand').mean()\n",
    "nike_2006 = year_2006.loc['Nike','price']\n",
    "jordan_2006 = year_2006.loc['Jordan','price']\n",
    "\n",
    "\n",
    "\n",
    "\n",
    "#\n",
    "year_2007 = shoe_df.groupby(['year']).get_group(2007)\n",
    "year_2007 = year_2007.groupby('brand').mean()\n",
    "nike_avg_price_2007 = year_2007.loc['Nike','price']\n",
    "air_avg_price_2007 = year_2007.loc['Air','price']\n",
    "nike_2007 = nike_avg_price_2007 + air_avg_price_2007\n",
    "jordan_2007 = year_2007.loc['Jordan','price']\n",
    "############\n",
    "\n",
    "\n",
    "#\n",
    "year_2008 = shoe_df.groupby(['year']).get_group(2008)\n",
    "year_2008 = year_2008.groupby('brand').mean()\n",
    "nike_avg_price_2008 = year_2008.loc['Nike','price']\n",
    "air_avg_price_2008 = year_2008.loc['Air','price']\n",
    "nike_2008 = nike_avg_price_2008 + air_avg_price_2008\n",
    "adidas_2008 = year_2008.loc['adidas','price']\n",
    "jordan_2008= year_2008.loc['Jordan','price']\n",
    "\n",
    "\n",
    "\n",
    "# #\n",
    "year_2009 = shoe_df.groupby(['year']).get_group(2009)\n",
    "year_2009 = year_2009.groupby('brand').mean()\n",
    "nike_avg_price_2009 = year_2009.loc['Nike','price']\n",
    "air_avg_price_2009 = year_2009.loc['Air','price']\n",
    "nike_2009 = nike_avg_price_2009 + air_avg_price_2009\n",
    "adidas_2009 = year_2009.loc['adidas','price']\n",
    "jordan_2009= year_2009.loc['Jordan','price']\n",
    "\n",
    "\n",
    "\n",
    "# # #\n",
    "year_2010 = shoe_df.groupby(['year']).get_group(2010)\n",
    "year_2010 = year_2010.groupby('brand').mean()\n",
    "nike_avg_price_2010 = year_2010.loc['Nike','price']\n",
    "air_avg_price_2010 = year_2010.loc['Air','price']\n",
    "nike_2010 = nike_avg_price_2010 + air_avg_price_2010\n",
    "adidas_2010 = year_2010.loc['adidas','price']\n",
    "jordan_2010= year_2010.loc['Jordan','price']\n",
    "adidas_2010= year_2010.loc['adidas','price']\n",
    "\n",
    "\n",
    "\n",
    "\n",
    "# #\n",
    "year_2011 = shoe_df.groupby(['year']).get_group(2011)\n",
    "year_2011 = year_2011.groupby('brand').mean()\n",
    "air_avg_price_2011 = year_2011.loc['Air','price']\n",
    "nike_avg_price_2011 = year_2011.loc['Nike','price']\n",
    "nike_2011 = nike_avg_price_2011 + air_avg_price_2011\n",
    "adidas_2011 = year_2011.loc['adidas','price']\n",
    "jordan_2011= year_2011.loc['Jordan','price']\n",
    "\n",
    "# #\n",
    "year_2012 = shoe_df.groupby(['year']).get_group(2012)\n",
    "year_2012 = year_2012.groupby('brand').mean()\n",
    "air_avg_price_2012 = year_2012.loc['Air','price']\n",
    "nike_avg_price_2012 = year_2012.loc['Nike','price']\n",
    "nike_2012 = nike_avg_price_2012 + air_avg_price_2012\n",
    "adidas_2012 = year_2012.loc['adidas','price']\n",
    "jordan_2012= year_2012.loc['Jordan','price']\n",
    "\n",
    "\n",
    "# #\n",
    "year_2013 = shoe_df.groupby(['year']).get_group(2013)\n",
    "year_2013 = year_2013.groupby('brand').mean()\n",
    "air_avg_price_2013 = year_2013.loc['Air','price']\n",
    "nike_avg_price_2013 = year_2013.loc['Nike','price']\n",
    "nike_2013 = nike_avg_price_2013 + air_avg_price_2013\n",
    "adidas_2013 = year_2013.loc['adidas','price']\n",
    "jordan_2013= year_2013.loc['Jordan','price']\n",
    "\n",
    "# #\n",
    "year_2014 = shoe_df.groupby(['year']).get_group(2014)\n",
    "year_2014 = year_2014.groupby('brand').mean()\n",
    "air_avg_price_2014 = year_2014.loc['Air','price']\n",
    "nike_avg_price_2014 = year_2014.loc['Nike','price']\n",
    "nike_2014 = nike_avg_price_2014 + air_avg_price_2014\n",
    "adidas_2014 = year_2014.loc['adidas','price']\n",
    "jordan_2014= year_2014.loc['Jordan','price']\n",
    "\n",
    "# #\n",
    "year_2015 = shoe_df.groupby(['year']).get_group(2015)\n",
    "year_2015 = year_2015.groupby('brand').mean()\n",
    "air_avg_price_2015 = year_2015.loc['Air','price']\n",
    "nike_avg_price_2015 = year_2015.loc['Nike','price']\n",
    "nike_2015 = nike_avg_price_2015 + air_avg_price_2015\n",
    "adidas_2015 = year_2015.loc['adidas','price']\n",
    "jordan_2015= year_2013.loc['Jordan','price']\n",
    "\n",
    "\n",
    "year_2016 = shoe_df.groupby(['year']).get_group(2016)\n",
    "year_2016 = year_2016.groupby('brand').mean()\n",
    "# air_avg_price_2016 = year_2016.loc['Air','price']\n",
    "nike_avg_price_2016 = year_2016.loc['nike','price']\n",
    "nike_2016 = nike_avg_price_2016\n",
    "adidas_2016 = year_2016.loc['adidas','price']\n",
    "jordan_2016= year_2016.loc['jordan','price']\n",
    "\n",
    "\n",
    "year_2017 = shoe_df.groupby(['year']).get_group(2017)\n",
    "year_2017 = year_2017.groupby('brand').mean()\n",
    "air_avg_price_2017 = year_2017.loc['Air','price']\n",
    "nike_avg_price_2017 = year_2017.loc['Nike','price']\n",
    "nike_2017 = nike_avg_price_2017 + air_avg_price_2017\n",
    "adidas_2017 = year_2017.loc['adidas','price']\n",
    "jordan_2017= year_2017.loc['Jordan','price']\n",
    "\n",
    "\n",
    "# #\n",
    "year_2018 = shoe_df.groupby(['year']).get_group(2018)\n",
    "year_2018 = year_2018.groupby('brand').mean()\n",
    "air_avg_price_2018= year_2018.loc['Air','price']\n",
    "nike_avg_price_2018 = year_2018.loc['Nike','price']\n",
    "nike_2018 = nike_avg_price_2018 + air_avg_price_2018\n",
    "adidas_2018 = year_2018.loc['adidas','price']\n",
    "jordan_2018= year_2018.loc['Jordan','price']\n",
    "\n",
    "# #\n",
    "year_2019 = shoe_df.groupby(['year']).get_group(2019)\n",
    "year_2019 = year_2019.groupby('brand').mean()\n",
    "air_avg_price_2019 = year_2019.loc['Air','price']\n",
    "nike_avg_price_2019 = year_2019.loc['Nike','price']\n",
    "nike_2019 = nike_avg_price_2019 + air_avg_price_2019\n",
    "adidas_2019 = year_2019.loc['adidas','price']\n",
    "jordan_2019= year_2019.loc['Jordan','price']"
   ]
  },
  {
   "cell_type": "code",
   "execution_count": 152,
   "metadata": {},
   "outputs": [],
   "source": [
    "adidas = {'Price': [0,0, 0, 0, 0, 0, 0, 0, 0, 0, adidas_2008, adidas_2009, adidas_2010, adidas_2011, adidas_2012, adidas_2013, adidas_2014, adidas_2015, adidas_2016, adidas_2017, adidas_2018, adidas_2019],\n",
    "        'Year': [1998, 1999, 2000, 2001, 2002, 2003, 2004, 2005, 2006,2007,2008 , 2009, 2010, 2011, 2012, 2013, 2014, 2015, 2016, 2017, 2018, 2019]}\n",
    "adidas_by_years = pd.DataFrame(adidas) \n",
    "\n",
    "nike = {'Price': [0, nike_1999, 0, nike_2001, nike_2002, nike_2003, nike_2004, nike_2005, nike_2006, nike_2007, nike_2008, nike_2009, nike_2010, nike_2011, nike_2012, nike_2013, nike_2014, nike_2015, nike_2016, nike_2017, nike_2018, nike_2019],\n",
    "        'Year': [1998, 1999, 2000, 2001, 2002, 2003, 2004, 2005, 2006,2007,2008 , 2009, 2010, 2011, 2012, 2013, 2014, 2015, 2016, 2017, 2018, 2019]}\n",
    "nike_by_years = pd.DataFrame(nike)\n",
    "\n",
    "jordan = {'Price': [jordan_1998, nike_1999, jordan_2000, jordan_2001, jordan_2002, jordan_2003, jordan_2004, jordan_2005, jordan_2006, jordan_2007, jordan_2008, jordan_2009, jordan_2010, jordan_2011, jordan_2012, jordan_2013, jordan_2014, jordan_2015, jordan_2016, jordan_2017, jordan_2018, jordan_2019],\n",
    "        'Year': [1998, 1999, 2000, 2001, 2002, 2003, 2004, 2005, 2006,2007,2008 , 2009, 2010, 2011, 2012, 2013, 2014, 2015, 2016, 2017, 2018, 2019]}\n",
    "jordan_by_years = pd.DataFrame(jordan)\n"
   ]
  },
  {
   "cell_type": "code",
   "execution_count": 153,
   "metadata": {},
   "outputs": [
    {
     "data": {
      "text/plain": [
       "[<matplotlib.lines.Line2D at 0x11ac89828>]"
      ]
     },
     "execution_count": 153,
     "metadata": {},
     "output_type": "execute_result"
    },
    {
     "data": {
      "image/png": "[encoded data removed]",
      "text/plain": [
       "<Figure size 432x288 with 1 Axes>"
      ]
     },
     "metadata": {
      "needs_background": "light"
     },
     "output_type": "display_data"
    }
   ],
   "source": [
    "plt.plot(jordan_by_years['Year'], jordan_by_years['Price'],'-r')"
   ]
  },
  {
   "cell_type": "code",
   "execution_count": 154,
   "metadata": {},
   "outputs": [
    {
     "data": {
      "text/plain": [
       "[<matplotlib.lines.Line2D at 0x119817dd8>]"
      ]
     },
     "execution_count": 154,
     "metadata": {},
     "output_type": "execute_result"
    },
    {
     "data": {
      "image/png": "[encoded data removed]",
      "text/plain": [
       "<Figure size 432x288 with 1 Axes>"
      ]
     },
     "metadata": {
      "needs_background": "light"
     },
     "output_type": "display_data"
    }
   ],
   "source": [
    "plt.plot(nike_by_years['Year'], nike_by_years['Price'],'-b')"
   ]
  },
  {
   "cell_type": "code",
   "execution_count": 155,
   "metadata": {},
   "outputs": [
    {
     "data": {
      "text/plain": [
       "[<matplotlib.lines.Line2D at 0x119b399b0>]"
      ]
     },
     "execution_count": 155,
     "metadata": {},
     "output_type": "execute_result"
    },
    {
     "data": {
      "image/png": "[encoded data removed]",
      "text/plain": [
       "<Figure size 432x288 with 1 Axes>"
      ]
     },
     "metadata": {
      "needs_background": "light"
     },
     "output_type": "display_data"
    }
   ],
   "source": [
    "plt.plot(adidas_by_years['Year'], adidas_by_years['Price'],'-g')"
   ]
  },
  {
   "cell_type": "code",
   "execution_count": 156,
   "metadata": {},
   "outputs": [
    {
     "data": {
      "image/png": "[encoded data removed]",
      "text/plain": [
       "<Figure size 432x288 with 1 Axes>"
      ]
     },
     "metadata": {
      "needs_background": "light"
     },
     "output_type": "display_data"
    }
   ],
   "source": [
    "plt.plot(adidas_by_years['Year'], adidas_by_years['Price'],'-g', label='adidas')\n",
    "plt.plot(nike_by_years['Year'], nike_by_years['Price'],'-b', label='nike')\n",
    "plt.plot(jordan_by_years['Year'], jordan_by_years['Price'],'-r', label='jordan')\n",
    "plt.xlabel('years')\n",
    "plt.ylabel('price')\n",
    "plt.legend()\n",
    "plt.grid(True)"
   ]
  },
  {
   "cell_type": "code",
   "execution_count": null,
   "metadata": {},
   "outputs": [],
   "source": []
  }
 ],
 "metadata": {
  "kernelspec": {
   "display_name": "Python 3",
   "language": "python",
   "name": "python3"
  },
  "language_info": {
   "codemirror_mode": {
    "name": "ipython",
    "version": 3
   },
   "file_extension": ".py",
   "mimetype": "text/x-python",
   "name": "python",
   "nbconvert_exporter": "python",
   "pygments_lexer": "ipython3",
   "version": "3.7.3"
  }
 },
 "nbformat": 4,
 "nbformat_minor": 4
}
