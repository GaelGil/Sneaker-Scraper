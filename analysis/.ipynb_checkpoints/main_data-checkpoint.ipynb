{
 "cells": [
  {
   "cell_type": "markdown",
   "metadata": {},
   "source": [
    "# In this notebook I analyze sneaker data that I have scraped from a sneaker website."
   ]
  },
  {
   "cell_type": "markdown",
   "metadata": {},
   "source": [
    "# What I did.\n",
    "> I scraped data from a after market sneaker website using the python library Scrapy. What I first wanted to do with this project was scrape 2 websites. I wanted to scrape the websites and find a specific shoe and have it tell me which site had the shoe I wanted for a better price. I will probably go back to that but I got carried away with scraping more and more data. "
   ]
  },
  {
   "cell_type": "code",
   "execution_count": 104,
   "metadata": {},
   "outputs": [
    {
     "name": "stdout",
     "output_type": "stream",
     "text": [
      "\u001b[34mdata\u001b[m\u001b[m                \u001b[34mrandom\u001b[m\u001b[m              up_to_2005.csv\n",
      "main_data.ipynb     sneakers.csv        with_duplicates.csv\n"
     ]
    }
   ],
   "source": [
    "!ls"
   ]
  },
  {
   "cell_type": "code",
   "execution_count": 105,
   "metadata": {},
   "outputs": [],
   "source": [
    "import pandas as pd\n",
    "import sqlite3\n",
    "import matplotlib.pyplot as plt\n",
    "import numpy as np"
   ]
  },
  {
   "cell_type": "code",
   "execution_count": 106,
   "metadata": {},
   "outputs": [],
   "source": [
    "# conn = sqlite3.connect(\"../databases/main_sneakers.db\")"
   ]
  },
  {
   "cell_type": "markdown",
   "metadata": {},
   "source": [
    "# Getting all tables in database\n",
    "> I collected my data all in seperate in tables for some reason and I had to select them all. This is how I did it but there is probably a more efficient way"
   ]
  },
  {
   "cell_type": "code",
   "execution_count": 107,
   "metadata": {},
   "outputs": [],
   "source": [
    "# before_2001 = pd.read_sql_query(\"select * from before_2001;\", conn)\n",
    "# year_2001 = pd.read_sql_query(\"select * from year2001;\", conn)\n",
    "# year_2002 = pd.read_sql_query(\"select * from year2002;\", conn)\n",
    "# year_2003 = pd.read_sql_query(\"select * from year2003;\", conn)\n",
    "# year_2004 = pd.read_sql_query(\"select * from year2004;\", conn)\n",
    "# year_2005 = pd.read_sql_query(\"select * from year2005;\", conn)\n",
    "# year_2006 = pd.read_sql_query(\"select * from year2006;\", conn)\n",
    "# year_2007 = pd.read_sql_query(\"select * from year2007;\", conn)\n",
    "# year_greater = pd.read_sql_query(\"select * from year2008_and_09;\", conn)"
   ]
  },
  {
   "cell_type": "markdown",
   "metadata": {},
   "source": [
    "# Combining all the dataframes into one"
   ]
  },
  {
   "cell_type": "code",
   "execution_count": 119,
   "metadata": {},
   "outputs": [],
   "source": [
    "# all_years = pd.concat([before_2001, year_2001, year_2002, year_2003, year_2004, year_2005, year_2006, year_2007, year_greater])\n",
    "all_years = pd.read_csv(\"sneakers.csv\")"
   ]
  },
  {
   "cell_type": "markdown",
   "metadata": {},
   "source": [
    "# Cleaning some of the data\n",
    "> - Get rid of duplicates and keep it's first occurance if there are\n",
    "> - Get rid of ID columns\n",
    "> - Set the price column as an int\n",
    "> - Set brands as str"
   ]
  },
  {
   "cell_type": "code",
   "execution_count": 123,
   "metadata": {},
   "outputs": [
    {
     "data": {
      "text/plain": [
       "0       release: 09/06/2000\n",
       "1       release: 01/01/2000\n",
       "2       release: 01/01/2000\n",
       "3       release: 09/15/1999\n",
       "4       release: 08/04/1999\n",
       "               ...         \n",
       "3717    release: 11/07/2018\n",
       "3718    release: 11/06/2018\n",
       "3719    release: 11/05/2018\n",
       "3720    release: 11/05/2018\n",
       "3721    release: 11/05/2018\n",
       "Name: date, Length: 3722, dtype: object"
      ]
     },
     "execution_count": 123,
     "metadata": {},
     "output_type": "execute_result"
    }
   ],
   "source": [
    "all_years.drop_duplicates(subset=\"sneaker\", keep=\"first\")\n",
    "# = all_years.drop(\"id\", axis=1)\n",
    "all_years.astype({'price': 'int32'})\n",
    "all_years.astype({'brand': 'str'})\n",
    "all_years.astype({'date': 'str'})\n"
   ]
  },
  {
   "cell_type": "markdown",
   "metadata": {},
   "source": [
    "# This is some of the partialy clean data"
   ]
  },
  {
   "cell_type": "code",
   "execution_count": 122,
   "metadata": {},
   "outputs": [
    {
     "data": {
      "text/html": [
       "<div>\n",
       "<style scoped>\n",
       "    .dataframe tbody tr th:only-of-type {\n",
       "        vertical-align: middle;\n",
       "    }\n",
       "\n",
       "    .dataframe tbody tr th {\n",
       "        vertical-align: top;\n",
       "    }\n",
       "\n",
       "    .dataframe thead th {\n",
       "        text-align: right;\n",
       "    }\n",
       "</style>\n",
       "<table border=\"1\" class=\"dataframe\">\n",
       "  <thead>\n",
       "    <tr style=\"text-align: right;\">\n",
       "      <th></th>\n",
       "      <th>Unnamed: 0</th>\n",
       "      <th>id</th>\n",
       "      <th>sneaker</th>\n",
       "      <th>price</th>\n",
       "      <th>brand</th>\n",
       "      <th>date</th>\n",
       "    </tr>\n",
       "  </thead>\n",
       "  <tbody>\n",
       "    <tr>\n",
       "      <th>0</th>\n",
       "      <td>0</td>\n",
       "      <td>1</td>\n",
       "      <td>['Jordan 15 OG Low Black Silver']</td>\n",
       "      <td>300</td>\n",
       "      <td>Jordan</td>\n",
       "      <td>release: 09/06/2000</td>\n",
       "    </tr>\n",
       "    <tr>\n",
       "      <th>1</th>\n",
       "      <td>1</td>\n",
       "      <td>2</td>\n",
       "      <td>['Jordan 15 OG Low White Red']</td>\n",
       "      <td>300</td>\n",
       "      <td>Jordan</td>\n",
       "      <td>release: 01/01/2000</td>\n",
       "    </tr>\n",
       "    <tr>\n",
       "      <th>2</th>\n",
       "      <td>2</td>\n",
       "      <td>3</td>\n",
       "      <td>['Jordan 15 OG Low Midnight Navy']</td>\n",
       "      <td>325</td>\n",
       "      <td>Jordan</td>\n",
       "      <td>release: 01/01/2000</td>\n",
       "    </tr>\n",
       "    <tr>\n",
       "      <th>3</th>\n",
       "      <td>3</td>\n",
       "      <td>4</td>\n",
       "      <td>['Jordan 14 OG Low Ginger']</td>\n",
       "      <td>755</td>\n",
       "      <td>Jordan</td>\n",
       "      <td>release: 09/15/1999</td>\n",
       "    </tr>\n",
       "    <tr>\n",
       "      <th>4</th>\n",
       "      <td>4</td>\n",
       "      <td>5</td>\n",
       "      <td>['Jordan 14 OG Low Columbia Blue']</td>\n",
       "      <td>399</td>\n",
       "      <td>Jordan</td>\n",
       "      <td>release: 08/04/1999</td>\n",
       "    </tr>\n",
       "    <tr>\n",
       "      <th>...</th>\n",
       "      <td>...</td>\n",
       "      <td>...</td>\n",
       "      <td>...</td>\n",
       "      <td>...</td>\n",
       "      <td>...</td>\n",
       "      <td>...</td>\n",
       "    </tr>\n",
       "    <tr>\n",
       "      <th>3717</th>\n",
       "      <td>3479</td>\n",
       "      <td>3480</td>\n",
       "      <td>['Jordan Why Not Zer0.1 Low N7']</td>\n",
       "      <td>108</td>\n",
       "      <td>Jordan</td>\n",
       "      <td>release: 11/07/2018</td>\n",
       "    </tr>\n",
       "    <tr>\n",
       "      <th>3718</th>\n",
       "      <td>3480</td>\n",
       "      <td>3481</td>\n",
       "      <td>['Jordan 1 Retro High Paris Saint Germain']</td>\n",
       "      <td>126</td>\n",
       "      <td>Jordan</td>\n",
       "      <td>release: 11/06/2018</td>\n",
       "    </tr>\n",
       "    <tr>\n",
       "      <th>3719</th>\n",
       "      <td>3481</td>\n",
       "      <td>3482</td>\n",
       "      <td>['Air Force 1 Low Utility Team Orange']</td>\n",
       "      <td>205</td>\n",
       "      <td>Air</td>\n",
       "      <td>release: 11/05/2018</td>\n",
       "    </tr>\n",
       "    <tr>\n",
       "      <th>3720</th>\n",
       "      <td>3482</td>\n",
       "      <td>3483</td>\n",
       "      <td>['Air Huarache Premium Bordeaux']</td>\n",
       "      <td>80</td>\n",
       "      <td>Air</td>\n",
       "      <td>release: 11/05/2018</td>\n",
       "    </tr>\n",
       "    <tr>\n",
       "      <th>3721</th>\n",
       "      <td>3483</td>\n",
       "      <td>3484</td>\n",
       "      <td>['Air VaporMax Run Utility Desert Ore']</td>\n",
       "      <td>189</td>\n",
       "      <td>Air</td>\n",
       "      <td>release: 11/05/2018</td>\n",
       "    </tr>\n",
       "  </tbody>\n",
       "</table>\n",
       "<p>3722 rows × 6 columns</p>\n",
       "</div>"
      ],
      "text/plain": [
       "      Unnamed: 0    id                                      sneaker  price  \\\n",
       "0              0     1            ['Jordan 15 OG Low Black Silver']    300   \n",
       "1              1     2               ['Jordan 15 OG Low White Red']    300   \n",
       "2              2     3           ['Jordan 15 OG Low Midnight Navy']    325   \n",
       "3              3     4                  ['Jordan 14 OG Low Ginger']    755   \n",
       "4              4     5           ['Jordan 14 OG Low Columbia Blue']    399   \n",
       "...          ...   ...                                          ...    ...   \n",
       "3717        3479  3480             ['Jordan Why Not Zer0.1 Low N7']    108   \n",
       "3718        3480  3481  ['Jordan 1 Retro High Paris Saint Germain']    126   \n",
       "3719        3481  3482      ['Air Force 1 Low Utility Team Orange']    205   \n",
       "3720        3482  3483            ['Air Huarache Premium Bordeaux']     80   \n",
       "3721        3483  3484      ['Air VaporMax Run Utility Desert Ore']    189   \n",
       "\n",
       "       brand                 date  \n",
       "0     Jordan  release: 09/06/2000  \n",
       "1     Jordan  release: 01/01/2000  \n",
       "2     Jordan  release: 01/01/2000  \n",
       "3     Jordan  release: 09/15/1999  \n",
       "4     Jordan  release: 08/04/1999  \n",
       "...      ...                  ...  \n",
       "3717  Jordan  release: 11/07/2018  \n",
       "3718  Jordan  release: 11/06/2018  \n",
       "3719     Air  release: 11/05/2018  \n",
       "3720     Air  release: 11/05/2018  \n",
       "3721     Air  release: 11/05/2018  \n",
       "\n",
       "[3722 rows x 6 columns]"
      ]
     },
     "execution_count": 122,
     "metadata": {},
     "output_type": "execute_result"
    }
   ],
   "source": [
    "all_years"
   ]
  },
  {
   "cell_type": "markdown",
   "metadata": {},
   "source": [
    "# More data cleaning/formating\n",
    "> I'm creating a new dataframe with some things I want and leaving out what I don't need.\n",
    "> For example\n",
    "> - Years to only be `2000` instead of `release: 11/09/2000`\n",
    "> - Secting price column\n",
    "> - Selecting brand column"
   ]
  },
  {
   "cell_type": "code",
   "execution_count": 121,
   "metadata": {},
   "outputs": [
    {
     "ename": "AttributeError",
     "evalue": "Can only use .str accessor with string values!",
     "output_type": "error",
     "traceback": [
      "\u001b[0;31m---------------------------------------------------------------------------\u001b[0m",
      "\u001b[0;31mAttributeError\u001b[0m                            Traceback (most recent call last)",
      "\u001b[0;32m<ipython-input-121-ffbccfc7b749>\u001b[0m in \u001b[0;36m<module>\u001b[0;34m\u001b[0m\n\u001b[1;32m      1\u001b[0m \u001b[0mprice\u001b[0m \u001b[0;34m=\u001b[0m \u001b[0mall_years\u001b[0m\u001b[0;34m.\u001b[0m\u001b[0miloc\u001b[0m\u001b[0;34m[\u001b[0m\u001b[0;34m:\u001b[0m\u001b[0;34m,\u001b[0m\u001b[0;36m1\u001b[0m\u001b[0;34m]\u001b[0m\u001b[0;34m\u001b[0m\u001b[0;34m\u001b[0m\u001b[0m\n\u001b[1;32m      2\u001b[0m \u001b[0mbrands\u001b[0m \u001b[0;34m=\u001b[0m \u001b[0mall_years\u001b[0m\u001b[0;34m.\u001b[0m\u001b[0miloc\u001b[0m\u001b[0;34m[\u001b[0m\u001b[0;34m:\u001b[0m\u001b[0;34m,\u001b[0m\u001b[0;36m2\u001b[0m\u001b[0;34m]\u001b[0m\u001b[0;34m\u001b[0m\u001b[0;34m\u001b[0m\u001b[0m\n\u001b[0;32m----> 3\u001b[0;31m \u001b[0myears\u001b[0m \u001b[0;34m=\u001b[0m \u001b[0mall_years\u001b[0m\u001b[0;34m.\u001b[0m\u001b[0miloc\u001b[0m\u001b[0;34m[\u001b[0m\u001b[0;34m:\u001b[0m\u001b[0;34m,\u001b[0m\u001b[0;36m3\u001b[0m\u001b[0;34m]\u001b[0m\u001b[0;34m.\u001b[0m\u001b[0mstr\u001b[0m\u001b[0;34m[\u001b[0m\u001b[0;36m15\u001b[0m\u001b[0;34m:\u001b[0m\u001b[0;34m]\u001b[0m\u001b[0;34m\u001b[0m\u001b[0;34m\u001b[0m\u001b[0m\n\u001b[0m",
      "\u001b[0;32m~/Desktop/GitRepos/Sneaker-Scraper/env/lib/python3.7/site-packages/pandas/core/generic.py\u001b[0m in \u001b[0;36m__getattr__\u001b[0;34m(self, name)\u001b[0m\n\u001b[1;32m   5173\u001b[0m             \u001b[0;32mor\u001b[0m \u001b[0mname\u001b[0m \u001b[0;32min\u001b[0m \u001b[0mself\u001b[0m\u001b[0;34m.\u001b[0m\u001b[0m_accessors\u001b[0m\u001b[0;34m\u001b[0m\u001b[0;34m\u001b[0m\u001b[0m\n\u001b[1;32m   5174\u001b[0m         ):\n\u001b[0;32m-> 5175\u001b[0;31m             \u001b[0;32mreturn\u001b[0m \u001b[0mobject\u001b[0m\u001b[0;34m.\u001b[0m\u001b[0m__getattribute__\u001b[0m\u001b[0;34m(\u001b[0m\u001b[0mself\u001b[0m\u001b[0;34m,\u001b[0m \u001b[0mname\u001b[0m\u001b[0;34m)\u001b[0m\u001b[0;34m\u001b[0m\u001b[0;34m\u001b[0m\u001b[0m\n\u001b[0m\u001b[1;32m   5176\u001b[0m         \u001b[0;32melse\u001b[0m\u001b[0;34m:\u001b[0m\u001b[0;34m\u001b[0m\u001b[0;34m\u001b[0m\u001b[0m\n\u001b[1;32m   5177\u001b[0m             \u001b[0;32mif\u001b[0m \u001b[0mself\u001b[0m\u001b[0;34m.\u001b[0m\u001b[0m_info_axis\u001b[0m\u001b[0;34m.\u001b[0m\u001b[0m_can_hold_identifiers_and_holds_name\u001b[0m\u001b[0;34m(\u001b[0m\u001b[0mname\u001b[0m\u001b[0;34m)\u001b[0m\u001b[0;34m:\u001b[0m\u001b[0;34m\u001b[0m\u001b[0;34m\u001b[0m\u001b[0m\n",
      "\u001b[0;32m~/Desktop/GitRepos/Sneaker-Scraper/env/lib/python3.7/site-packages/pandas/core/accessor.py\u001b[0m in \u001b[0;36m__get__\u001b[0;34m(self, obj, cls)\u001b[0m\n\u001b[1;32m    173\u001b[0m             \u001b[0;31m# we're accessing the attribute of the class, i.e., Dataset.geo\u001b[0m\u001b[0;34m\u001b[0m\u001b[0;34m\u001b[0m\u001b[0;34m\u001b[0m\u001b[0m\n\u001b[1;32m    174\u001b[0m             \u001b[0;32mreturn\u001b[0m \u001b[0mself\u001b[0m\u001b[0;34m.\u001b[0m\u001b[0m_accessor\u001b[0m\u001b[0;34m\u001b[0m\u001b[0;34m\u001b[0m\u001b[0m\n\u001b[0;32m--> 175\u001b[0;31m         \u001b[0maccessor_obj\u001b[0m \u001b[0;34m=\u001b[0m \u001b[0mself\u001b[0m\u001b[0;34m.\u001b[0m\u001b[0m_accessor\u001b[0m\u001b[0;34m(\u001b[0m\u001b[0mobj\u001b[0m\u001b[0;34m)\u001b[0m\u001b[0;34m\u001b[0m\u001b[0;34m\u001b[0m\u001b[0m\n\u001b[0m\u001b[1;32m    176\u001b[0m         \u001b[0;31m# Replace the property with the accessor object. Inspired by:\u001b[0m\u001b[0;34m\u001b[0m\u001b[0;34m\u001b[0m\u001b[0;34m\u001b[0m\u001b[0m\n\u001b[1;32m    177\u001b[0m         \u001b[0;31m# http://www.pydanny.com/cached-property.html\u001b[0m\u001b[0;34m\u001b[0m\u001b[0;34m\u001b[0m\u001b[0;34m\u001b[0m\u001b[0m\n",
      "\u001b[0;32m~/Desktop/GitRepos/Sneaker-Scraper/env/lib/python3.7/site-packages/pandas/core/strings.py\u001b[0m in \u001b[0;36m__init__\u001b[0;34m(self, data)\u001b[0m\n\u001b[1;32m   1915\u001b[0m \u001b[0;34m\u001b[0m\u001b[0m\n\u001b[1;32m   1916\u001b[0m     \u001b[0;32mdef\u001b[0m \u001b[0m__init__\u001b[0m\u001b[0;34m(\u001b[0m\u001b[0mself\u001b[0m\u001b[0;34m,\u001b[0m \u001b[0mdata\u001b[0m\u001b[0;34m)\u001b[0m\u001b[0;34m:\u001b[0m\u001b[0;34m\u001b[0m\u001b[0;34m\u001b[0m\u001b[0m\n\u001b[0;32m-> 1917\u001b[0;31m         \u001b[0mself\u001b[0m\u001b[0;34m.\u001b[0m\u001b[0m_inferred_dtype\u001b[0m \u001b[0;34m=\u001b[0m \u001b[0mself\u001b[0m\u001b[0;34m.\u001b[0m\u001b[0m_validate\u001b[0m\u001b[0;34m(\u001b[0m\u001b[0mdata\u001b[0m\u001b[0;34m)\u001b[0m\u001b[0;34m\u001b[0m\u001b[0;34m\u001b[0m\u001b[0m\n\u001b[0m\u001b[1;32m   1918\u001b[0m         \u001b[0mself\u001b[0m\u001b[0;34m.\u001b[0m\u001b[0m_is_categorical\u001b[0m \u001b[0;34m=\u001b[0m \u001b[0mis_categorical_dtype\u001b[0m\u001b[0;34m(\u001b[0m\u001b[0mdata\u001b[0m\u001b[0;34m)\u001b[0m\u001b[0;34m\u001b[0m\u001b[0;34m\u001b[0m\u001b[0m\n\u001b[1;32m   1919\u001b[0m \u001b[0;34m\u001b[0m\u001b[0m\n",
      "\u001b[0;32m~/Desktop/GitRepos/Sneaker-Scraper/env/lib/python3.7/site-packages/pandas/core/strings.py\u001b[0m in \u001b[0;36m_validate\u001b[0;34m(data)\u001b[0m\n\u001b[1;32m   1965\u001b[0m \u001b[0;34m\u001b[0m\u001b[0m\n\u001b[1;32m   1966\u001b[0m         \u001b[0;32mif\u001b[0m \u001b[0minferred_dtype\u001b[0m \u001b[0;32mnot\u001b[0m \u001b[0;32min\u001b[0m \u001b[0mallowed_types\u001b[0m\u001b[0;34m:\u001b[0m\u001b[0;34m\u001b[0m\u001b[0;34m\u001b[0m\u001b[0m\n\u001b[0;32m-> 1967\u001b[0;31m             \u001b[0;32mraise\u001b[0m \u001b[0mAttributeError\u001b[0m\u001b[0;34m(\u001b[0m\u001b[0;34m\"Can only use .str accessor with string \"\u001b[0m \u001b[0;34m\"values!\"\u001b[0m\u001b[0;34m)\u001b[0m\u001b[0;34m\u001b[0m\u001b[0;34m\u001b[0m\u001b[0m\n\u001b[0m\u001b[1;32m   1968\u001b[0m         \u001b[0;32mreturn\u001b[0m \u001b[0minferred_dtype\u001b[0m\u001b[0;34m\u001b[0m\u001b[0;34m\u001b[0m\u001b[0m\n\u001b[1;32m   1969\u001b[0m \u001b[0;34m\u001b[0m\u001b[0m\n",
      "\u001b[0;31mAttributeError\u001b[0m: Can only use .str accessor with string values!"
     ]
    }
   ],
   "source": [
    "price = all_years.iloc[:,1]\n",
    "brands = all_years.iloc[:,2]\n",
    "years = all_years.iloc[:,3].str[15:]"
   ]
  },
  {
   "cell_type": "markdown",
   "metadata": {},
   "source": [
    "# Making final data frame\n",
    "> Using selected columns I then created a new data frame with only:\n",
    "> - Brand of shoe\n",
    "> - Price of shoe\n",
    "> - Year it was release"
   ]
  },
  {
   "cell_type": "code",
   "execution_count": 112,
   "metadata": {},
   "outputs": [],
   "source": [
    "shoe_data_by_year = list(zip(brands, price, years))\n",
    "shoe_df = pd.DataFrame(shoe_data_by_year, columns = ['brand', 'price', 'year'])"
   ]
  },
  {
   "cell_type": "code",
   "execution_count": 113,
   "metadata": {},
   "outputs": [
    {
     "data": {
      "text/html": [
       "<div>\n",
       "<style scoped>\n",
       "    .dataframe tbody tr th:only-of-type {\n",
       "        vertical-align: middle;\n",
       "    }\n",
       "\n",
       "    .dataframe tbody tr th {\n",
       "        vertical-align: top;\n",
       "    }\n",
       "\n",
       "    .dataframe thead th {\n",
       "        text-align: right;\n",
       "    }\n",
       "</style>\n",
       "<table border=\"1\" class=\"dataframe\">\n",
       "  <thead>\n",
       "    <tr style=\"text-align: right;\">\n",
       "      <th></th>\n",
       "      <th>brand</th>\n",
       "      <th>price</th>\n",
       "      <th>year</th>\n",
       "    </tr>\n",
       "  </thead>\n",
       "  <tbody>\n",
       "    <tr>\n",
       "      <th>0</th>\n",
       "      <td>300</td>\n",
       "      <td>['Jordan 15 OG Low Black Silver']</td>\n",
       "      <td></td>\n",
       "    </tr>\n",
       "    <tr>\n",
       "      <th>1</th>\n",
       "      <td>300</td>\n",
       "      <td>['Jordan 15 OG Low White Red']</td>\n",
       "      <td></td>\n",
       "    </tr>\n",
       "    <tr>\n",
       "      <th>2</th>\n",
       "      <td>325</td>\n",
       "      <td>['Jordan 15 OG Low Midnight Navy']</td>\n",
       "      <td></td>\n",
       "    </tr>\n",
       "    <tr>\n",
       "      <th>3</th>\n",
       "      <td>755</td>\n",
       "      <td>['Jordan 14 OG Low Ginger']</td>\n",
       "      <td></td>\n",
       "    </tr>\n",
       "    <tr>\n",
       "      <th>4</th>\n",
       "      <td>399</td>\n",
       "      <td>['Jordan 14 OG Low Columbia Blue']</td>\n",
       "      <td></td>\n",
       "    </tr>\n",
       "    <tr>\n",
       "      <th>...</th>\n",
       "      <td>...</td>\n",
       "      <td>...</td>\n",
       "      <td>...</td>\n",
       "    </tr>\n",
       "    <tr>\n",
       "      <th>2687</th>\n",
       "      <td>209</td>\n",
       "      <td>['Jordan Trainer ST G White Obsidian']</td>\n",
       "      <td></td>\n",
       "    </tr>\n",
       "    <tr>\n",
       "      <th>2688</th>\n",
       "      <td>70</td>\n",
       "      <td>['Jordan Legacy 312 Rookie of the Year']</td>\n",
       "      <td></td>\n",
       "    </tr>\n",
       "    <tr>\n",
       "      <th>2689</th>\n",
       "      <td>53</td>\n",
       "      <td>['Jordan 1 Retro Low Utility Pack (W)']</td>\n",
       "      <td></td>\n",
       "    </tr>\n",
       "    <tr>\n",
       "      <th>2690</th>\n",
       "      <td>138</td>\n",
       "      <td>['Air Max 90 Ultra Mid Winter Black']</td>\n",
       "      <td></td>\n",
       "    </tr>\n",
       "    <tr>\n",
       "      <th>2691</th>\n",
       "      <td>149</td>\n",
       "      <td>['Jordan Legacy 312 Lakers (GS)']</td>\n",
       "      <td></td>\n",
       "    </tr>\n",
       "  </tbody>\n",
       "</table>\n",
       "<p>2692 rows × 3 columns</p>\n",
       "</div>"
      ],
      "text/plain": [
       "      brand                                     price year\n",
       "0       300         ['Jordan 15 OG Low Black Silver']     \n",
       "1       300            ['Jordan 15 OG Low White Red']     \n",
       "2       325        ['Jordan 15 OG Low Midnight Navy']     \n",
       "3       755               ['Jordan 14 OG Low Ginger']     \n",
       "4       399        ['Jordan 14 OG Low Columbia Blue']     \n",
       "...     ...                                       ...  ...\n",
       "2687    209    ['Jordan Trainer ST G White Obsidian']     \n",
       "2688     70  ['Jordan Legacy 312 Rookie of the Year']     \n",
       "2689     53   ['Jordan 1 Retro Low Utility Pack (W)']     \n",
       "2690    138     ['Air Max 90 Ultra Mid Winter Black']     \n",
       "2691    149         ['Jordan Legacy 312 Lakers (GS)']     \n",
       "\n",
       "[2692 rows x 3 columns]"
      ]
     },
     "execution_count": 113,
     "metadata": {},
     "output_type": "execute_result"
    }
   ],
   "source": [
    "shoe_df"
   ]
  },
  {
   "cell_type": "code",
   "execution_count": 114,
   "metadata": {},
   "outputs": [
    {
     "ename": "DataError",
     "evalue": "No numeric types to aggregate",
     "output_type": "error",
     "traceback": [
      "\u001b[0;31m---------------------------------------------------------------------------\u001b[0m",
      "\u001b[0;31mDataError\u001b[0m                                 Traceback (most recent call last)",
      "\u001b[0;32m<ipython-input-114-8831f6b4f81c>\u001b[0m in \u001b[0;36m<module>\u001b[0;34m\u001b[0m\n\u001b[1;32m      1\u001b[0m \u001b[0mavg_by_year\u001b[0m \u001b[0;34m=\u001b[0m \u001b[0mshoe_df\u001b[0m\u001b[0;34m.\u001b[0m\u001b[0mgroupby\u001b[0m\u001b[0;34m(\u001b[0m\u001b[0;34m'year'\u001b[0m\u001b[0;34m)\u001b[0m\u001b[0;34m.\u001b[0m\u001b[0mmean\u001b[0m\u001b[0;34m(\u001b[0m\u001b[0;34m)\u001b[0m\u001b[0;34m\u001b[0m\u001b[0;34m\u001b[0m\u001b[0m\n\u001b[0;32m----> 2\u001b[0;31m \u001b[0mavg_by_brand\u001b[0m \u001b[0;34m=\u001b[0m \u001b[0mshoe_df\u001b[0m\u001b[0;34m.\u001b[0m\u001b[0mgroupby\u001b[0m\u001b[0;34m(\u001b[0m\u001b[0;34m'brand'\u001b[0m\u001b[0;34m)\u001b[0m\u001b[0;34m.\u001b[0m\u001b[0mmean\u001b[0m\u001b[0;34m(\u001b[0m\u001b[0;34m)\u001b[0m\u001b[0;34m\u001b[0m\u001b[0;34m\u001b[0m\u001b[0m\n\u001b[0m",
      "\u001b[0;32m~/Desktop/GitRepos/Sneaker-Scraper/env/lib/python3.7/site-packages/pandas/core/groupby/groupby.py\u001b[0m in \u001b[0;36mmean\u001b[0;34m(self, *args, **kwargs)\u001b[0m\n\u001b[1;32m   1203\u001b[0m         \u001b[0;32mtry\u001b[0m\u001b[0;34m:\u001b[0m\u001b[0;34m\u001b[0m\u001b[0;34m\u001b[0m\u001b[0m\n\u001b[1;32m   1204\u001b[0m             return self._cython_agg_general(\n\u001b[0;32m-> 1205\u001b[0;31m                 \u001b[0;34m\"mean\"\u001b[0m\u001b[0;34m,\u001b[0m \u001b[0malt\u001b[0m\u001b[0;34m=\u001b[0m\u001b[0;32mlambda\u001b[0m \u001b[0mx\u001b[0m\u001b[0;34m,\u001b[0m \u001b[0maxis\u001b[0m\u001b[0;34m:\u001b[0m \u001b[0mSeries\u001b[0m\u001b[0;34m(\u001b[0m\u001b[0mx\u001b[0m\u001b[0;34m)\u001b[0m\u001b[0;34m.\u001b[0m\u001b[0mmean\u001b[0m\u001b[0;34m(\u001b[0m\u001b[0;34m**\u001b[0m\u001b[0mkwargs\u001b[0m\u001b[0;34m)\u001b[0m\u001b[0;34m,\u001b[0m \u001b[0;34m**\u001b[0m\u001b[0mkwargs\u001b[0m\u001b[0;34m\u001b[0m\u001b[0;34m\u001b[0m\u001b[0m\n\u001b[0m\u001b[1;32m   1206\u001b[0m             )\n\u001b[1;32m   1207\u001b[0m         \u001b[0;32mexcept\u001b[0m \u001b[0mGroupByError\u001b[0m\u001b[0;34m:\u001b[0m\u001b[0;34m\u001b[0m\u001b[0;34m\u001b[0m\u001b[0m\n",
      "\u001b[0;32m~/Desktop/GitRepos/Sneaker-Scraper/env/lib/python3.7/site-packages/pandas/core/groupby/generic.py\u001b[0m in \u001b[0;36m_cython_agg_general\u001b[0;34m(self, how, alt, numeric_only, min_count)\u001b[0m\n\u001b[1;32m    126\u001b[0m     \u001b[0;32mdef\u001b[0m \u001b[0m_cython_agg_general\u001b[0m\u001b[0;34m(\u001b[0m\u001b[0mself\u001b[0m\u001b[0;34m,\u001b[0m \u001b[0mhow\u001b[0m\u001b[0;34m,\u001b[0m \u001b[0malt\u001b[0m\u001b[0;34m=\u001b[0m\u001b[0;32mNone\u001b[0m\u001b[0;34m,\u001b[0m \u001b[0mnumeric_only\u001b[0m\u001b[0;34m=\u001b[0m\u001b[0;32mTrue\u001b[0m\u001b[0;34m,\u001b[0m \u001b[0mmin_count\u001b[0m\u001b[0;34m=\u001b[0m\u001b[0;34m-\u001b[0m\u001b[0;36m1\u001b[0m\u001b[0;34m)\u001b[0m\u001b[0;34m:\u001b[0m\u001b[0;34m\u001b[0m\u001b[0;34m\u001b[0m\u001b[0m\n\u001b[1;32m    127\u001b[0m         new_items, new_blocks = self._cython_agg_blocks(\n\u001b[0;32m--> 128\u001b[0;31m             \u001b[0mhow\u001b[0m\u001b[0;34m,\u001b[0m \u001b[0malt\u001b[0m\u001b[0;34m=\u001b[0m\u001b[0malt\u001b[0m\u001b[0;34m,\u001b[0m \u001b[0mnumeric_only\u001b[0m\u001b[0;34m=\u001b[0m\u001b[0mnumeric_only\u001b[0m\u001b[0;34m,\u001b[0m \u001b[0mmin_count\u001b[0m\u001b[0;34m=\u001b[0m\u001b[0mmin_count\u001b[0m\u001b[0;34m\u001b[0m\u001b[0;34m\u001b[0m\u001b[0m\n\u001b[0m\u001b[1;32m    129\u001b[0m         )\n\u001b[1;32m    130\u001b[0m         \u001b[0;32mreturn\u001b[0m \u001b[0mself\u001b[0m\u001b[0;34m.\u001b[0m\u001b[0m_wrap_agged_blocks\u001b[0m\u001b[0;34m(\u001b[0m\u001b[0mnew_items\u001b[0m\u001b[0;34m,\u001b[0m \u001b[0mnew_blocks\u001b[0m\u001b[0;34m)\u001b[0m\u001b[0;34m\u001b[0m\u001b[0;34m\u001b[0m\u001b[0m\n",
      "\u001b[0;32m~/Desktop/GitRepos/Sneaker-Scraper/env/lib/python3.7/site-packages/pandas/core/groupby/generic.py\u001b[0m in \u001b[0;36m_cython_agg_blocks\u001b[0;34m(self, how, alt, numeric_only, min_count)\u001b[0m\n\u001b[1;32m    186\u001b[0m \u001b[0;34m\u001b[0m\u001b[0m\n\u001b[1;32m    187\u001b[0m         \u001b[0;32mif\u001b[0m \u001b[0mlen\u001b[0m\u001b[0;34m(\u001b[0m\u001b[0mnew_blocks\u001b[0m\u001b[0;34m)\u001b[0m \u001b[0;34m==\u001b[0m \u001b[0;36m0\u001b[0m\u001b[0;34m:\u001b[0m\u001b[0;34m\u001b[0m\u001b[0;34m\u001b[0m\u001b[0m\n\u001b[0;32m--> 188\u001b[0;31m             \u001b[0;32mraise\u001b[0m \u001b[0mDataError\u001b[0m\u001b[0;34m(\u001b[0m\u001b[0;34m\"No numeric types to aggregate\"\u001b[0m\u001b[0;34m)\u001b[0m\u001b[0;34m\u001b[0m\u001b[0;34m\u001b[0m\u001b[0m\n\u001b[0m\u001b[1;32m    189\u001b[0m \u001b[0;34m\u001b[0m\u001b[0m\n\u001b[1;32m    190\u001b[0m         \u001b[0;31m# reset the locs in the blocks to correspond to our\u001b[0m\u001b[0;34m\u001b[0m\u001b[0;34m\u001b[0m\u001b[0;34m\u001b[0m\u001b[0m\n",
      "\u001b[0;31mDataError\u001b[0m: No numeric types to aggregate"
     ]
    }
   ],
   "source": [
    "avg_by_year = shoe_df.groupby('year').mean()\n",
    "avg_by_brand = shoe_df.groupby('brand').mean()"
   ]
  },
  {
   "cell_type": "code",
   "execution_count": null,
   "metadata": {},
   "outputs": [],
   "source": [
    "avg_by_year"
   ]
  },
  {
   "cell_type": "code",
   "execution_count": null,
   "metadata": {},
   "outputs": [],
   "source": [
    "#find highest brand every year\n",
    "#find most expensive and least expensive in data for every year\n",
    "#find other things as well\n",
    "plt.plot(avg_by_year)"
   ]
  },
  {
   "cell_type": "code",
   "execution_count": null,
   "metadata": {},
   "outputs": [],
   "source": [
    "prices = avg_by_year['price'][0:]\n",
    "year = avg_by_year.index"
   ]
  },
  {
   "cell_type": "code",
   "execution_count": null,
   "metadata": {},
   "outputs": [],
   "source": [
    "plt.plot(year, prices,'-g')"
   ]
  },
  {
   "cell_type": "code",
   "execution_count": null,
   "metadata": {},
   "outputs": [],
   "source": [
    "shoe_df"
   ]
  },
  {
   "cell_type": "code",
   "execution_count": null,
   "metadata": {},
   "outputs": [],
   "source": [
    "year_1998 = shoe_df.groupby(['year']).get_group('1998')\n",
    "year_1998 = year_1998.groupby('brand').mean()\n",
    "jordan_1998 = year_1998.loc['Jordan','price']\n",
    "\n",
    "\n",
    "# \n",
    "\n",
    "year_1999 = shoe_df.groupby(['year']).get_group('1999')\n",
    "year_1999 = year_1999.groupby('brand').mean()\n",
    "jordan_1999 = year_1999.loc['Jordan','price']\n",
    "nike_1999 = year_1999.loc['Air','price']\n",
    "\n",
    "\n",
    "# #\n",
    "year_2000 = shoe_df.groupby(['year']).get_group('2000')\n",
    "year_2000 = year_2000.groupby('brand').mean()\n",
    "jordan_2000 = year_2000.loc['Jordan','price']\n",
    "\n",
    "#\n",
    "year_2001 = shoe_df.groupby(['year']).get_group('2001')\n",
    "year_2001 = year_2001.groupby('brand').mean()\n",
    "jordan_2001 = year_2001.loc['Jordan','price']\n",
    "nike_2001 = year_2001.loc['Air','price']"
   ]
  },
  {
   "cell_type": "code",
   "execution_count": null,
   "metadata": {},
   "outputs": [],
   "source": [
    "#\n",
    "year_2002 = shoe_df.groupby(['year']).get_group('2002')\n",
    "year_2002 = year_2002.groupby('brand').mean()\n",
    "nike_avg_price_2002 = year_2002.loc['Nike','price']\n",
    "air_avg_price_2002 = year_2002.loc['Air','price']\n",
    "nike_2002 = nike_avg_price_2002 + air_avg_price_2002\n",
    "jordan_2002 = year_2002.loc['Jordan','price']\n",
    "\n",
    "#\n",
    "year_2003 = shoe_df.groupby(['year']).get_group('2003')\n",
    "year_2003 = year_2003.groupby('brand').mean()\n",
    "nike_avg_price_2003 = year_2003.loc['Nike','price']\n",
    "air_avg_price_2003 = year_2003.loc['Air','price']\n",
    "nike_2003 = nike_avg_price_2003 + air_avg_price_2003\n",
    "jordan_2003 = year_2003.loc['Jordan','price']\n",
    "\n",
    "#\n",
    "year_2004 = shoe_df.groupby(['year']).get_group('2004')\n",
    "year_2004 = year_2004.groupby('brand').mean()\n",
    "nike_avg_price_2004 = year_2004.loc['Nike','price']\n",
    "air_avg_price_2004 = year_2004.loc['Air','price']\n",
    "nike_2004 = nike_avg_price_2004 + air_avg_price_2004\n",
    "jordan_2004 = year_2004.loc['Jordan','price']\n",
    "\n",
    "\n",
    "\n",
    "\n",
    "#\n",
    "year_2005 = shoe_df.groupby(['year']).get_group('2005')\n",
    "year_2005 = year_2005.groupby('brand').mean()\n",
    "nike_avg_price_2005 = year_2005.loc['Nike','price']\n",
    "air_avg_price_2005 = year_2005.loc['Air','price']\n",
    "nike_2005 = nike_avg_price_2005 + air_avg_price_2005\n",
    "jordan_2005 = year_2005.loc['Jordan','price']\n",
    "\n",
    "\n",
    "\n",
    "\n",
    "#\n",
    "year_2006 = shoe_df.groupby(['year']).get_group('2006')\n",
    "year_2006 = year_2006.groupby('brand').mean()\n",
    "nike_2006 = year_2006.loc['Nike','price']\n",
    "jordan_2006 = year_2006.loc['Jordan','price']\n",
    "\n",
    "\n",
    "\n",
    "\n",
    "#\n",
    "year_2007 = shoe_df.groupby(['year']).get_group('2007')\n",
    "year_2007 = year_2007.groupby('brand').mean()\n",
    "nike_avg_price_2007 = year_2007.loc['Nike','price']\n",
    "air_avg_price_2007 = year_2007.loc['Air','price']\n",
    "nike_2007 = nike_avg_price_2007 + air_avg_price_2007\n",
    "jordan_2007 = year_2007.loc['Jordan','price']\n",
    "############\n",
    "\n",
    "\n",
    "#\n",
    "year_2008 = shoe_df.groupby(['year']).get_group('2008')\n",
    "year_2008 = year_2008.groupby('brand').mean()\n",
    "nike_avg_price_2008 = year_2008.loc['Nike','price']\n",
    "air_avg_price_2008 = year_2008.loc['Air','price']\n",
    "nike_2008 = nike_avg_price_2008 + air_avg_price_2008\n",
    "adidas_2008 = year_2008.loc['adidas','price']\n",
    "jordan_2008= year_2008.loc['Jordan','price']\n",
    "\n",
    "\n",
    "\n",
    "# #\n",
    "year_2009 = shoe_df.groupby(['year']).get_group('2009')\n",
    "year_2009 = year_2009.groupby('brand').mean()\n",
    "nike_avg_price_2009 = year_2009.loc['Nike','price']\n",
    "air_avg_price_2009 = year_2009.loc['Air','price']\n",
    "nike_2009 = nike_avg_price_2009 + air_avg_price_2009\n",
    "adidas_2009 = year_2009.loc['adidas','price']\n",
    "jordan_2009= year_2009.loc['Jordan','price']\n",
    "\n",
    "\n",
    "\n",
    "# # #\n",
    "year_2010 = shoe_df.groupby(['year']).get_group('2010')\n",
    "year_2010 = year_2010.groupby('brand').mean()\n",
    "nike_avg_price_2010 = year_2010.loc['Nike','price']\n",
    "air_avg_price_2010 = year_2010.loc['Air','price']\n",
    "nike_2010 = nike_avg_price_2010 + air_avg_price_2010\n",
    "adidas_2010 = year_2010.loc['adidas','price']\n",
    "jordan_2010= year_2010.loc['Jordan','price']\n",
    "adidas_2010= year_2010.loc['adidas','price']\n",
    "\n",
    "\n",
    "\n",
    "\n",
    "# #\n",
    "year_2011 = shoe_df.groupby(['year']).get_group('2011')\n",
    "year_2011 = year_2011.groupby('brand').mean()\n",
    "air_avg_price_2011 = year_2011.loc['Air','price']\n",
    "nike_avg_price_2011 = year_2011.loc['Nike','price']\n",
    "nike_2011 = nike_avg_price_2011 + air_avg_price_2011\n",
    "adidas_2011 = year_2011.loc['adidas','price']\n",
    "jordan_2011= year_2011.loc['Jordan','price']\n",
    "\n",
    "# #\n",
    "year_2012 = shoe_df.groupby(['year']).get_group('2012')\n",
    "year_2012 = year_2012.groupby('brand').mean()\n",
    "air_avg_price_2012 = year_2012.loc['Air','price']\n",
    "nike_avg_price_2012 = year_2012.loc['Nike','price']\n",
    "nike_2012 = nike_avg_price_2012 + air_avg_price_2012\n",
    "adidas_2012 = year_2012.loc['adidas','price']\n",
    "jordan_2012= year_2012.loc['Jordan','price']\n",
    "\n",
    "\n",
    "# #\n",
    "year_2013 = shoe_df.groupby(['year']).get_group('2013')\n",
    "year_2013 = year_2013.groupby('brand').mean()\n",
    "air_avg_price_2013 = year_2013.loc['Air','price']\n",
    "nike_avg_price_2013 = year_2013.loc['Nike','price']\n",
    "nike_2013 = nike_avg_price_2013 + air_avg_price_2013\n",
    "adidas_2013 = year_2013.loc['adidas','price']\n",
    "jordan_2013= year_2013.loc['Jordan','price']\n",
    "\n",
    "# #\n",
    "year_2014 = shoe_df.groupby(['year']).get_group('2014')\n",
    "year_2014 = year_2014.groupby('brand').mean()\n",
    "air_avg_price_2014 = year_2014.loc['Air','price']\n",
    "nike_avg_price_2014 = year_2014.loc['Nike','price']\n",
    "nike_2014 = nike_avg_price_2014 + air_avg_price_2014\n",
    "adidas_2014 = year_2014.loc['adidas','price']\n",
    "jordan_2014= year_2014.loc['Jordan','price']\n",
    "\n",
    "# #\n",
    "year_2015 = shoe_df.groupby(['year']).get_group('2015')\n",
    "year_2015 = year_2015.groupby('brand').mean()\n",
    "air_avg_price_2015 = year_2015.loc['Air','price']\n",
    "nike_avg_price_2015 = year_2015.loc['Nike','price']\n",
    "nike_2015 = nike_avg_price_2015 + air_avg_price_2015\n",
    "adidas_2015 = year_2015.loc['adidas','price']\n",
    "jordan_2015= year_2013.loc['Jordan','price']\n",
    "\n",
    "\n",
    "# # year_2016 = shoe_df.groupby(['year']).get_group('2016')\n",
    "year_2017 = shoe_df.groupby(['year']).get_group('2017')\n",
    "year_2017 = year_2017.groupby('brand').mean()\n",
    "air_avg_price_2017 = year_2017.loc['Air','price']\n",
    "nike_avg_price_2017 = year_2017.loc['Nike','price']\n",
    "nike_2017 = nike_avg_price_2017 + air_avg_price_2017\n",
    "adidas_2017 = year_2017.loc['adidas','price']\n",
    "jordan_2017= year_2017.loc['Jordan','price']\n",
    "\n",
    "\n",
    "# #\n",
    "year_2018 = shoe_df.groupby(['year']).get_group('2018')\n",
    "year_2018 = year_2018.groupby('brand').mean()\n",
    "air_avg_price_2018= year_2018.loc['Air','price']\n",
    "nike_avg_price_2018 = year_2018.loc['Nike','price']\n",
    "nike_2018 = nike_avg_price_2018 + air_avg_price_2018\n",
    "adidas_2018 = year_2018.loc['adidas','price']\n",
    "jordan_2018= year_2018.loc['Jordan','price']\n",
    "\n",
    "# #\n",
    "year_2019 = shoe_df.groupby(['year']).get_group('2019')\n",
    "year_2019 = year_2019.groupby('brand').mean()\n",
    "air_avg_price_2019 = year_2019.loc['Air','price']\n",
    "nike_avg_price_2019 = year_2019.loc['Nike','price']\n",
    "nike_2019 = nike_avg_price_2019 + air_avg_price_2019\n",
    "adidas_2019 = year_2019.loc['adidas','price']\n",
    "jordan_2019= year_2019.loc['Jordan','price']"
   ]
  },
  {
   "cell_type": "code",
   "execution_count": null,
   "metadata": {},
   "outputs": [],
   "source": [
    "adidas = {'Price': [0,0, 0, 0, 0, 0, 0, 0, 0, 0, adidas_2008, adidas_2009, adidas_2010, adidas_2011, adidas_2012, adidas_2013, adidas_2014, adidas_2015, adidas_2017, adidas_2018, adidas_2019],\n",
    "        'Year': [1998, 1999, 2000, 2001, 2002, 2003, 2004, 2005, 2006,2007,2008 , 2009, 2010, 2011, 2012, 2013, 2014, 2015, 2017, 2018, 2019]}\n",
    "adidas_by_years = pd.DataFrame(adidas) \n",
    "\n",
    "nike = {'Price': [0, nike_1999, 0, nike_2001, nike_2002, nike_2003, nike_2004, nike_2005, nike_2006, nike_2007, nike_2008, nike_2009, nike_2010, nike_2011, nike_2012, nike_2013, nike_2014, nike_2015, nike_2017, nike_2018, nike_2019],\n",
    "        'Year': [1998, 1999, 2000, 2001, 2002, 2003, 2004, 2005, 2006,2007,2008 , 2009, 2010, 2011, 2012, 2013, 2014, 2015, 2017, 2018, 2019]}\n",
    "nike_by_years = pd.DataFrame(nike)\n",
    "\n",
    "jordan = {'Price': [jordan_1998, nike_1999, jordan_2000, jordan_2001, jordan_2002, jordan_2003, jordan_2004, jordan_2005, jordan_2006, jordan_2007, jordan_2008, jordan_2009, jordan_2010, jordan_2011, jordan_2012, jordan_2013, jordan_2014, jordan_2015, jordan_2017, jordan_2018, jordan_2019],\n",
    "        'Year': [1998, 1999, 2000, 2001, 2002, 2003, 2004, 2005, 2006,2007,2008 , 2009, 2010, 2011, 2012, 2013, 2014, 2015, 2017, 2018, 2019]}\n",
    "jordan_by_years = pd.DataFrame(jordan)\n"
   ]
  },
  {
   "cell_type": "code",
   "execution_count": null,
   "metadata": {},
   "outputs": [],
   "source": [
    "plt.plot(jordan_by_years['Year'], jordan_by_years['Price'],'-r')"
   ]
  },
  {
   "cell_type": "code",
   "execution_count": null,
   "metadata": {},
   "outputs": [],
   "source": [
    "plt.plot(nike_by_years['Year'], nike_by_years['Price'],'-r')"
   ]
  },
  {
   "cell_type": "code",
   "execution_count": null,
   "metadata": {},
   "outputs": [],
   "source": [
    "plt.plot(adidas_by_years['Year'], adidas_by_years['Price'],'-r')"
   ]
  },
  {
   "cell_type": "markdown",
   "metadata": {},
   "source": [
    "# Graphs combined\n",
    "> I only used the average from adidas, jordan, and nike because they are the main brands. Yes there are more but these are the more important ones tbh"
   ]
  },
  {
   "cell_type": "code",
   "execution_count": null,
   "metadata": {},
   "outputs": [],
   "source": [
    "plt.plot(adidas_by_years['Year'], adidas_by_years['Price'],'-g', label='adidas')\n",
    "plt.plot(nike_by_years['Year'], nike_by_years['Price'],'-b', label='nike')\n",
    "plt.plot(jordan_by_years['Year'], jordan_by_years['Price'],'-r', label='jordan')\n",
    "plt.xlabel('years')\n",
    "plt.ylabel('price')\n",
    "plt.legend()\n",
    "plt.grid(True)"
   ]
  },
  {
   "cell_type": "code",
   "execution_count": null,
   "metadata": {},
   "outputs": [],
   "source": [
    "year_1999 = shoe_df.groupby(['year']).get_group('1999')\n",
    "year_1998 = shoe_df.groupby(['year']).get_group('1998')\n",
    "year_2000 = shoe_df.groupby(['year']).get_group('2000')\n",
    "year_2001 = shoe_df.groupby(['year']).get_group('2001')\n",
    "year_2002 = shoe_df.groupby(['year']).get_group('2002')\n",
    "year_2003 = shoe_df.groupby(['year']).get_group('2003')\n",
    "year_2004 = shoe_df.groupby(['year']).get_group('2004')\n",
    "year_2005 = shoe_df.groupby(['year']).get_group('2005')\n",
    "year_2006 = shoe_df.groupby(['year']).get_group('2006')\n",
    "year_2007 = shoe_df.groupby(['year']).get_group('2007')\n",
    "year_2008 = shoe_df.groupby(['year']).get_group('2008')\n",
    "year_2009 = shoe_df.groupby(['year']).get_group('2009')\n",
    "year_2010 = shoe_df.groupby(['year']).get_group('2010')\n",
    "year_2011 = shoe_df.groupby(['year']).get_group('2011')\n",
    "year_2012 = shoe_df.groupby(['year']).get_group('2012')\n",
    "year_2013 = shoe_df.groupby(['year']).get_group('2013')\n",
    "year_2014 = shoe_df.groupby(['year']).get_group('2014')\n",
    "year_2015 = shoe_df.groupby(['year']).get_group('2015')\n",
    "year_2017 = shoe_df.groupby(['year']).get_group('2017')\n",
    "year_2018 = shoe_df.groupby(['year']).get_group('2018')\n",
    "year_2019 = shoe_df.groupby(['year']).get_group('2019')"
   ]
  },
  {
   "cell_type": "code",
   "execution_count": null,
   "metadata": {},
   "outputs": [],
   "source": [
    "avg_table = all_years.groupby('brand').mean()\n",
    "# avg_table"
   ]
  },
  {
   "cell_type": "code",
   "execution_count": null,
   "metadata": {},
   "outputs": [],
   "source": [
    "nike_pt1 = avg_table.loc['Nike']\n",
    "nike_pt2 = avg_table.loc['Air']\n",
    "nike_pt3 = avg_table.loc['Off-White']\n",
    "nike_pt4 = avg_table.loc['VaporMax']\n",
    "nike_pt5 = avg_table.loc['Dunk']\n",
    "leBron = avg_table.loc['LeBron']\n",
    "lebron = avg_table.loc['Lebron']\n",
    "#######\n",
    "main_nike = ((nike_pt1 +nike_pt2 + nike_pt3 + nike_pt4 + nike_pt5 + leBron + lebron)/7)\n",
    "#######\n",
    "adidas_pt1 = avg_table.loc['adidas']\n",
    "adidas_pt2 = avg_table.loc['Adidas']\n",
    "main_adidas = ((adidas_pt1 + adidas_pt2)/2)\n",
    "#######\n",
    "asics = avg_table.loc['ASICS']\n",
    "balenciaga = avg_table.loc['Balenciaga']\n",
    "reebok = avg_table.loc['Reebok']\n",
    "new_balace = avg_table.loc['New']\n",
    "########\n",
    "jordan = avg_table.loc['Jordan']\n",
    "air_jordan = avg_table.loc['Air']\n",
    "main_jordan = ((jordan+air_jordan)/2)\n",
    "\n",
    "nike_avg_price = float(main_nike)\n",
    "adidas_avg_price = float(main_adidas)\n",
    "jordan_avg_price = float(main_jordan)\n",
    "asics_avg_price = avg_table.loc['ASICS','price']\n",
    "balenciaga_avg_price = avg_table.loc['Balenciaga','price']\n",
    "reebok_avg_price = avg_table.loc['Reebok','price']\n",
    "new_balance_avg_price = avg_table.loc['New','price']"
   ]
  },
  {
   "cell_type": "code",
   "execution_count": null,
   "metadata": {},
   "outputs": [],
   "source": [
    "data = {'Price': [nike_avg_price, adidas_avg_price, asics_avg_price, balenciaga_avg_price, \n",
    "                  reebok_avg_price, new_balance_avg_price, jordan_avg_price],\n",
    "        'Brand': ['Nike', 'adidas', 'asics', 'balenci', 'reebok', 'new', 'jordan']}\n",
    "newdf = pd.DataFrame(data)"
   ]
  },
  {
   "cell_type": "code",
   "execution_count": null,
   "metadata": {},
   "outputs": [],
   "source": [
    "index = np.arange(len(newdf))\n",
    "plt.bar(index, newdf['Price'])\n",
    "plt.xlabel('Brand', fontsize=10)\n",
    "plt.ylabel('Prices(nearest hundred)', fontsize=10)\n",
    "plt.xticks(index, newdf['Brand'], fontsize=10, rotation=10)\n",
    "plt.title('Shoe Prices')\n",
    "plt.show()"
   ]
  },
  {
   "cell_type": "code",
   "execution_count": null,
   "metadata": {},
   "outputs": [],
   "source": []
  }
 ],
 "metadata": {
  "kernelspec": {
   "display_name": "Python 3",
   "language": "python",
   "name": "python3"
  },
  "language_info": {
   "codemirror_mode": {
    "name": "ipython",
    "version": 3
   },
   "file_extension": ".py",
   "mimetype": "text/x-python",
   "name": "python",
   "nbconvert_exporter": "python",
   "pygments_lexer": "ipython3",
   "version": "3.7.3"
  }
 },
 "nbformat": 4,
 "nbformat_minor": 4
}
