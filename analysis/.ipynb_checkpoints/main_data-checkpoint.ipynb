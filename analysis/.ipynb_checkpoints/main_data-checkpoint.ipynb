{
 "cells": [
  {
   "cell_type": "code",
   "execution_count": 2,
   "metadata": {},
   "outputs": [],
   "source": [
    "import pandas as pd\n",
    "import sqlite3\n",
    "import matplotlib.pyplot as plt"
   ]
  },
  {
   "cell_type": "code",
   "execution_count": 3,
   "metadata": {},
   "outputs": [],
   "source": [
    "conn = sqlite3.connect(\"../sneaker_scraper/main_sneakers.db\")"
   ]
  },
  {
   "cell_type": "code",
   "execution_count": 4,
   "metadata": {},
   "outputs": [],
   "source": [
    "before_2001 = pd.read_sql_query(\"select * from before_2001;\", conn)\n",
    "year_2001 = pd.read_sql_query(\"select * from year2001;\", conn)\n",
    "year_2002 = pd.read_sql_query(\"select * from year2002;\", conn)\n",
    "year_2003 = pd.read_sql_query(\"select * from year2003;\", conn)\n",
    "year_2004 = pd.read_sql_query(\"select * from year2004;\", conn)\n",
    "year_2005 = pd.read_sql_query(\"select * from year2005;\", conn)\n",
    "year_2006 = pd.read_sql_query(\"select * from year2006;\", conn)\n",
    "year_2007 = pd.read_sql_query(\"select * from year2007;\", conn)\n",
    "year_greater = pd.read_sql_query(\"select * from year2008_and_09;\", conn)"
   ]
  },
  {
   "cell_type": "code",
   "execution_count": 5,
   "metadata": {},
   "outputs": [],
   "source": [
    "all_years = pd.concat([before_2001, year_2001, year_2002, year_2003, year_2004, year_2005, year_2006, year_2007, year_greater])"
   ]
  },
  {
   "cell_type": "code",
   "execution_count": 30,
   "metadata": {},
   "outputs": [],
   "source": [
    "all_years.to_csv('sneakers.csv')"
   ]
  },
  {
   "cell_type": "code",
   "execution_count": 8,
   "metadata": {},
   "outputs": [],
   "source": [
    "# all_years\n",
    "all_years = all_years.drop_duplicates(subset=\"sneaker\", keep=\"first\")"
   ]
  },
  {
   "cell_type": "code",
   "execution_count": 10,
   "metadata": {},
   "outputs": [],
   "source": [
    "test = all_years.head()"
   ]
  },
  {
   "cell_type": "code",
   "execution_count": 11,
   "metadata": {},
   "outputs": [
    {
     "data": {
      "text/html": [
       "<div>\n",
       "<style scoped>\n",
       "    .dataframe tbody tr th:only-of-type {\n",
       "        vertical-align: middle;\n",
       "    }\n",
       "\n",
       "    .dataframe tbody tr th {\n",
       "        vertical-align: top;\n",
       "    }\n",
       "\n",
       "    .dataframe thead th {\n",
       "        text-align: right;\n",
       "    }\n",
       "</style>\n",
       "<table border=\"1\" class=\"dataframe\">\n",
       "  <thead>\n",
       "    <tr style=\"text-align: right;\">\n",
       "      <th></th>\n",
       "      <th>id</th>\n",
       "      <th>sneaker</th>\n",
       "      <th>price</th>\n",
       "      <th>brand</th>\n",
       "      <th>date</th>\n",
       "    </tr>\n",
       "  </thead>\n",
       "  <tbody>\n",
       "    <tr>\n",
       "      <td>0</td>\n",
       "      <td>1</td>\n",
       "      <td>['Jordan 15 OG Low Black Silver']</td>\n",
       "      <td>300</td>\n",
       "      <td>Jordan</td>\n",
       "      <td>release: 09/06/2000</td>\n",
       "    </tr>\n",
       "    <tr>\n",
       "      <td>1</td>\n",
       "      <td>2</td>\n",
       "      <td>['Jordan 15 OG Low White Red']</td>\n",
       "      <td>300</td>\n",
       "      <td>Jordan</td>\n",
       "      <td>release: 01/01/2000</td>\n",
       "    </tr>\n",
       "    <tr>\n",
       "      <td>2</td>\n",
       "      <td>3</td>\n",
       "      <td>['Jordan 15 OG Low Midnight Navy']</td>\n",
       "      <td>325</td>\n",
       "      <td>Jordan</td>\n",
       "      <td>release: 01/01/2000</td>\n",
       "    </tr>\n",
       "    <tr>\n",
       "      <td>3</td>\n",
       "      <td>4</td>\n",
       "      <td>['Jordan 14 OG Low Ginger']</td>\n",
       "      <td>755</td>\n",
       "      <td>Jordan</td>\n",
       "      <td>release: 09/15/1999</td>\n",
       "    </tr>\n",
       "    <tr>\n",
       "      <td>4</td>\n",
       "      <td>5</td>\n",
       "      <td>['Jordan 14 OG Low Columbia Blue']</td>\n",
       "      <td>399</td>\n",
       "      <td>Jordan</td>\n",
       "      <td>release: 08/04/1999</td>\n",
       "    </tr>\n",
       "  </tbody>\n",
       "</table>\n",
       "</div>"
      ],
      "text/plain": [
       "   id                             sneaker price   brand                 date\n",
       "0   1   ['Jordan 15 OG Low Black Silver']   300  Jordan  release: 09/06/2000\n",
       "1   2      ['Jordan 15 OG Low White Red']   300  Jordan  release: 01/01/2000\n",
       "2   3  ['Jordan 15 OG Low Midnight Navy']   325  Jordan  release: 01/01/2000\n",
       "3   4         ['Jordan 14 OG Low Ginger']   755  Jordan  release: 09/15/1999\n",
       "4   5  ['Jordan 14 OG Low Columbia Blue']   399  Jordan  release: 08/04/1999"
      ]
     },
     "execution_count": 11,
     "metadata": {},
     "output_type": "execute_result"
    }
   ],
   "source": [
    "test"
   ]
  },
  {
   "cell_type": "code",
   "execution_count": 38,
   "metadata": {},
   "outputs": [],
   "source": [
    "#  test.columns = test.columns.str.strip().str.lower().str.replace('release:', '')"
   ]
  },
  {
   "cell_type": "code",
   "execution_count": 39,
   "metadata": {},
   "outputs": [
    {
     "data": {
      "text/html": [
       "<div>\n",
       "<style scoped>\n",
       "    .dataframe tbody tr th:only-of-type {\n",
       "        vertical-align: middle;\n",
       "    }\n",
       "\n",
       "    .dataframe tbody tr th {\n",
       "        vertical-align: top;\n",
       "    }\n",
       "\n",
       "    .dataframe thead th {\n",
       "        text-align: right;\n",
       "    }\n",
       "</style>\n",
       "<table border=\"1\" class=\"dataframe\">\n",
       "  <thead>\n",
       "    <tr style=\"text-align: right;\">\n",
       "      <th></th>\n",
       "      <th>id</th>\n",
       "      <th>sneaker</th>\n",
       "      <th>price</th>\n",
       "      <th>brand</th>\n",
       "      <th>date</th>\n",
       "    </tr>\n",
       "  </thead>\n",
       "  <tbody>\n",
       "    <tr>\n",
       "      <td>0</td>\n",
       "      <td>1</td>\n",
       "      <td>jordan 15 og low black silver'</td>\n",
       "      <td>300</td>\n",
       "      <td>Jordan</td>\n",
       "      <td>release: 09/06/2000</td>\n",
       "    </tr>\n",
       "    <tr>\n",
       "      <td>1</td>\n",
       "      <td>2</td>\n",
       "      <td>jordan 15 og low white red'</td>\n",
       "      <td>300</td>\n",
       "      <td>Jordan</td>\n",
       "      <td>release: 01/01/2000</td>\n",
       "    </tr>\n",
       "    <tr>\n",
       "      <td>2</td>\n",
       "      <td>3</td>\n",
       "      <td>jordan 15 og low midnight navy'</td>\n",
       "      <td>325</td>\n",
       "      <td>Jordan</td>\n",
       "      <td>release: 01/01/2000</td>\n",
       "    </tr>\n",
       "    <tr>\n",
       "      <td>3</td>\n",
       "      <td>4</td>\n",
       "      <td>jordan 14 og low ginger'</td>\n",
       "      <td>755</td>\n",
       "      <td>Jordan</td>\n",
       "      <td>release: 09/15/1999</td>\n",
       "    </tr>\n",
       "    <tr>\n",
       "      <td>4</td>\n",
       "      <td>5</td>\n",
       "      <td>jordan 14 og low columbia blue'</td>\n",
       "      <td>399</td>\n",
       "      <td>Jordan</td>\n",
       "      <td>release: 08/04/1999</td>\n",
       "    </tr>\n",
       "  </tbody>\n",
       "</table>\n",
       "</div>"
      ],
      "text/plain": [
       "   id                          sneaker price   brand                 date\n",
       "0   1   jordan 15 og low black silver'   300  Jordan  release: 09/06/2000\n",
       "1   2      jordan 15 og low white red'   300  Jordan  release: 01/01/2000\n",
       "2   3  jordan 15 og low midnight navy'   325  Jordan  release: 01/01/2000\n",
       "3   4         jordan 14 og low ginger'   755  Jordan  release: 09/15/1999\n",
       "4   5  jordan 14 og low columbia blue'   399  Jordan  release: 08/04/1999"
      ]
     },
     "execution_count": 39,
     "metadata": {},
     "output_type": "execute_result"
    }
   ],
   "source": [
    "test"
   ]
  },
  {
   "cell_type": "code",
   "execution_count": null,
   "metadata": {},
   "outputs": [],
   "source": []
  }
 ],
 "metadata": {
  "kernelspec": {
   "display_name": "Python 3",
   "language": "python",
   "name": "python3"
  },
  "language_info": {
   "codemirror_mode": {
    "name": "ipython",
    "version": 3
   },
   "file_extension": ".py",
   "mimetype": "text/x-python",
   "name": "python",
   "nbconvert_exporter": "python",
   "pygments_lexer": "ipython3",
   "version": "3.7.3"
  }
 },
 "nbformat": 4,
 "nbformat_minor": 4
}
