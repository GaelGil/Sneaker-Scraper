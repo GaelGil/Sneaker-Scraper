{
 "cells": [
  {
   "cell_type": "code",
   "execution_count": 1,
   "metadata": {},
   "outputs": [],
   "source": [
    "import pandas as pd\n",
    "import sqlite3\n",
    "import matplotlib.pyplot as plt\n",
    "import numpy as np"
   ]
  },
  {
   "cell_type": "code",
   "execution_count": 7,
   "metadata": {},
   "outputs": [
    {
     "name": "stdout",
     "output_type": "stream",
     "text": [
      "items.json        main_sneakers.db  scrapy.cfg        \u001b[34mshoes\u001b[m\u001b[m/\n"
     ]
    }
   ],
   "source": [
    "ls ../sneaker_scraper/"
   ]
  },
  {
   "cell_type": "code",
   "execution_count": 8,
   "metadata": {},
   "outputs": [],
   "source": [
    "conn = sqlite3.connect(\"../sneaker_scraper/main_sneakers.db\")"
   ]
  },
  {
   "cell_type": "code",
   "execution_count": 14,
   "metadata": {},
   "outputs": [],
   "source": [
    "df_before_2001 = pd.read_sql_query(\"select * from before_2001;\", conn)\n",
    "df_2001 = pd.read_sql_query(\"select * from year2001;\", conn)\n",
    "df_2002 = pd.read_sql_query(\"select * from year2002;\", conn)"
   ]
  },
  {
   "cell_type": "code",
   "execution_count": 16,
   "metadata": {},
   "outputs": [
    {
     "data": {
      "text/html": [
       "<div>\n",
       "<style scoped>\n",
       "    .dataframe tbody tr th:only-of-type {\n",
       "        vertical-align: middle;\n",
       "    }\n",
       "\n",
       "    .dataframe tbody tr th {\n",
       "        vertical-align: top;\n",
       "    }\n",
       "\n",
       "    .dataframe thead th {\n",
       "        text-align: right;\n",
       "    }\n",
       "</style>\n",
       "<table border=\"1\" class=\"dataframe\">\n",
       "  <thead>\n",
       "    <tr style=\"text-align: right;\">\n",
       "      <th></th>\n",
       "      <th>id</th>\n",
       "      <th>sneaker</th>\n",
       "      <th>price</th>\n",
       "      <th>brand</th>\n",
       "      <th>date</th>\n",
       "    </tr>\n",
       "  </thead>\n",
       "  <tbody>\n",
       "    <tr>\n",
       "      <td>0</td>\n",
       "      <td>1</td>\n",
       "      <td>['Jordan 16 OG Low Black / Chrome']</td>\n",
       "      <td>265</td>\n",
       "      <td>Jordan</td>\n",
       "      <td>release: 09/29/2001</td>\n",
       "    </tr>\n",
       "    <tr>\n",
       "      <td>1</td>\n",
       "      <td>2</td>\n",
       "      <td>['Jordan 11 Retro Low Pink Snakeskin (2001) (W)']</td>\n",
       "      <td>900</td>\n",
       "      <td>Jordan</td>\n",
       "      <td>release: 05/26/2001</td>\n",
       "    </tr>\n",
       "    <tr>\n",
       "      <td>2</td>\n",
       "      <td>3</td>\n",
       "      <td>['Jordan 11 Retro Low Columbia Blue (2001)']</td>\n",
       "      <td>222</td>\n",
       "      <td>Jordan</td>\n",
       "      <td>release: 04/14/2001</td>\n",
       "    </tr>\n",
       "    <tr>\n",
       "      <td>3</td>\n",
       "      <td>4</td>\n",
       "      <td>['Jordan 11 Retro Low Cherry (2001)']</td>\n",
       "      <td>280</td>\n",
       "      <td>Jordan</td>\n",
       "      <td>release: 04/14/2001</td>\n",
       "    </tr>\n",
       "    <tr>\n",
       "      <td>4</td>\n",
       "      <td>5</td>\n",
       "      <td>['Jordan 11 Retro Low Metallic Silver (W)']</td>\n",
       "      <td>380</td>\n",
       "      <td>Jordan</td>\n",
       "      <td>release: 04/14/2001</td>\n",
       "    </tr>\n",
       "    <tr>\n",
       "      <td>5</td>\n",
       "      <td>6</td>\n",
       "      <td>['Jordan 11 Retro Low Citrus (2001) (W)']</td>\n",
       "      <td>575</td>\n",
       "      <td>Jordan</td>\n",
       "      <td>release: 04/14/2001</td>\n",
       "    </tr>\n",
       "    <tr>\n",
       "      <td>6</td>\n",
       "      <td>7</td>\n",
       "      <td>['Air Force 1 High Sheed Black Patent']</td>\n",
       "      <td>279</td>\n",
       "      <td>Air</td>\n",
       "      <td>release: 04/01/2001</td>\n",
       "    </tr>\n",
       "  </tbody>\n",
       "</table>\n",
       "</div>"
      ],
      "text/plain": [
       "   id                                            sneaker price   brand  \\\n",
       "0   1                ['Jordan 16 OG Low Black / Chrome']   265  Jordan   \n",
       "1   2  ['Jordan 11 Retro Low Pink Snakeskin (2001) (W)']   900  Jordan   \n",
       "2   3       ['Jordan 11 Retro Low Columbia Blue (2001)']   222  Jordan   \n",
       "3   4              ['Jordan 11 Retro Low Cherry (2001)']   280  Jordan   \n",
       "4   5        ['Jordan 11 Retro Low Metallic Silver (W)']   380  Jordan   \n",
       "5   6          ['Jordan 11 Retro Low Citrus (2001) (W)']   575  Jordan   \n",
       "6   7            ['Air Force 1 High Sheed Black Patent']   279     Air   \n",
       "\n",
       "                  date  \n",
       "0  release: 09/29/2001  \n",
       "1  release: 05/26/2001  \n",
       "2  release: 04/14/2001  \n",
       "3  release: 04/14/2001  \n",
       "4  release: 04/14/2001  \n",
       "5  release: 04/14/2001  \n",
       "6  release: 04/01/2001  "
      ]
     },
     "execution_count": 16,
     "metadata": {},
     "output_type": "execute_result"
    }
   ],
   "source": [
    "df_2001"
   ]
  },
  {
   "cell_type": "code",
   "execution_count": null,
   "metadata": {},
   "outputs": [],
   "source": [
    "#make all csv to clean later"
   ]
  }
 ],
 "metadata": {
  "kernelspec": {
   "display_name": "Python 3",
   "language": "python",
   "name": "python3"
  },
  "language_info": {
   "codemirror_mode": {
    "name": "ipython",
    "version": 3
   },
   "file_extension": ".py",
   "mimetype": "text/x-python",
   "name": "python",
   "nbconvert_exporter": "python",
   "pygments_lexer": "ipython3",
   "version": "3.7.3"
  }
 },
 "nbformat": 4,
 "nbformat_minor": 4
}
