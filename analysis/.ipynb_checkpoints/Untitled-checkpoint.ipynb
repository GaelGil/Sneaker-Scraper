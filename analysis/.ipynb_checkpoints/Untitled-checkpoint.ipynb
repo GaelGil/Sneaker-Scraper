{
 "cells": [
  {
   "cell_type": "code",
   "execution_count": 30,
   "metadata": {},
   "outputs": [],
   "source": [
    "import pandas as pd\n",
    "import sqlite3\n",
    "import matplotlib.pyplot as plt\n",
    "import numpy as np"
   ]
  },
  {
   "cell_type": "code",
   "execution_count": 47,
   "metadata": {},
   "outputs": [
    {
     "name": "stdout",
     "output_type": "stream",
     "text": [
      "Untitled.ipynb   main_data.ipynb  sneaker_data.csv\n",
      "\u001b[34mdata\u001b[m\u001b[m             \u001b[34mrandom\u001b[m\u001b[m\n"
     ]
    }
   ],
   "source": [
    "!ls"
   ]
  },
  {
   "cell_type": "code",
   "execution_count": 67,
   "metadata": {},
   "outputs": [],
   "source": [
    "sneakers = pd.read_csv('sneaker_data.csv')"
   ]
  },
  {
   "cell_type": "code",
   "execution_count": 68,
   "metadata": {},
   "outputs": [
    {
     "name": "stdout",
     "output_type": "stream",
     "text": [
      "<class 'pandas.core.frame.DataFrame'>\n",
      "RangeIndex: 6630 entries, 0 to 6629\n",
      "Data columns (total 5 columns):\n",
      "Unnamed: 0    6630 non-null int64\n",
      "sneaker       6630 non-null object\n",
      "price         6630 non-null int64\n",
      "brand         6330 non-null object\n",
      "date          6630 non-null object\n",
      "dtypes: int64(2), object(3)\n",
      "memory usage: 259.1+ KB\n"
     ]
    }
   ],
   "source": [
    "sneakers.info()"
   ]
  },
  {
   "cell_type": "code",
   "execution_count": 74,
   "metadata": {},
   "outputs": [
    {
     "data": {
      "text/html": [
       "<div>\n",
       "<style scoped>\n",
       "    .dataframe tbody tr th:only-of-type {\n",
       "        vertical-align: middle;\n",
       "    }\n",
       "\n",
       "    .dataframe tbody tr th {\n",
       "        vertical-align: top;\n",
       "    }\n",
       "\n",
       "    .dataframe thead th {\n",
       "        text-align: right;\n",
       "    }\n",
       "</style>\n",
       "<table border=\"1\" class=\"dataframe\">\n",
       "  <thead>\n",
       "    <tr style=\"text-align: right;\">\n",
       "      <th></th>\n",
       "      <th>sneaker</th>\n",
       "      <th>price</th>\n",
       "      <th>brand</th>\n",
       "      <th>date</th>\n",
       "    </tr>\n",
       "  </thead>\n",
       "  <tbody>\n",
       "    <tr>\n",
       "      <th>0</th>\n",
       "      <td>['LeBron 11', 'Dunkman', 'LeBron 11', 'Dunkman']</td>\n",
       "      <td>170</td>\n",
       "      <td>lebron</td>\n",
       "      <td>['release: 12/31/2013']</td>\n",
       "    </tr>\n",
       "    <tr>\n",
       "      <th>1</th>\n",
       "      <td>['KD 6', 'Energy', 'KD 6', 'Energy']</td>\n",
       "      <td>135</td>\n",
       "      <td>kd</td>\n",
       "      <td>['release: 12/31/2013']</td>\n",
       "    </tr>\n",
       "    <tr>\n",
       "      <th>2</th>\n",
       "      <td>['Jordan 5 Retro', '3Lab5 Infrared', 'Jordan 5...</td>\n",
       "      <td>160</td>\n",
       "      <td>jordan</td>\n",
       "      <td>['release: 12/31/2013']</td>\n",
       "    </tr>\n",
       "    <tr>\n",
       "      <th>3</th>\n",
       "      <td>['Nike Flyknit Racer Sail Volt']</td>\n",
       "      <td>254</td>\n",
       "      <td>nike</td>\n",
       "      <td>['release: 12/30/2013']</td>\n",
       "    </tr>\n",
       "    <tr>\n",
       "      <th>4</th>\n",
       "      <td>['Air Foamposite One Oregon Ducks']</td>\n",
       "      <td>470</td>\n",
       "      <td>air</td>\n",
       "      <td>['release: 12/30/2013']</td>\n",
       "    </tr>\n",
       "    <tr>\n",
       "      <th>...</th>\n",
       "      <td>...</td>\n",
       "      <td>...</td>\n",
       "      <td>...</td>\n",
       "      <td>...</td>\n",
       "    </tr>\n",
       "    <tr>\n",
       "      <th>6625</th>\n",
       "      <td>['Air Stab', 'Dave White Neon', 'Air Stab', 'D...</td>\n",
       "      <td>277</td>\n",
       "      <td>air</td>\n",
       "      <td>['release: 01/01/2010']</td>\n",
       "    </tr>\n",
       "    <tr>\n",
       "      <th>6626</th>\n",
       "      <td>['Kobe 5', 'Miles Davis', 'Kobe 5', 'Miles Dav...</td>\n",
       "      <td>350</td>\n",
       "      <td>kobe</td>\n",
       "      <td>['release: 01/01/2010']</td>\n",
       "    </tr>\n",
       "    <tr>\n",
       "      <th>6627</th>\n",
       "      <td>['Air Maxem 1+', 'Air Attack', 'Air Maxem 1+',...</td>\n",
       "      <td>425</td>\n",
       "      <td>air</td>\n",
       "      <td>['release: 01/01/2010']</td>\n",
       "    </tr>\n",
       "    <tr>\n",
       "      <th>6628</th>\n",
       "      <td>['New Balance 1500 Colette Pig Skin Red']</td>\n",
       "      <td>666</td>\n",
       "      <td>balance</td>\n",
       "      <td>['release: 01/01/2010']</td>\n",
       "    </tr>\n",
       "    <tr>\n",
       "      <th>6629</th>\n",
       "      <td>['Air Force 1 High Futura Be True Syracuse']</td>\n",
       "      <td>699</td>\n",
       "      <td>air</td>\n",
       "      <td>['release: 01/01/2010']</td>\n",
       "    </tr>\n",
       "  </tbody>\n",
       "</table>\n",
       "<p>6630 rows × 4 columns</p>\n",
       "</div>"
      ],
      "text/plain": [
       "                                                sneaker  price    brand  \\\n",
       "0      ['LeBron 11', 'Dunkman', 'LeBron 11', 'Dunkman']    170   lebron   \n",
       "1                  ['KD 6', 'Energy', 'KD 6', 'Energy']    135       kd   \n",
       "2     ['Jordan 5 Retro', '3Lab5 Infrared', 'Jordan 5...    160   jordan   \n",
       "3                      ['Nike Flyknit Racer Sail Volt']    254     nike   \n",
       "4                   ['Air Foamposite One Oregon Ducks']    470      air   \n",
       "...                                                 ...    ...      ...   \n",
       "6625  ['Air Stab', 'Dave White Neon', 'Air Stab', 'D...    277      air   \n",
       "6626  ['Kobe 5', 'Miles Davis', 'Kobe 5', 'Miles Dav...    350     kobe   \n",
       "6627  ['Air Maxem 1+', 'Air Attack', 'Air Maxem 1+',...    425      air   \n",
       "6628          ['New Balance 1500 Colette Pig Skin Red']    666  balance   \n",
       "6629       ['Air Force 1 High Futura Be True Syracuse']    699      air   \n",
       "\n",
       "                         date  \n",
       "0     ['release: 12/31/2013']  \n",
       "1     ['release: 12/31/2013']  \n",
       "2     ['release: 12/31/2013']  \n",
       "3     ['release: 12/30/2013']  \n",
       "4     ['release: 12/30/2013']  \n",
       "...                       ...  \n",
       "6625  ['release: 01/01/2010']  \n",
       "6626  ['release: 01/01/2010']  \n",
       "6627  ['release: 01/01/2010']  \n",
       "6628  ['release: 01/01/2010']  \n",
       "6629  ['release: 01/01/2010']  \n",
       "\n",
       "[6630 rows x 4 columns]"
      ]
     },
     "execution_count": 74,
     "metadata": {},
     "output_type": "execute_result"
    }
   ],
   "source": [
    "sneakers"
   ]
  },
  {
   "cell_type": "code",
   "execution_count": null,
   "metadata": {},
   "outputs": [],
   "source": []
  }
 ],
 "metadata": {
  "kernelspec": {
   "display_name": "Python 3",
   "language": "python",
   "name": "python3"
  },
  "language_info": {
   "codemirror_mode": {
    "name": "ipython",
    "version": 3
   },
   "file_extension": ".py",
   "mimetype": "text/x-python",
   "name": "python",
   "nbconvert_exporter": "python",
   "pygments_lexer": "ipython3",
   "version": "3.7.3"
  }
 },
 "nbformat": 4,
 "nbformat_minor": 4
}
