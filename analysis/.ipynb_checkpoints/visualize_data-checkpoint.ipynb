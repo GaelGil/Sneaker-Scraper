{
 "cells": [
  {
   "cell_type": "code",
   "execution_count": 6,
   "metadata": {},
   "outputs": [
    {
     "name": "stdout",
     "output_type": "stream",
     "text": [
      "../databases/database2.db\n"
     ]
    }
   ],
   "source": [
    "! ls ../databases/database2.db"
   ]
  },
  {
   "cell_type": "code",
   "execution_count": 7,
   "metadata": {},
   "outputs": [],
   "source": [
    "import pandas as pd\n",
    "import sqlite3"
   ]
  },
  {
   "cell_type": "code",
   "execution_count": 8,
   "metadata": {},
   "outputs": [],
   "source": [
    "conn = sqlite3.connect(\"../databases/database2.db\")"
   ]
  },
  {
   "cell_type": "code",
   "execution_count": 9,
   "metadata": {},
   "outputs": [],
   "source": [
    "df = pd.read_sql_query(\"select * from sneakertable;\", conn)"
   ]
  },
  {
   "cell_type": "code",
   "execution_count": 10,
   "metadata": {},
   "outputs": [],
   "source": [
    "df = df.drop(\"id\", axis=1)"
   ]
  },
  {
   "cell_type": "code",
   "execution_count": 11,
   "metadata": {},
   "outputs": [
    {
     "data": {
      "text/html": [
       "<div>\n",
       "<style scoped>\n",
       "    .dataframe tbody tr th:only-of-type {\n",
       "        vertical-align: middle;\n",
       "    }\n",
       "\n",
       "    .dataframe tbody tr th {\n",
       "        vertical-align: top;\n",
       "    }\n",
       "\n",
       "    .dataframe thead th {\n",
       "        text-align: right;\n",
       "    }\n",
       "</style>\n",
       "<table border=\"1\" class=\"dataframe\">\n",
       "  <thead>\n",
       "    <tr style=\"text-align: right;\">\n",
       "      <th></th>\n",
       "      <th>sneaker</th>\n",
       "      <th>price</th>\n",
       "      <th>brand</th>\n",
       "    </tr>\n",
       "  </thead>\n",
       "  <tbody>\n",
       "    <tr>\n",
       "      <td>0</td>\n",
       "      <td>['adidas Yeezy Boost 350 V2 Cloud White (Non-R...</td>\n",
       "      <td>253</td>\n",
       "      <td>adidas</td>\n",
       "    </tr>\n",
       "    <tr>\n",
       "      <td>1</td>\n",
       "      <td>['adidas Yeezy Boost 350 V2 Citrin (Non-Reflec...</td>\n",
       "      <td>220</td>\n",
       "      <td>adidas</td>\n",
       "    </tr>\n",
       "    <tr>\n",
       "      <td>2</td>\n",
       "      <td>['Jordan 1 Retro High Obsidian UNC']</td>\n",
       "      <td>249</td>\n",
       "      <td>Jordan</td>\n",
       "    </tr>\n",
       "    <tr>\n",
       "      <td>3</td>\n",
       "      <td>['Jordan 1 Retro High First Class Flight']</td>\n",
       "      <td>175</td>\n",
       "      <td>Jordan</td>\n",
       "    </tr>\n",
       "    <tr>\n",
       "      <td>4</td>\n",
       "      <td>['adidas Yeezy Boost 700 V2 Hospital Blue']</td>\n",
       "      <td>276</td>\n",
       "      <td>adidas</td>\n",
       "    </tr>\n",
       "  </tbody>\n",
       "</table>\n",
       "</div>"
      ],
      "text/plain": [
       "                                             sneaker price   brand\n",
       "0  ['adidas Yeezy Boost 350 V2 Cloud White (Non-R...   253  adidas\n",
       "1  ['adidas Yeezy Boost 350 V2 Citrin (Non-Reflec...   220  adidas\n",
       "2               ['Jordan 1 Retro High Obsidian UNC']   249  Jordan\n",
       "3         ['Jordan 1 Retro High First Class Flight']   175  Jordan\n",
       "4        ['adidas Yeezy Boost 700 V2 Hospital Blue']   276  adidas"
      ]
     },
     "execution_count": 11,
     "metadata": {},
     "output_type": "execute_result"
    }
   ],
   "source": [
    "df.head()"
   ]
  },
  {
   "cell_type": "code",
   "execution_count": 92,
   "metadata": {},
   "outputs": [
    {
     "data": {
      "text/plain": [
       "sneaker    object\n",
       "price      object\n",
       "brand      object\n",
       "dtype: object"
      ]
     },
     "execution_count": 92,
     "metadata": {},
     "output_type": "execute_result"
    }
   ],
   "source": [
    "df.dtypes"
   ]
  },
  {
   "cell_type": "code",
   "execution_count": 12,
   "metadata": {},
   "outputs": [],
   "source": [
    "df = df.astype({'price': 'int32'})"
   ]
  },
  {
   "cell_type": "code",
   "execution_count": 13,
   "metadata": {},
   "outputs": [
    {
     "data": {
      "text/html": [
       "<div>\n",
       "<style scoped>\n",
       "    .dataframe tbody tr th:only-of-type {\n",
       "        vertical-align: middle;\n",
       "    }\n",
       "\n",
       "    .dataframe tbody tr th {\n",
       "        vertical-align: top;\n",
       "    }\n",
       "\n",
       "    .dataframe thead th {\n",
       "        text-align: right;\n",
       "    }\n",
       "</style>\n",
       "<table border=\"1\" class=\"dataframe\">\n",
       "  <thead>\n",
       "    <tr style=\"text-align: right;\">\n",
       "      <th></th>\n",
       "      <th>sneaker</th>\n",
       "      <th>price</th>\n",
       "      <th>brand</th>\n",
       "    </tr>\n",
       "  </thead>\n",
       "  <tbody>\n",
       "    <tr>\n",
       "      <td>0</td>\n",
       "      <td>['adidas Yeezy Boost 350 V2 Cloud White (Non-R...</td>\n",
       "      <td>253</td>\n",
       "      <td>adidas</td>\n",
       "    </tr>\n",
       "    <tr>\n",
       "      <td>595</td>\n",
       "      <td>['adidas Ultra Boost 4.0 Running White']</td>\n",
       "      <td>133</td>\n",
       "      <td>adidas</td>\n",
       "    </tr>\n",
       "    <tr>\n",
       "      <td>584</td>\n",
       "      <td>['adidas Yeezy Boost 350 V2 Beluga 2.0']</td>\n",
       "      <td>475</td>\n",
       "      <td>adidas</td>\n",
       "    </tr>\n",
       "    <tr>\n",
       "      <td>585</td>\n",
       "      <td>['adidas Yeezy 700 Mauve']</td>\n",
       "      <td>296</td>\n",
       "      <td>adidas</td>\n",
       "    </tr>\n",
       "    <tr>\n",
       "      <td>588</td>\n",
       "      <td>['adidas Yeezy Boost 350 V2 Synth (Non-Reflect...</td>\n",
       "      <td>201</td>\n",
       "      <td>adidas</td>\n",
       "    </tr>\n",
       "    <tr>\n",
       "      <td>590</td>\n",
       "      <td>['adidas Yeezy Boost 350 V2 Butter']</td>\n",
       "      <td>248</td>\n",
       "      <td>adidas</td>\n",
       "    </tr>\n",
       "    <tr>\n",
       "      <td>592</td>\n",
       "      <td>['adidas Yeezy Boost 700 Utility Black']</td>\n",
       "      <td>296</td>\n",
       "      <td>adidas</td>\n",
       "    </tr>\n",
       "    <tr>\n",
       "      <td>593</td>\n",
       "      <td>['adidas Yeezy Boost 350 V2 Glow']</td>\n",
       "      <td>397</td>\n",
       "      <td>adidas</td>\n",
       "    </tr>\n",
       "    <tr>\n",
       "      <td>597</td>\n",
       "      <td>['adidas Yeezy Boost 350 V2 Blue Tint']</td>\n",
       "      <td>394</td>\n",
       "      <td>adidas</td>\n",
       "    </tr>\n",
       "    <tr>\n",
       "      <td>608</td>\n",
       "      <td>['adidas Yeezy 500 Bone White']</td>\n",
       "      <td>210</td>\n",
       "      <td>adidas</td>\n",
       "    </tr>\n",
       "    <tr>\n",
       "      <td>598</td>\n",
       "      <td>['adidas Yeezy Boost 350 V2 Cloud White (Non-R...</td>\n",
       "      <td>247</td>\n",
       "      <td>adidas</td>\n",
       "    </tr>\n",
       "    <tr>\n",
       "      <td>599</td>\n",
       "      <td>['adidas Yeezy Boost 350 V2 Citrin (Non-Reflec...</td>\n",
       "      <td>215</td>\n",
       "      <td>adidas</td>\n",
       "    </tr>\n",
       "    <tr>\n",
       "      <td>602</td>\n",
       "      <td>['adidas Yeezy Boost 700 V2 Inertia']</td>\n",
       "      <td>285</td>\n",
       "      <td>adidas</td>\n",
       "    </tr>\n",
       "    <tr>\n",
       "      <td>603</td>\n",
       "      <td>['adidas Yeezy Boost 350 V2 Antlia (Non-Reflec...</td>\n",
       "      <td>210</td>\n",
       "      <td>adidas</td>\n",
       "    </tr>\n",
       "    <tr>\n",
       "      <td>604</td>\n",
       "      <td>['adidas Yeezy Boost 700 V2 Hospital Blue']</td>\n",
       "      <td>271</td>\n",
       "      <td>adidas</td>\n",
       "    </tr>\n",
       "    <tr>\n",
       "      <td>605</td>\n",
       "      <td>['adidas Yeezy Boost 350 V2 Lundmark (Non Refl...</td>\n",
       "      <td>208</td>\n",
       "      <td>adidas</td>\n",
       "    </tr>\n",
       "    <tr>\n",
       "      <td>583</td>\n",
       "      <td>['adidas Yeezy Boost 700 Analog']</td>\n",
       "      <td>258</td>\n",
       "      <td>adidas</td>\n",
       "    </tr>\n",
       "    <tr>\n",
       "      <td>580</td>\n",
       "      <td>['adidas Yeezy Boost 350 V2 Beluga']</td>\n",
       "      <td>600</td>\n",
       "      <td>adidas</td>\n",
       "    </tr>\n",
       "    <tr>\n",
       "      <td>579</td>\n",
       "      <td>['adidas Ultra Boost 4.0 Game of Thrones Targa...</td>\n",
       "      <td>165</td>\n",
       "      <td>adidas</td>\n",
       "    </tr>\n",
       "    <tr>\n",
       "      <td>577</td>\n",
       "      <td>['adidas Ultra Boost 4.0 Game of Thrones White...</td>\n",
       "      <td>175</td>\n",
       "      <td>adidas</td>\n",
       "    </tr>\n",
       "    <tr>\n",
       "      <td>573</td>\n",
       "      <td>['adidas Yeezy Boost 350 Moonrock']</td>\n",
       "      <td>800</td>\n",
       "      <td>adidas</td>\n",
       "    </tr>\n",
       "    <tr>\n",
       "      <td>571</td>\n",
       "      <td>['adidas Yeezy Boost 350 V2 Hyperspace']</td>\n",
       "      <td>400</td>\n",
       "      <td>adidas</td>\n",
       "    </tr>\n",
       "    <tr>\n",
       "      <td>570</td>\n",
       "      <td>['adidas Yeezy 700 V2 Static']</td>\n",
       "      <td>480</td>\n",
       "      <td>adidas</td>\n",
       "    </tr>\n",
       "    <tr>\n",
       "      <td>569</td>\n",
       "      <td>['adidas Yeezy Boost 750 Light Brown Gum (Choc...</td>\n",
       "      <td>646</td>\n",
       "      <td>adidas</td>\n",
       "    </tr>\n",
       "    <tr>\n",
       "      <td>563</td>\n",
       "      <td>['adidas Ultra Boost 4.0 Triple Black']</td>\n",
       "      <td>166</td>\n",
       "      <td>adidas</td>\n",
       "    </tr>\n",
       "    <tr>\n",
       "      <td>557</td>\n",
       "      <td>['adidas Yeezy 500 Blush']</td>\n",
       "      <td>275</td>\n",
       "      <td>adidas</td>\n",
       "    </tr>\n",
       "    <tr>\n",
       "      <td>556</td>\n",
       "      <td>['adidas Ultra Boost Mid Run Thru Time']</td>\n",
       "      <td>87</td>\n",
       "      <td>adidas</td>\n",
       "    </tr>\n",
       "    <tr>\n",
       "      <td>555</td>\n",
       "      <td>['adidas Tennis HU Pharrell Multi-Color']</td>\n",
       "      <td>95</td>\n",
       "      <td>adidas</td>\n",
       "    </tr>\n",
       "    <tr>\n",
       "      <td>553</td>\n",
       "      <td>['adidas Yeezy Powerphase Calabasas Core White']</td>\n",
       "      <td>179</td>\n",
       "      <td>adidas</td>\n",
       "    </tr>\n",
       "    <tr>\n",
       "      <td>549</td>\n",
       "      <td>['adidas Ultra Boost 1.0 SNS X Social Status']</td>\n",
       "      <td>199</td>\n",
       "      <td>adidas</td>\n",
       "    </tr>\n",
       "    <tr>\n",
       "      <td>544</td>\n",
       "      <td>['adidas Ultra Boost 4.0 Chinese New Year (201...</td>\n",
       "      <td>168</td>\n",
       "      <td>adidas</td>\n",
       "    </tr>\n",
       "    <tr>\n",
       "      <td>542</td>\n",
       "      <td>['adidas Ultra Boost Mid Ronnie Fieg']</td>\n",
       "      <td>249</td>\n",
       "      <td>adidas</td>\n",
       "    </tr>\n",
       "    <tr>\n",
       "      <td>1</td>\n",
       "      <td>['adidas Yeezy Boost 350 V2 Citrin (Non-Reflec...</td>\n",
       "      <td>220</td>\n",
       "      <td>adidas</td>\n",
       "    </tr>\n",
       "    <tr>\n",
       "      <td>607</td>\n",
       "      <td>['adidas Yeezy Boost 350 V2 Cream/Triple White']</td>\n",
       "      <td>257</td>\n",
       "      <td>adidas</td>\n",
       "    </tr>\n",
       "    <tr>\n",
       "      <td>609</td>\n",
       "      <td>['adidas Yeezy Boost 350 V2 Semi Frozen Yellow']</td>\n",
       "      <td>263</td>\n",
       "      <td>adidas</td>\n",
       "    </tr>\n",
       "    <tr>\n",
       "      <td>532</td>\n",
       "      <td>['adidas Ultra Boost Uncaged Hypebeast']</td>\n",
       "      <td>798</td>\n",
       "      <td>adidas</td>\n",
       "    </tr>\n",
       "    <tr>\n",
       "      <td>656</td>\n",
       "      <td>['adidas Yeezy Boost 350 V2 Semi Frozen Yellow']</td>\n",
       "      <td>260</td>\n",
       "      <td>adidas</td>\n",
       "    </tr>\n",
       "    <tr>\n",
       "      <td>647</td>\n",
       "      <td>['adidas Yeezy Boost 350 V2 Citrin (Non-Reflec...</td>\n",
       "      <td>218</td>\n",
       "      <td>adidas</td>\n",
       "    </tr>\n",
       "    <tr>\n",
       "      <td>650</td>\n",
       "      <td>['adidas Yeezy Boost 700 V2 Hospital Blue']</td>\n",
       "      <td>271</td>\n",
       "      <td>adidas</td>\n",
       "    </tr>\n",
       "    <tr>\n",
       "      <td>652</td>\n",
       "      <td>['adidas Yeezy Boost 350 V2 Cream/Triple White']</td>\n",
       "      <td>257</td>\n",
       "      <td>adidas</td>\n",
       "    </tr>\n",
       "    <tr>\n",
       "      <td>653</td>\n",
       "      <td>['adidas Yeezy Boost 350 V2 Lundmark (Non Refl...</td>\n",
       "      <td>208</td>\n",
       "      <td>adidas</td>\n",
       "    </tr>\n",
       "    <tr>\n",
       "      <td>654</td>\n",
       "      <td>['adidas Yeezy 500 Bone White']</td>\n",
       "      <td>209</td>\n",
       "      <td>adidas</td>\n",
       "    </tr>\n",
       "    <tr>\n",
       "      <td>655</td>\n",
       "      <td>['adidas Yeezy Boost 700 Magnet']</td>\n",
       "      <td>304</td>\n",
       "      <td>adidas</td>\n",
       "    </tr>\n",
       "    <tr>\n",
       "      <td>658</td>\n",
       "      <td>['adidas Yeezy Boost 350 V2 Sesame']</td>\n",
       "      <td>259</td>\n",
       "      <td>adidas</td>\n",
       "    </tr>\n",
       "    <tr>\n",
       "      <td>610</td>\n",
       "      <td>['adidas Yeezy Boost 700 Magnet']</td>\n",
       "      <td>304</td>\n",
       "      <td>adidas</td>\n",
       "    </tr>\n",
       "    <tr>\n",
       "      <td>659</td>\n",
       "      <td>['adidas Yeezy Boost 350 V2 Clay']</td>\n",
       "      <td>212</td>\n",
       "      <td>adidas</td>\n",
       "    </tr>\n",
       "    <tr>\n",
       "      <td>662</td>\n",
       "      <td>['adidas Yeezy Boost 700 Wave Runner Solid Grey']</td>\n",
       "      <td>410</td>\n",
       "      <td>adidas</td>\n",
       "    </tr>\n",
       "    <tr>\n",
       "      <td>663</td>\n",
       "      <td>['adidas Yeezy Boost 350 V2 Zebra']</td>\n",
       "      <td>398</td>\n",
       "      <td>adidas</td>\n",
       "    </tr>\n",
       "    <tr>\n",
       "      <td>664</td>\n",
       "      <td>['adidas Yeezy Boost 700 V2 Geode']</td>\n",
       "      <td>248</td>\n",
       "      <td>adidas</td>\n",
       "    </tr>\n",
       "    <tr>\n",
       "      <td>665</td>\n",
       "      <td>['adidas Yeezy Boost 350 V2 Static (Non-Reflec...</td>\n",
       "      <td>324</td>\n",
       "      <td>adidas</td>\n",
       "    </tr>\n",
       "  </tbody>\n",
       "</table>\n",
       "</div>"
      ],
      "text/plain": [
       "                                               sneaker  price   brand\n",
       "0    ['adidas Yeezy Boost 350 V2 Cloud White (Non-R...    253  adidas\n",
       "595           ['adidas Ultra Boost 4.0 Running White']    133  adidas\n",
       "584           ['adidas Yeezy Boost 350 V2 Beluga 2.0']    475  adidas\n",
       "585                         ['adidas Yeezy 700 Mauve']    296  adidas\n",
       "588  ['adidas Yeezy Boost 350 V2 Synth (Non-Reflect...    201  adidas\n",
       "590               ['adidas Yeezy Boost 350 V2 Butter']    248  adidas\n",
       "592           ['adidas Yeezy Boost 700 Utility Black']    296  adidas\n",
       "593                 ['adidas Yeezy Boost 350 V2 Glow']    397  adidas\n",
       "597            ['adidas Yeezy Boost 350 V2 Blue Tint']    394  adidas\n",
       "608                    ['adidas Yeezy 500 Bone White']    210  adidas\n",
       "598  ['adidas Yeezy Boost 350 V2 Cloud White (Non-R...    247  adidas\n",
       "599  ['adidas Yeezy Boost 350 V2 Citrin (Non-Reflec...    215  adidas\n",
       "602              ['adidas Yeezy Boost 700 V2 Inertia']    285  adidas\n",
       "603  ['adidas Yeezy Boost 350 V2 Antlia (Non-Reflec...    210  adidas\n",
       "604        ['adidas Yeezy Boost 700 V2 Hospital Blue']    271  adidas\n",
       "605  ['adidas Yeezy Boost 350 V2 Lundmark (Non Refl...    208  adidas\n",
       "583                  ['adidas Yeezy Boost 700 Analog']    258  adidas\n",
       "580               ['adidas Yeezy Boost 350 V2 Beluga']    600  adidas\n",
       "579  ['adidas Ultra Boost 4.0 Game of Thrones Targa...    165  adidas\n",
       "577  ['adidas Ultra Boost 4.0 Game of Thrones White...    175  adidas\n",
       "573                ['adidas Yeezy Boost 350 Moonrock']    800  adidas\n",
       "571           ['adidas Yeezy Boost 350 V2 Hyperspace']    400  adidas\n",
       "570                     ['adidas Yeezy 700 V2 Static']    480  adidas\n",
       "569  ['adidas Yeezy Boost 750 Light Brown Gum (Choc...    646  adidas\n",
       "563            ['adidas Ultra Boost 4.0 Triple Black']    166  adidas\n",
       "557                         ['adidas Yeezy 500 Blush']    275  adidas\n",
       "556           ['adidas Ultra Boost Mid Run Thru Time']     87  adidas\n",
       "555          ['adidas Tennis HU Pharrell Multi-Color']     95  adidas\n",
       "553   ['adidas Yeezy Powerphase Calabasas Core White']    179  adidas\n",
       "549     ['adidas Ultra Boost 1.0 SNS X Social Status']    199  adidas\n",
       "544  ['adidas Ultra Boost 4.0 Chinese New Year (201...    168  adidas\n",
       "542             ['adidas Ultra Boost Mid Ronnie Fieg']    249  adidas\n",
       "1    ['adidas Yeezy Boost 350 V2 Citrin (Non-Reflec...    220  adidas\n",
       "607   ['adidas Yeezy Boost 350 V2 Cream/Triple White']    257  adidas\n",
       "609   ['adidas Yeezy Boost 350 V2 Semi Frozen Yellow']    263  adidas\n",
       "532           ['adidas Ultra Boost Uncaged Hypebeast']    798  adidas\n",
       "656   ['adidas Yeezy Boost 350 V2 Semi Frozen Yellow']    260  adidas\n",
       "647  ['adidas Yeezy Boost 350 V2 Citrin (Non-Reflec...    218  adidas\n",
       "650        ['adidas Yeezy Boost 700 V2 Hospital Blue']    271  adidas\n",
       "652   ['adidas Yeezy Boost 350 V2 Cream/Triple White']    257  adidas\n",
       "653  ['adidas Yeezy Boost 350 V2 Lundmark (Non Refl...    208  adidas\n",
       "654                    ['adidas Yeezy 500 Bone White']    209  adidas\n",
       "655                  ['adidas Yeezy Boost 700 Magnet']    304  adidas\n",
       "658               ['adidas Yeezy Boost 350 V2 Sesame']    259  adidas\n",
       "610                  ['adidas Yeezy Boost 700 Magnet']    304  adidas\n",
       "659                 ['adidas Yeezy Boost 350 V2 Clay']    212  adidas\n",
       "662  ['adidas Yeezy Boost 700 Wave Runner Solid Grey']    410  adidas\n",
       "663                ['adidas Yeezy Boost 350 V2 Zebra']    398  adidas\n",
       "664                ['adidas Yeezy Boost 700 V2 Geode']    248  adidas\n",
       "665  ['adidas Yeezy Boost 350 V2 Static (Non-Reflec...    324  adidas"
      ]
     },
     "execution_count": 13,
     "metadata": {},
     "output_type": "execute_result"
    }
   ],
   "source": [
    "df.sort_values(by=['brand'], ascending=False).head(50)"
   ]
  },
  {
   "cell_type": "code",
   "execution_count": 14,
   "metadata": {},
   "outputs": [],
   "source": [
    "df = df.astype({'brand': 'str'})"
   ]
  },
  {
   "cell_type": "code",
   "execution_count": 96,
   "metadata": {},
   "outputs": [
    {
     "data": {
      "text/plain": [
       "sneaker    object\n",
       "price       int32\n",
       "brand      object\n",
       "dtype: object"
      ]
     },
     "execution_count": 96,
     "metadata": {},
     "output_type": "execute_result"
    }
   ],
   "source": [
    "df.dtypes"
   ]
  },
  {
   "cell_type": "code",
   "execution_count": 97,
   "metadata": {},
   "outputs": [],
   "source": [
    "df2 = df.head(3)"
   ]
  },
  {
   "cell_type": "code",
   "execution_count": 98,
   "metadata": {},
   "outputs": [
    {
     "data": {
      "text/html": [
       "<div>\n",
       "<style scoped>\n",
       "    .dataframe tbody tr th:only-of-type {\n",
       "        vertical-align: middle;\n",
       "    }\n",
       "\n",
       "    .dataframe tbody tr th {\n",
       "        vertical-align: top;\n",
       "    }\n",
       "\n",
       "    .dataframe thead th {\n",
       "        text-align: right;\n",
       "    }\n",
       "</style>\n",
       "<table border=\"1\" class=\"dataframe\">\n",
       "  <thead>\n",
       "    <tr style=\"text-align: right;\">\n",
       "      <th></th>\n",
       "      <th>sneaker</th>\n",
       "      <th>price</th>\n",
       "      <th>brand</th>\n",
       "    </tr>\n",
       "  </thead>\n",
       "  <tbody>\n",
       "    <tr>\n",
       "      <td>0</td>\n",
       "      <td>['adidas Yeezy Boost 350 V2 Cloud White (Non-R...</td>\n",
       "      <td>253</td>\n",
       "      <td>adidas</td>\n",
       "    </tr>\n",
       "    <tr>\n",
       "      <td>1</td>\n",
       "      <td>['adidas Yeezy Boost 350 V2 Citrin (Non-Reflec...</td>\n",
       "      <td>220</td>\n",
       "      <td>adidas</td>\n",
       "    </tr>\n",
       "    <tr>\n",
       "      <td>2</td>\n",
       "      <td>['Jordan 1 Retro High Obsidian UNC']</td>\n",
       "      <td>249</td>\n",
       "      <td>Jordan</td>\n",
       "    </tr>\n",
       "  </tbody>\n",
       "</table>\n",
       "</div>"
      ],
      "text/plain": [
       "                                             sneaker  price   brand\n",
       "0  ['adidas Yeezy Boost 350 V2 Cloud White (Non-R...    253  adidas\n",
       "1  ['adidas Yeezy Boost 350 V2 Citrin (Non-Reflec...    220  adidas\n",
       "2               ['Jordan 1 Retro High Obsidian UNC']    249  Jordan"
      ]
     },
     "execution_count": 98,
     "metadata": {},
     "output_type": "execute_result"
    }
   ],
   "source": [
    "df2"
   ]
  },
  {
   "cell_type": "code",
   "execution_count": 14,
   "metadata": {},
   "outputs": [],
   "source": [
    "df2.to_csv(\"data.csv\")"
   ]
  },
  {
   "cell_type": "code",
   "execution_count": 15,
   "metadata": {},
   "outputs": [
    {
     "name": "stdout",
     "output_type": "stream",
     "text": [
      "data.csv             data_analysis.ipynb  visualize_data.ipynb\n"
     ]
    }
   ],
   "source": [
    "! ls"
   ]
  },
  {
   "cell_type": "code",
   "execution_count": 16,
   "metadata": {},
   "outputs": [
    {
     "name": "stdout",
     "output_type": "stream",
     "text": [
      ",sneaker,price,brand\n",
      "0,['adidas Yeezy Boost 350 V2 Cloud White (Non-Reflective)'],253,adidas\n",
      "1,['adidas Yeezy Boost 350 V2 Citrin (Non-Reflective)'],220,adidas\n",
      "2,['Jordan 1 Retro High Obsidian UNC'],249,Jordan\n"
     ]
    }
   ],
   "source": [
    "! head data.csv"
   ]
  },
  {
   "cell_type": "markdown",
   "metadata": {},
   "source": [
    "## Things to do\n",
    "- remove duplicates\n",
    "- clean up names by removing ' and \\[\n"
   ]
  },
  {
   "cell_type": "code",
   "execution_count": 38,
   "metadata": {},
   "outputs": [],
   "source": [
    "df_avg_price = pd.DataFrame({'adidas': [234],\n",
    "                    'nike': [180],\n",
    "                    'puma': [40]})"
   ]
  },
  {
   "cell_type": "code",
   "execution_count": 39,
   "metadata": {},
   "outputs": [
    {
     "data": {
      "text/html": [
       "<div>\n",
       "<style scoped>\n",
       "    .dataframe tbody tr th:only-of-type {\n",
       "        vertical-align: middle;\n",
       "    }\n",
       "\n",
       "    .dataframe tbody tr th {\n",
       "        vertical-align: top;\n",
       "    }\n",
       "\n",
       "    .dataframe thead th {\n",
       "        text-align: right;\n",
       "    }\n",
       "</style>\n",
       "<table border=\"1\" class=\"dataframe\">\n",
       "  <thead>\n",
       "    <tr style=\"text-align: right;\">\n",
       "      <th></th>\n",
       "      <th>0</th>\n",
       "    </tr>\n",
       "  </thead>\n",
       "  <tbody>\n",
       "    <tr>\n",
       "      <td>adidas</td>\n",
       "      <td>234</td>\n",
       "    </tr>\n",
       "    <tr>\n",
       "      <td>nike</td>\n",
       "      <td>180</td>\n",
       "    </tr>\n",
       "    <tr>\n",
       "      <td>puma</td>\n",
       "      <td>40</td>\n",
       "    </tr>\n",
       "  </tbody>\n",
       "</table>\n",
       "</div>"
      ],
      "text/plain": [
       "          0\n",
       "adidas  234\n",
       "nike    180\n",
       "puma     40"
      ]
     },
     "execution_count": 39,
     "metadata": {},
     "output_type": "execute_result"
    }
   ],
   "source": [
    "d = df_avg_price.T\n",
    "d"
   ]
  },
  {
   "cell_type": "code",
   "execution_count": 15,
   "metadata": {},
   "outputs": [],
   "source": [
    "import matplotlib.pyplot as plt"
   ]
  },
  {
   "cell_type": "code",
   "execution_count": 102,
   "metadata": {},
   "outputs": [
    {
     "data": {
      "text/plain": [
       "[<matplotlib.lines.Line2D at 0x115a18c50>]"
      ]
     },
     "execution_count": 102,
     "metadata": {},
     "output_type": "execute_result"
    },
    {
     "data": {
      "image/png": "[encoded data removed]",
      "text/plain": [
       "<Figure size 432x288 with 1 Axes>"
      ]
     },
     "metadata": {
      "needs_background": "light"
     },
     "output_type": "display_data"
    }
   ],
   "source": [
    "plt.plot(d)"
   ]
  },
  {
   "cell_type": "code",
   "execution_count": 103,
   "metadata": {},
   "outputs": [
    {
     "data": {
      "text/html": [
       "<div>\n",
       "<style scoped>\n",
       "    .dataframe tbody tr th:only-of-type {\n",
       "        vertical-align: middle;\n",
       "    }\n",
       "\n",
       "    .dataframe tbody tr th {\n",
       "        vertical-align: top;\n",
       "    }\n",
       "\n",
       "    .dataframe thead th {\n",
       "        text-align: right;\n",
       "    }\n",
       "</style>\n",
       "<table border=\"1\" class=\"dataframe\">\n",
       "  <thead>\n",
       "    <tr style=\"text-align: right;\">\n",
       "      <th></th>\n",
       "      <th>sneaker</th>\n",
       "      <th>price</th>\n",
       "      <th>brand</th>\n",
       "    </tr>\n",
       "  </thead>\n",
       "  <tbody>\n",
       "    <tr>\n",
       "      <td>0</td>\n",
       "      <td>['adidas Yeezy Boost 350 V2 Cloud White (Non-R...</td>\n",
       "      <td>253</td>\n",
       "      <td>adidas</td>\n",
       "    </tr>\n",
       "    <tr>\n",
       "      <td>1</td>\n",
       "      <td>['adidas Yeezy Boost 350 V2 Citrin (Non-Reflec...</td>\n",
       "      <td>220</td>\n",
       "      <td>adidas</td>\n",
       "    </tr>\n",
       "    <tr>\n",
       "      <td>2</td>\n",
       "      <td>['Jordan 1 Retro High Obsidian UNC']</td>\n",
       "      <td>249</td>\n",
       "      <td>Jordan</td>\n",
       "    </tr>\n",
       "    <tr>\n",
       "      <td>3</td>\n",
       "      <td>['Jordan 1 Retro High First Class Flight']</td>\n",
       "      <td>175</td>\n",
       "      <td>Jordan</td>\n",
       "    </tr>\n",
       "    <tr>\n",
       "      <td>4</td>\n",
       "      <td>['adidas Yeezy Boost 700 V2 Hospital Blue']</td>\n",
       "      <td>276</td>\n",
       "      <td>adidas</td>\n",
       "    </tr>\n",
       "  </tbody>\n",
       "</table>\n",
       "</div>"
      ],
      "text/plain": [
       "                                             sneaker  price   brand\n",
       "0  ['adidas Yeezy Boost 350 V2 Cloud White (Non-R...    253  adidas\n",
       "1  ['adidas Yeezy Boost 350 V2 Citrin (Non-Reflec...    220  adidas\n",
       "2               ['Jordan 1 Retro High Obsidian UNC']    249  Jordan\n",
       "3         ['Jordan 1 Retro High First Class Flight']    175  Jordan\n",
       "4        ['adidas Yeezy Boost 700 V2 Hospital Blue']    276  adidas"
      ]
     },
     "execution_count": 103,
     "metadata": {},
     "output_type": "execute_result"
    }
   ],
   "source": [
    "df.head()"
   ]
  },
  {
   "cell_type": "code",
   "execution_count": 16,
   "metadata": {},
   "outputs": [],
   "source": [
    "#this gets rid of duplicates\n",
    "cleaned = df.drop_duplicates(subset=\"sneaker\", keep=\"first\")"
   ]
  },
  {
   "cell_type": "code",
   "execution_count": 105,
   "metadata": {},
   "outputs": [
    {
     "data": {
      "text/html": [
       "<div>\n",
       "<style scoped>\n",
       "    .dataframe tbody tr th:only-of-type {\n",
       "        vertical-align: middle;\n",
       "    }\n",
       "\n",
       "    .dataframe tbody tr th {\n",
       "        vertical-align: top;\n",
       "    }\n",
       "\n",
       "    .dataframe thead th {\n",
       "        text-align: right;\n",
       "    }\n",
       "</style>\n",
       "<table border=\"1\" class=\"dataframe\">\n",
       "  <thead>\n",
       "    <tr style=\"text-align: right;\">\n",
       "      <th></th>\n",
       "      <th>sneaker</th>\n",
       "      <th>price</th>\n",
       "      <th>brand</th>\n",
       "    </tr>\n",
       "  </thead>\n",
       "  <tbody>\n",
       "    <tr>\n",
       "      <td>0</td>\n",
       "      <td>['adidas Yeezy Boost 350 V2 Cloud White (Non-R...</td>\n",
       "      <td>253</td>\n",
       "      <td>adidas</td>\n",
       "    </tr>\n",
       "    <tr>\n",
       "      <td>1</td>\n",
       "      <td>['adidas Yeezy Boost 350 V2 Citrin (Non-Reflec...</td>\n",
       "      <td>220</td>\n",
       "      <td>adidas</td>\n",
       "    </tr>\n",
       "    <tr>\n",
       "      <td>2</td>\n",
       "      <td>['Jordan 1 Retro High Obsidian UNC']</td>\n",
       "      <td>249</td>\n",
       "      <td>Jordan</td>\n",
       "    </tr>\n",
       "    <tr>\n",
       "      <td>3</td>\n",
       "      <td>['Jordan 1 Retro High First Class Flight']</td>\n",
       "      <td>175</td>\n",
       "      <td>Jordan</td>\n",
       "    </tr>\n",
       "    <tr>\n",
       "      <td>4</td>\n",
       "      <td>['adidas Yeezy Boost 700 V2 Hospital Blue']</td>\n",
       "      <td>276</td>\n",
       "      <td>adidas</td>\n",
       "    </tr>\n",
       "    <tr>\n",
       "      <td>...</td>\n",
       "      <td>...</td>\n",
       "      <td>...</td>\n",
       "      <td>...</td>\n",
       "    </tr>\n",
       "    <tr>\n",
       "      <td>1076</td>\n",
       "      <td>['Jordan 1 Retro High Neutral Grey Hyper Crims...</td>\n",
       "      <td>144</td>\n",
       "      <td>Jordan</td>\n",
       "    </tr>\n",
       "    <tr>\n",
       "      <td>1077</td>\n",
       "      <td>['adidas Yeezy Boost 700 Utility Black']</td>\n",
       "      <td>296</td>\n",
       "      <td>adidas</td>\n",
       "    </tr>\n",
       "    <tr>\n",
       "      <td>1078</td>\n",
       "      <td>['adidas Yeezy Boost 700 V2 Inertia']</td>\n",
       "      <td>270</td>\n",
       "      <td>adidas</td>\n",
       "    </tr>\n",
       "    <tr>\n",
       "      <td>1079</td>\n",
       "      <td>['adidas Yeezy Boost 350 V2 Trfrm']</td>\n",
       "      <td>309</td>\n",
       "      <td>adidas</td>\n",
       "    </tr>\n",
       "    <tr>\n",
       "      <td>1080</td>\n",
       "      <td>['adidas Yeezy Boost 350 V2 Blue Tint']</td>\n",
       "      <td>394</td>\n",
       "      <td>adidas</td>\n",
       "    </tr>\n",
       "  </tbody>\n",
       "</table>\n",
       "<p>1081 rows × 3 columns</p>\n",
       "</div>"
      ],
      "text/plain": [
       "                                                sneaker  price   brand\n",
       "0     ['adidas Yeezy Boost 350 V2 Cloud White (Non-R...    253  adidas\n",
       "1     ['adidas Yeezy Boost 350 V2 Citrin (Non-Reflec...    220  adidas\n",
       "2                  ['Jordan 1 Retro High Obsidian UNC']    249  Jordan\n",
       "3            ['Jordan 1 Retro High First Class Flight']    175  Jordan\n",
       "4           ['adidas Yeezy Boost 700 V2 Hospital Blue']    276  adidas\n",
       "...                                                 ...    ...     ...\n",
       "1076  ['Jordan 1 Retro High Neutral Grey Hyper Crims...    144  Jordan\n",
       "1077           ['adidas Yeezy Boost 700 Utility Black']    296  adidas\n",
       "1078              ['adidas Yeezy Boost 700 V2 Inertia']    270  adidas\n",
       "1079                ['adidas Yeezy Boost 350 V2 Trfrm']    309  adidas\n",
       "1080            ['adidas Yeezy Boost 350 V2 Blue Tint']    394  adidas\n",
       "\n",
       "[1081 rows x 3 columns]"
      ]
     },
     "execution_count": 105,
     "metadata": {},
     "output_type": "execute_result"
    }
   ],
   "source": [
    "df"
   ]
  },
  {
   "cell_type": "code",
   "execution_count": 17,
   "metadata": {},
   "outputs": [
    {
     "data": {
      "text/html": [
       "<div>\n",
       "<style scoped>\n",
       "    .dataframe tbody tr th:only-of-type {\n",
       "        vertical-align: middle;\n",
       "    }\n",
       "\n",
       "    .dataframe tbody tr th {\n",
       "        vertical-align: top;\n",
       "    }\n",
       "\n",
       "    .dataframe thead th {\n",
       "        text-align: right;\n",
       "    }\n",
       "</style>\n",
       "<table border=\"1\" class=\"dataframe\">\n",
       "  <thead>\n",
       "    <tr style=\"text-align: right;\">\n",
       "      <th></th>\n",
       "      <th>sneaker</th>\n",
       "      <th>price</th>\n",
       "      <th>brand</th>\n",
       "    </tr>\n",
       "  </thead>\n",
       "  <tbody>\n",
       "    <tr>\n",
       "      <td>0</td>\n",
       "      <td>['adidas Yeezy Boost 350 V2 Cloud White (Non-R...</td>\n",
       "      <td>253</td>\n",
       "      <td>adidas</td>\n",
       "    </tr>\n",
       "    <tr>\n",
       "      <td>1</td>\n",
       "      <td>['adidas Yeezy Boost 350 V2 Citrin (Non-Reflec...</td>\n",
       "      <td>220</td>\n",
       "      <td>adidas</td>\n",
       "    </tr>\n",
       "    <tr>\n",
       "      <td>2</td>\n",
       "      <td>['Jordan 1 Retro High Obsidian UNC']</td>\n",
       "      <td>249</td>\n",
       "      <td>Jordan</td>\n",
       "    </tr>\n",
       "    <tr>\n",
       "      <td>3</td>\n",
       "      <td>['Jordan 1 Retro High First Class Flight']</td>\n",
       "      <td>175</td>\n",
       "      <td>Jordan</td>\n",
       "    </tr>\n",
       "    <tr>\n",
       "      <td>4</td>\n",
       "      <td>['adidas Yeezy Boost 700 V2 Hospital Blue']</td>\n",
       "      <td>276</td>\n",
       "      <td>adidas</td>\n",
       "    </tr>\n",
       "    <tr>\n",
       "      <td>...</td>\n",
       "      <td>...</td>\n",
       "      <td>...</td>\n",
       "      <td>...</td>\n",
       "    </tr>\n",
       "    <tr>\n",
       "      <td>898</td>\n",
       "      <td>['Air Max Speed Turf Night Purple']</td>\n",
       "      <td>80</td>\n",
       "      <td>Air</td>\n",
       "    </tr>\n",
       "    <tr>\n",
       "      <td>987</td>\n",
       "      <td>['adidas Ultra Tech Dragon Ball Z Vegeta']</td>\n",
       "      <td>133</td>\n",
       "      <td>adidas</td>\n",
       "    </tr>\n",
       "    <tr>\n",
       "      <td>992</td>\n",
       "      <td>['adidas Ultra Boost 4.0 Orca']</td>\n",
       "      <td>110</td>\n",
       "      <td>adidas</td>\n",
       "    </tr>\n",
       "    <tr>\n",
       "      <td>1001</td>\n",
       "      <td>['adidas NMD R1 STLT Parley Core Black']</td>\n",
       "      <td>94</td>\n",
       "      <td>adidas</td>\n",
       "    </tr>\n",
       "    <tr>\n",
       "      <td>1008</td>\n",
       "      <td>['Jordan Legacy 312 Olympic']</td>\n",
       "      <td>88</td>\n",
       "      <td>Jordan</td>\n",
       "    </tr>\n",
       "  </tbody>\n",
       "</table>\n",
       "<p>428 rows × 3 columns</p>\n",
       "</div>"
      ],
      "text/plain": [
       "                                                sneaker  price   brand\n",
       "0     ['adidas Yeezy Boost 350 V2 Cloud White (Non-R...    253  adidas\n",
       "1     ['adidas Yeezy Boost 350 V2 Citrin (Non-Reflec...    220  adidas\n",
       "2                  ['Jordan 1 Retro High Obsidian UNC']    249  Jordan\n",
       "3            ['Jordan 1 Retro High First Class Flight']    175  Jordan\n",
       "4           ['adidas Yeezy Boost 700 V2 Hospital Blue']    276  adidas\n",
       "...                                                 ...    ...     ...\n",
       "898                 ['Air Max Speed Turf Night Purple']     80     Air\n",
       "987          ['adidas Ultra Tech Dragon Ball Z Vegeta']    133  adidas\n",
       "992                     ['adidas Ultra Boost 4.0 Orca']    110  adidas\n",
       "1001           ['adidas NMD R1 STLT Parley Core Black']     94  adidas\n",
       "1008                      ['Jordan Legacy 312 Olympic']     88  Jordan\n",
       "\n",
       "[428 rows x 3 columns]"
      ]
     },
     "execution_count": 17,
     "metadata": {},
     "output_type": "execute_result"
    }
   ],
   "source": [
    "#cleaned data\n",
    "cleaned"
   ]
  },
  {
   "cell_type": "code",
   "execution_count": 18,
   "metadata": {},
   "outputs": [],
   "source": [
    "# select price column \n",
    "prices = cleaned['price']"
   ]
  },
  {
   "cell_type": "code",
   "execution_count": 107,
   "metadata": {},
   "outputs": [],
   "source": [
    "#change price from str to int\n",
    "prices_as_nums = pd.to_numeric(prices)\n",
    "#ignore numbers after decimal\n",
    "prices_as_nums = prices_as_nums.round(decimals=0)"
   ]
  },
  {
   "cell_type": "code",
   "execution_count": 108,
   "metadata": {},
   "outputs": [
    {
     "data": {
      "text/plain": [
       "dtype('int32')"
      ]
     },
     "execution_count": 108,
     "metadata": {},
     "output_type": "execute_result"
    }
   ],
   "source": [
    "#check to make sure its an int now\n",
    "prices_as_nums.dtypes\n"
   ]
  },
  {
   "cell_type": "code",
   "execution_count": 20,
   "metadata": {},
   "outputs": [
    {
     "data": {
      "text/html": [
       "<div>\n",
       "<style scoped>\n",
       "    .dataframe tbody tr th:only-of-type {\n",
       "        vertical-align: middle;\n",
       "    }\n",
       "\n",
       "    .dataframe tbody tr th {\n",
       "        vertical-align: top;\n",
       "    }\n",
       "\n",
       "    .dataframe thead th {\n",
       "        text-align: right;\n",
       "    }\n",
       "</style>\n",
       "<table border=\"1\" class=\"dataframe\">\n",
       "  <thead>\n",
       "    <tr style=\"text-align: right;\">\n",
       "      <th></th>\n",
       "      <th>price</th>\n",
       "    </tr>\n",
       "    <tr>\n",
       "      <th>brand</th>\n",
       "      <th></th>\n",
       "    </tr>\n",
       "  </thead>\n",
       "  <tbody>\n",
       "    <tr>\n",
       "      <td>A</td>\n",
       "      <td>480.000000</td>\n",
       "    </tr>\n",
       "    <tr>\n",
       "      <td>ACE</td>\n",
       "      <td>200.000000</td>\n",
       "    </tr>\n",
       "    <tr>\n",
       "      <td>ASICS</td>\n",
       "      <td>607.750000</td>\n",
       "    </tr>\n",
       "    <tr>\n",
       "      <td>Air</td>\n",
       "      <td>198.992647</td>\n",
       "    </tr>\n",
       "    <tr>\n",
       "      <td>Asics</td>\n",
       "      <td>235.500000</td>\n",
       "    </tr>\n",
       "    <tr>\n",
       "      <td>Balenciaga</td>\n",
       "      <td>772.000000</td>\n",
       "    </tr>\n",
       "    <tr>\n",
       "      <td>Converse</td>\n",
       "      <td>169.709677</td>\n",
       "    </tr>\n",
       "    <tr>\n",
       "      <td>Diadora</td>\n",
       "      <td>450.000000</td>\n",
       "    </tr>\n",
       "    <tr>\n",
       "      <td>Fear</td>\n",
       "      <td>650.000000</td>\n",
       "    </tr>\n",
       "    <tr>\n",
       "      <td>Gucci</td>\n",
       "      <td>189.500000</td>\n",
       "    </tr>\n",
       "    <tr>\n",
       "      <td>Jordan</td>\n",
       "      <td>242.042194</td>\n",
       "    </tr>\n",
       "    <tr>\n",
       "      <td>LeBron</td>\n",
       "      <td>370.333333</td>\n",
       "    </tr>\n",
       "    <tr>\n",
       "      <td>Lunar</td>\n",
       "      <td>220.000000</td>\n",
       "    </tr>\n",
       "    <tr>\n",
       "      <td>New</td>\n",
       "      <td>326.875000</td>\n",
       "    </tr>\n",
       "    <tr>\n",
       "      <td>Nike</td>\n",
       "      <td>168.802395</td>\n",
       "    </tr>\n",
       "    <tr>\n",
       "      <td>React</td>\n",
       "      <td>65.000000</td>\n",
       "    </tr>\n",
       "    <tr>\n",
       "      <td>Reebok</td>\n",
       "      <td>573.400000</td>\n",
       "    </tr>\n",
       "    <tr>\n",
       "      <td>SF</td>\n",
       "      <td>88.750000</td>\n",
       "    </tr>\n",
       "    <tr>\n",
       "      <td>Saucony</td>\n",
       "      <td>372.500000</td>\n",
       "    </tr>\n",
       "    <tr>\n",
       "      <td>Timberland</td>\n",
       "      <td>145.000000</td>\n",
       "    </tr>\n",
       "    <tr>\n",
       "      <td>Vans</td>\n",
       "      <td>82.500000</td>\n",
       "    </tr>\n",
       "    <tr>\n",
       "      <td>adidas</td>\n",
       "      <td>257.293454</td>\n",
       "    </tr>\n",
       "  </tbody>\n",
       "</table>\n",
       "</div>"
      ],
      "text/plain": [
       "                 price\n",
       "brand                 \n",
       "A           480.000000\n",
       "ACE         200.000000\n",
       "ASICS       607.750000\n",
       "Air         198.992647\n",
       "Asics       235.500000\n",
       "Balenciaga  772.000000\n",
       "Converse    169.709677\n",
       "Diadora     450.000000\n",
       "Fear        650.000000\n",
       "Gucci       189.500000\n",
       "Jordan      242.042194\n",
       "LeBron      370.333333\n",
       "Lunar       220.000000\n",
       "New         326.875000\n",
       "Nike        168.802395\n",
       "React        65.000000\n",
       "Reebok      573.400000\n",
       "SF           88.750000\n",
       "Saucony     372.500000\n",
       "Timberland  145.000000\n",
       "Vans         82.500000\n",
       "adidas      257.293454"
      ]
     },
     "execution_count": 20,
     "metadata": {},
     "output_type": "execute_result"
    }
   ],
   "source": [
    "avg_table = df.groupby('brand').mean()\n",
    "avg_table"
   ]
  },
  {
   "cell_type": "code",
   "execution_count": 21,
   "metadata": {},
   "outputs": [
    {
     "data": {
      "text/plain": [
       "[<matplotlib.lines.Line2D at 0x1174ef4e0>]"
      ]
     },
     "execution_count": 21,
     "metadata": {},
     "output_type": "execute_result"
    },
    {
     "data": {
      "image/png": "[encoded data removed]",
      "text/plain": [
       "<Figure size 432x288 with 1 Axes>"
      ]
     },
     "metadata": {
      "needs_background": "light"
     },
     "output_type": "display_data"
    }
   ],
   "source": [
    "plt.plot(avg_table)"
   ]
  },
  {
   "cell_type": "code",
   "execution_count": 22,
   "metadata": {},
   "outputs": [
    {
     "data": {
      "text/plain": [
       "price    370.333333\n",
       "Name: LeBron, dtype: float64"
      ]
     },
     "execution_count": 22,
     "metadata": {},
     "output_type": "execute_result"
    }
   ],
   "source": [
    "cleaned\n",
    "#more importan brands\n",
    "nike = avg_table.loc['Nike']\n",
    "adidas = avg_table.loc['adidas']\n",
    "asics = avg_table.loc['ASICS']\n",
    "balenciaga = avg_table.loc['Balenciaga']\n",
    "reebok = avg_table.loc['Reebok']\n",
    "new_balace = avg_table.loc['New']\n",
    "gucci = avg_table.loc['Gucci']\n",
    "jordan = avg_table.loc['Jordan']\n",
    "lebron = avg_table.loc['LeBron']\n",
    "lebron"
   ]
  },
  {
   "cell_type": "code",
   "execution_count": 40,
   "metadata": {},
   "outputs": [
    {
     "data": {
      "text/html": [
       "<div>\n",
       "<style scoped>\n",
       "    .dataframe tbody tr th:only-of-type {\n",
       "        vertical-align: middle;\n",
       "    }\n",
       "\n",
       "    .dataframe tbody tr th {\n",
       "        vertical-align: top;\n",
       "    }\n",
       "\n",
       "    .dataframe thead th {\n",
       "        text-align: right;\n",
       "    }\n",
       "</style>\n",
       "<table border=\"1\" class=\"dataframe\">\n",
       "  <thead>\n",
       "    <tr style=\"text-align: right;\">\n",
       "      <th></th>\n",
       "      <th>nike</th>\n",
       "      <th>adidas</th>\n",
       "      <th>asics</th>\n",
       "      <th>balenciaga</th>\n",
       "      <th>reebok</th>\n",
       "      <th>new_balance</th>\n",
       "      <th>gucci</th>\n",
       "      <th>jordan</th>\n",
       "      <th>LeBron</th>\n",
       "    </tr>\n",
       "  </thead>\n",
       "  <tbody>\n",
       "    <tr>\n",
       "      <td>0</td>\n",
       "      <td>168.802395</td>\n",
       "      <td>257.293454</td>\n",
       "      <td>607.75</td>\n",
       "      <td>772.0</td>\n",
       "      <td>573.4</td>\n",
       "      <td>326.875</td>\n",
       "      <td>189.5</td>\n",
       "      <td>242.042194</td>\n",
       "      <td>370.333333</td>\n",
       "    </tr>\n",
       "  </tbody>\n",
       "</table>\n",
       "</div>"
      ],
      "text/plain": [
       "         nike      adidas   asics  balenciaga  reebok  new_balance  gucci  \\\n",
       "0  168.802395  257.293454  607.75       772.0   573.4      326.875  189.5   \n",
       "\n",
       "       jordan      LeBron  \n",
       "0  242.042194  370.333333  "
      ]
     },
     "execution_count": 40,
     "metadata": {},
     "output_type": "execute_result"
    }
   ],
   "source": [
    "nike_avg_price = avg_table.loc['Nike','price']\n",
    "adidas_avg_price = avg_table.loc['adidas','price']\n",
    "asics_avg_price = avg_table.loc['ASICS','price']\n",
    "balenciaga_avg_price = avg_table.loc['Balenciaga','price']\n",
    "reebok_avg_price = avg_table.loc['Reebok','price']\n",
    "new_balance_avg_price = avg_table.loc['New','price']\n",
    "gucci_avg_price = avg_table.loc['Gucci','price']\n",
    "jordan_avg_price = avg_table.loc['Jordan','price']\n",
    "lebron_avg_price = avg_table.loc['LeBron','price']\n",
    "# nike_avg_price.round(decimals=0)\n",
    "# avg_table.iloc[3:9]\n",
    "# {'col1': [1, 2], 'col2': [3, 4]}\n",
    "main = pd.DataFrame({'nike': [nike_avg_price],\n",
    "                            'adidas': [adidas_avg_price],\n",
    "                            'asics': [asics_avg_price],\n",
    "                            'balenciaga': [balenciaga_avg_price],\n",
    "                            'reebok': [reebok_avg_price],\n",
    "                            'new_balance': [new_balance_avg_price],\n",
    "                            'gucci': [gucci_avg_price],\n",
    "                            'jordan': [jordan_avg_price],\n",
    "                            'LeBron': [lebron_avg_price]})\n",
    "# main = pd.DataFrame({'brand': ['nike', 'asics', 'balenciaga','reebok', 'new_balance','gucci','jordan','LeBron'], \n",
    "#                      'price': [nike_avg_price, asics_avg_price,balenciaga_avg_price, reebok_avg_price, new_balance_avg_price,\n",
    "#                                gucci_avg_price, jordan_avg_price, lebron_avg_price]})\n",
    "#                        {'brand': ['asics'], 'price': [asics_avg_price]},\n",
    "#                        {'brand': ['balenciaga'], 'price': [balenciaga_avg_price]},\n",
    "#                        {'brand': ['reebok'], 'price': [reebok_avg_price]},\n",
    "#                        {'brand': ['new_balance'], 'price': [new_balance_avg_price]},\n",
    "#                        {'brand': ['gucci'], 'price': [gucci_avg_price]},\n",
    "#                        {'brand': ['jordan'], 'price': [jordan_avg_price]},\n",
    "#                        {'brand': ['LeBron'], 'price': [lebron_avg_price]},\n",
    "                   \n",
    "main"
   ]
  },
  {
   "cell_type": "code",
   "execution_count": 42,
   "metadata": {},
   "outputs": [
    {
     "data": {
      "text/plain": [
       "[<matplotlib.lines.Line2D at 0x1199be898>]"
      ]
     },
     "execution_count": 42,
     "metadata": {},
     "output_type": "execute_result"
    },
    {
     "data": {
      "image/png": "[encoded data removed]",
      "text/plain": [
       "<Figure size 432x288 with 1 Axes>"
      ]
     },
     "metadata": {
      "needs_background": "light"
     },
     "output_type": "display_data"
    }
   ],
   "source": [
    "# list(avg_table.columns.values)\n",
    "plt.ylabel('price')\n",
    "plt.show()\n",
    "main_table = main.T\n",
    "plt.plot(main_table)"
   ]
  },
  {
   "cell_type": "code",
   "execution_count": 33,
   "metadata": {},
   "outputs": [],
   "source": [
    "# avg_table(axis=1)\n",
    "prices = avg_table['price']"
   ]
  },
  {
   "cell_type": "code",
   "execution_count": 133,
   "metadata": {},
   "outputs": [],
   "source": [
    "brands = cleaned.loc[:,'brand']"
   ]
  },
  {
   "cell_type": "code",
   "execution_count": 60,
   "metadata": {},
   "outputs": [
    {
     "data": {
      "text/plain": [
       "['sneaker', 'price', 'brand']"
      ]
     },
     "execution_count": 60,
     "metadata": {},
     "output_type": "execute_result"
    }
   ],
   "source": [
    "list(cleaned.columns.values)"
   ]
  },
  {
   "cell_type": "code",
   "execution_count": 84,
   "metadata": {},
   "outputs": [],
   "source": [
    "# avg_table()"
   ]
  },
  {
   "cell_type": "code",
   "execution_count": null,
   "metadata": {},
   "outputs": [],
   "source": []
  }
 ],
 "metadata": {
  "kernelspec": {
   "display_name": "Python 3",
   "language": "python",
   "name": "python3"
  },
  "language_info": {
   "codemirror_mode": {
    "name": "ipython",
    "version": 3
   },
   "file_extension": ".py",
   "mimetype": "text/x-python",
   "name": "python",
   "nbconvert_exporter": "python",
   "pygments_lexer": "ipython3",
   "version": "3.7.3"
  }
 },
 "nbformat": 4,
 "nbformat_minor": 4
}
