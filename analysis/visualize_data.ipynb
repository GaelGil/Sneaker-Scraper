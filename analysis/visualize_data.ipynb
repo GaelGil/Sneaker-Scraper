{
 "cells": [
  {
   "cell_type": "code",
   "execution_count": 3,
   "metadata": {},
   "outputs": [
    {
     "name": "stdout",
     "output_type": "stream",
     "text": [
      "../databases/database.db\n"
     ]
    }
   ],
   "source": [
    "! ls ../databases/database.db"
   ]
  },
  {
   "cell_type": "code",
   "execution_count": 4,
   "metadata": {},
   "outputs": [],
   "source": [
    "import pandas as pd\n",
    "import sqlite3"
   ]
  },
  {
   "cell_type": "code",
   "execution_count": 6,
   "metadata": {},
   "outputs": [],
   "source": [
    "conn = sqlite3.connect(\"../databases/database.db\")"
   ]
  },
  {
   "cell_type": "code",
   "execution_count": 8,
   "metadata": {},
   "outputs": [],
   "source": [
    "df = pd.read_sql_query(\"select * from sneakertable;\", conn)"
   ]
  },
  {
   "cell_type": "code",
   "execution_count": 9,
   "metadata": {},
   "outputs": [],
   "source": [
    "df = df.drop(\"id\", axis=1)"
   ]
  },
  {
   "cell_type": "code",
   "execution_count": 10,
   "metadata": {},
   "outputs": [
    {
     "data": {
      "text/html": [
       "<div>\n",
       "<style scoped>\n",
       "    .dataframe tbody tr th:only-of-type {\n",
       "        vertical-align: middle;\n",
       "    }\n",
       "\n",
       "    .dataframe tbody tr th {\n",
       "        vertical-align: top;\n",
       "    }\n",
       "\n",
       "    .dataframe thead th {\n",
       "        text-align: right;\n",
       "    }\n",
       "</style>\n",
       "<table border=\"1\" class=\"dataframe\">\n",
       "  <thead>\n",
       "    <tr style=\"text-align: right;\">\n",
       "      <th></th>\n",
       "      <th>sneaker</th>\n",
       "      <th>price</th>\n",
       "      <th>brand</th>\n",
       "    </tr>\n",
       "  </thead>\n",
       "  <tbody>\n",
       "    <tr>\n",
       "      <td>0</td>\n",
       "      <td>['adidas Ultra Boost 4.0 Chinese New Year (201...</td>\n",
       "      <td>133</td>\n",
       "      <td>adidas</td>\n",
       "    </tr>\n",
       "    <tr>\n",
       "      <td>1</td>\n",
       "      <td>['adidas Ultra Boost 4.0 Triple Black']</td>\n",
       "      <td>173</td>\n",
       "      <td>adidas</td>\n",
       "    </tr>\n",
       "    <tr>\n",
       "      <td>2</td>\n",
       "      <td>['adidas Ultra Boost Mid Ronnie Fieg']</td>\n",
       "      <td>249</td>\n",
       "      <td>adidas</td>\n",
       "    </tr>\n",
       "    <tr>\n",
       "      <td>3</td>\n",
       "      <td>['Air More Uptempo Supreme \"Suptempo\" Red']</td>\n",
       "      <td>835</td>\n",
       "      <td>Air</td>\n",
       "    </tr>\n",
       "    <tr>\n",
       "      <td>4</td>\n",
       "      <td>['adidas Ultra Boost 4.0 Game of Thrones Targa...</td>\n",
       "      <td>175</td>\n",
       "      <td>adidas</td>\n",
       "    </tr>\n",
       "  </tbody>\n",
       "</table>\n",
       "</div>"
      ],
      "text/plain": [
       "                                             sneaker price   brand\n",
       "0  ['adidas Ultra Boost 4.0 Chinese New Year (201...   133  adidas\n",
       "1            ['adidas Ultra Boost 4.0 Triple Black']   173  adidas\n",
       "2             ['adidas Ultra Boost Mid Ronnie Fieg']   249  adidas\n",
       "3        ['Air More Uptempo Supreme \"Suptempo\" Red']   835     Air\n",
       "4  ['adidas Ultra Boost 4.0 Game of Thrones Targa...   175  adidas"
      ]
     },
     "execution_count": 10,
     "metadata": {},
     "output_type": "execute_result"
    }
   ],
   "source": [
    "df.head()"
   ]
  },
  {
   "cell_type": "code",
   "execution_count": 11,
   "metadata": {},
   "outputs": [
    {
     "data": {
      "text/plain": [
       "sneaker    object\n",
       "price      object\n",
       "brand      object\n",
       "dtype: object"
      ]
     },
     "execution_count": 11,
     "metadata": {},
     "output_type": "execute_result"
    }
   ],
   "source": [
    "df.dtypes"
   ]
  },
  {
   "cell_type": "code",
   "execution_count": 34,
   "metadata": {},
   "outputs": [],
   "source": [
    "df = df.astype({'price': 'int32'})"
   ]
  },
  {
   "cell_type": "code",
   "execution_count": 48,
   "metadata": {},
   "outputs": [
    {
     "data": {
      "text/html": [
       "<div>\n",
       "<style scoped>\n",
       "    .dataframe tbody tr th:only-of-type {\n",
       "        vertical-align: middle;\n",
       "    }\n",
       "\n",
       "    .dataframe tbody tr th {\n",
       "        vertical-align: top;\n",
       "    }\n",
       "\n",
       "    .dataframe thead th {\n",
       "        text-align: right;\n",
       "    }\n",
       "</style>\n",
       "<table border=\"1\" class=\"dataframe\">\n",
       "  <thead>\n",
       "    <tr style=\"text-align: right;\">\n",
       "      <th></th>\n",
       "      <th>sneaker</th>\n",
       "      <th>price</th>\n",
       "      <th>brand</th>\n",
       "    </tr>\n",
       "  </thead>\n",
       "  <tbody>\n",
       "    <tr>\n",
       "      <td>18</td>\n",
       "      <td>['adidas Yeezy Boost 350 V2 Sesame']</td>\n",
       "      <td>253</td>\n",
       "      <td>adidas</td>\n",
       "    </tr>\n",
       "    <tr>\n",
       "      <td>3</td>\n",
       "      <td>['adidas Yeezy Boost 350 V2 Cloud White (Non-R...</td>\n",
       "      <td>250</td>\n",
       "      <td>adidas</td>\n",
       "    </tr>\n",
       "    <tr>\n",
       "      <td>6</td>\n",
       "      <td>['adidas Yeezy Boost 350 V2 Citrin (Non-Reflec...</td>\n",
       "      <td>213</td>\n",
       "      <td>adidas</td>\n",
       "    </tr>\n",
       "    <tr>\n",
       "      <td>46</td>\n",
       "      <td>['adidas Yeezy Boost 350 V2 Citrin (Non-Reflec...</td>\n",
       "      <td>213</td>\n",
       "      <td>adidas</td>\n",
       "    </tr>\n",
       "    <tr>\n",
       "      <td>56</td>\n",
       "      <td>['adidas Yeezy Boost 350 V2 Clay']</td>\n",
       "      <td>214</td>\n",
       "      <td>adidas</td>\n",
       "    </tr>\n",
       "    <tr>\n",
       "      <td>19</td>\n",
       "      <td>['adidas Yeezy Boost 350 V2 Clay']</td>\n",
       "      <td>214</td>\n",
       "      <td>adidas</td>\n",
       "    </tr>\n",
       "    <tr>\n",
       "      <td>16</td>\n",
       "      <td>['adidas Yeezy Boost 700 Magnet']</td>\n",
       "      <td>307</td>\n",
       "      <td>adidas</td>\n",
       "    </tr>\n",
       "    <tr>\n",
       "      <td>70</td>\n",
       "      <td>['adidas Yeezy 500 Salt']</td>\n",
       "      <td>230</td>\n",
       "      <td>adidas</td>\n",
       "    </tr>\n",
       "    <tr>\n",
       "      <td>43</td>\n",
       "      <td>['adidas Yeezy 500 Salt']</td>\n",
       "      <td>230</td>\n",
       "      <td>adidas</td>\n",
       "    </tr>\n",
       "    <tr>\n",
       "      <td>66</td>\n",
       "      <td>['adidas Yeezy Boost 700 Inertia']</td>\n",
       "      <td>296</td>\n",
       "      <td>adidas</td>\n",
       "    </tr>\n",
       "    <tr>\n",
       "      <td>60</td>\n",
       "      <td>['adidas Yeezy Boost 700 V2 Geode']</td>\n",
       "      <td>250</td>\n",
       "      <td>adidas</td>\n",
       "    </tr>\n",
       "    <tr>\n",
       "      <td>9</td>\n",
       "      <td>['adidas Yeezy Boost 700 V2 Hospital Blue']</td>\n",
       "      <td>276</td>\n",
       "      <td>adidas</td>\n",
       "    </tr>\n",
       "    <tr>\n",
       "      <td>27</td>\n",
       "      <td>['adidas Yeezy Boost 700 V2 Geode']</td>\n",
       "      <td>250</td>\n",
       "      <td>adidas</td>\n",
       "    </tr>\n",
       "    <tr>\n",
       "      <td>45</td>\n",
       "      <td>['adidas Yeezy Boost 350 V2 Cloud White (Non-R...</td>\n",
       "      <td>250</td>\n",
       "      <td>adidas</td>\n",
       "    </tr>\n",
       "    <tr>\n",
       "      <td>55</td>\n",
       "      <td>['adidas Yeezy Boost 350 V2 Sesame']</td>\n",
       "      <td>253</td>\n",
       "      <td>adidas</td>\n",
       "    </tr>\n",
       "    <tr>\n",
       "      <td>39</td>\n",
       "      <td>['adidas Yeezy Boost 700 Inertia']</td>\n",
       "      <td>296</td>\n",
       "      <td>adidas</td>\n",
       "    </tr>\n",
       "    <tr>\n",
       "      <td>11</td>\n",
       "      <td>['adidas Yeezy Boost 350 V2 Cream/Triple White']</td>\n",
       "      <td>256</td>\n",
       "      <td>adidas</td>\n",
       "    </tr>\n",
       "    <tr>\n",
       "      <td>51</td>\n",
       "      <td>['adidas Yeezy Boost 350 V2 Cream/Triple White']</td>\n",
       "      <td>256</td>\n",
       "      <td>adidas</td>\n",
       "    </tr>\n",
       "    <tr>\n",
       "      <td>26</td>\n",
       "      <td>['adidas Yeezy Boost 350 V2 Semi Frozen Yellow']</td>\n",
       "      <td>264</td>\n",
       "      <td>adidas</td>\n",
       "    </tr>\n",
       "    <tr>\n",
       "      <td>59</td>\n",
       "      <td>['adidas Yeezy Boost 350 V2 Semi Frozen Yellow']</td>\n",
       "      <td>264</td>\n",
       "      <td>adidas</td>\n",
       "    </tr>\n",
       "    <tr>\n",
       "      <td>12</td>\n",
       "      <td>['adidas Yeezy 500 Bone White']</td>\n",
       "      <td>207</td>\n",
       "      <td>adidas</td>\n",
       "    </tr>\n",
       "    <tr>\n",
       "      <td>52</td>\n",
       "      <td>['adidas Yeezy 500 Bone White']</td>\n",
       "      <td>207</td>\n",
       "      <td>adidas</td>\n",
       "    </tr>\n",
       "    <tr>\n",
       "      <td>10</td>\n",
       "      <td>['adidas Yeezy Boost 350 V2 Lundmark (Non Refl...</td>\n",
       "      <td>205</td>\n",
       "      <td>adidas</td>\n",
       "    </tr>\n",
       "    <tr>\n",
       "      <td>50</td>\n",
       "      <td>['adidas Yeezy Boost 350 V2 Lundmark (Non Refl...</td>\n",
       "      <td>205</td>\n",
       "      <td>adidas</td>\n",
       "    </tr>\n",
       "    <tr>\n",
       "      <td>15</td>\n",
       "      <td>['adidas Yeezy Boost 350 V2 Beluga']</td>\n",
       "      <td>610</td>\n",
       "      <td>adidas</td>\n",
       "    </tr>\n",
       "    <tr>\n",
       "      <td>13</td>\n",
       "      <td>['adidas Yeezy Boost 350 V2 Hyperspace']</td>\n",
       "      <td>415</td>\n",
       "      <td>adidas</td>\n",
       "    </tr>\n",
       "    <tr>\n",
       "      <td>23</td>\n",
       "      <td>['adidas Yeezy Boost 700 Wave Runner Solid Grey']</td>\n",
       "      <td>405</td>\n",
       "      <td>adidas</td>\n",
       "    </tr>\n",
       "    <tr>\n",
       "      <td>58</td>\n",
       "      <td>['adidas Yeezy Boost 700 Wave Runner Solid Grey']</td>\n",
       "      <td>405</td>\n",
       "      <td>adidas</td>\n",
       "    </tr>\n",
       "    <tr>\n",
       "      <td>32</td>\n",
       "      <td>['adidas Yeezy Boost 350 V2 Zebra']</td>\n",
       "      <td>390</td>\n",
       "      <td>adidas</td>\n",
       "    </tr>\n",
       "    <tr>\n",
       "      <td>62</td>\n",
       "      <td>['adidas Yeezy Boost 350 V2 Zebra']</td>\n",
       "      <td>390</td>\n",
       "      <td>adidas</td>\n",
       "    </tr>\n",
       "    <tr>\n",
       "      <td>69</td>\n",
       "      <td>['adidas Yeezy Boost 700 V2 Vanta']</td>\n",
       "      <td>354</td>\n",
       "      <td>adidas</td>\n",
       "    </tr>\n",
       "    <tr>\n",
       "      <td>42</td>\n",
       "      <td>['adidas Yeezy Boost 700 V2 Vanta']</td>\n",
       "      <td>354</td>\n",
       "      <td>adidas</td>\n",
       "    </tr>\n",
       "    <tr>\n",
       "      <td>67</td>\n",
       "      <td>['adidas Yeezy 700 Mauve']</td>\n",
       "      <td>310</td>\n",
       "      <td>adidas</td>\n",
       "    </tr>\n",
       "    <tr>\n",
       "      <td>40</td>\n",
       "      <td>['adidas Yeezy 700 Mauve']</td>\n",
       "      <td>310</td>\n",
       "      <td>adidas</td>\n",
       "    </tr>\n",
       "    <tr>\n",
       "      <td>63</td>\n",
       "      <td>['adidas Yeezy Boost 350 V2 Static (Non-Reflec...</td>\n",
       "      <td>309</td>\n",
       "      <td>adidas</td>\n",
       "    </tr>\n",
       "    <tr>\n",
       "      <td>34</td>\n",
       "      <td>['adidas Yeezy Boost 350 V2 Static (Non-Reflec...</td>\n",
       "      <td>309</td>\n",
       "      <td>adidas</td>\n",
       "    </tr>\n",
       "    <tr>\n",
       "      <td>24</td>\n",
       "      <td>['adidas Yeezy Powerphase Calabasas Core White']</td>\n",
       "      <td>180</td>\n",
       "      <td>adidas</td>\n",
       "    </tr>\n",
       "    <tr>\n",
       "      <td>2</td>\n",
       "      <td>['adidas Ultra Boost 4.0 Game of Thrones Targa...</td>\n",
       "      <td>181</td>\n",
       "      <td>adidas</td>\n",
       "    </tr>\n",
       "    <tr>\n",
       "      <td>53</td>\n",
       "      <td>['adidas Yeezy Boost 700 Magnet']</td>\n",
       "      <td>307</td>\n",
       "      <td>adidas</td>\n",
       "    </tr>\n",
       "    <tr>\n",
       "      <td>33</td>\n",
       "      <td>['adidas Yeezy 500 Super Moon Yellow']</td>\n",
       "      <td>200</td>\n",
       "      <td>adidas</td>\n",
       "    </tr>\n",
       "    <tr>\n",
       "      <td>49</td>\n",
       "      <td>['adidas Yeezy Boost 700 V2 Hospital Blue']</td>\n",
       "      <td>276</td>\n",
       "      <td>adidas</td>\n",
       "    </tr>\n",
       "    <tr>\n",
       "      <td>25</td>\n",
       "      <td>['Nike Classic Cortez Stranger Things Independ...</td>\n",
       "      <td>86</td>\n",
       "      <td>Nike</td>\n",
       "    </tr>\n",
       "    <tr>\n",
       "      <td>5</td>\n",
       "      <td>['Nike Classic Cortez Stranger Things Sail Ups...</td>\n",
       "      <td>96</td>\n",
       "      <td>Nike</td>\n",
       "    </tr>\n",
       "    <tr>\n",
       "      <td>22</td>\n",
       "      <td>['Nike Blazer Mid 77 Vintage White Black']</td>\n",
       "      <td>132</td>\n",
       "      <td>Nike</td>\n",
       "    </tr>\n",
       "    <tr>\n",
       "      <td>35</td>\n",
       "      <td>['Nike SB Dunk Low Supreme Jewel Swoosh Red']</td>\n",
       "      <td>171</td>\n",
       "      <td>Nike</td>\n",
       "    </tr>\n",
       "    <tr>\n",
       "      <td>64</td>\n",
       "      <td>['Nike SB Dunk Low Supreme Jewel Swoosh Red']</td>\n",
       "      <td>171</td>\n",
       "      <td>Nike</td>\n",
       "    </tr>\n",
       "    <tr>\n",
       "      <td>29</td>\n",
       "      <td>['Nike SB Dunk Low Supreme Jewel Swoosh Silver']</td>\n",
       "      <td>160</td>\n",
       "      <td>Nike</td>\n",
       "    </tr>\n",
       "    <tr>\n",
       "      <td>4</td>\n",
       "      <td>['Nike Tailwind 79 Stranger Things Independenc...</td>\n",
       "      <td>160</td>\n",
       "      <td>Nike</td>\n",
       "    </tr>\n",
       "    <tr>\n",
       "      <td>61</td>\n",
       "      <td>['Nike SB Dunk Low Supreme Jewel Swoosh Silver']</td>\n",
       "      <td>160</td>\n",
       "      <td>Nike</td>\n",
       "    </tr>\n",
       "    <tr>\n",
       "      <td>57</td>\n",
       "      <td>['Nike Blazer Mid 77 Vintage White Black']</td>\n",
       "      <td>132</td>\n",
       "      <td>Nike</td>\n",
       "    </tr>\n",
       "  </tbody>\n",
       "</table>\n",
       "</div>"
      ],
      "text/plain": [
       "                                              sneaker  price   brand\n",
       "18               ['adidas Yeezy Boost 350 V2 Sesame']    253  adidas\n",
       "3   ['adidas Yeezy Boost 350 V2 Cloud White (Non-R...    250  adidas\n",
       "6   ['adidas Yeezy Boost 350 V2 Citrin (Non-Reflec...    213  adidas\n",
       "46  ['adidas Yeezy Boost 350 V2 Citrin (Non-Reflec...    213  adidas\n",
       "56                 ['adidas Yeezy Boost 350 V2 Clay']    214  adidas\n",
       "19                 ['adidas Yeezy Boost 350 V2 Clay']    214  adidas\n",
       "16                  ['adidas Yeezy Boost 700 Magnet']    307  adidas\n",
       "70                          ['adidas Yeezy 500 Salt']    230  adidas\n",
       "43                          ['adidas Yeezy 500 Salt']    230  adidas\n",
       "66                 ['adidas Yeezy Boost 700 Inertia']    296  adidas\n",
       "60                ['adidas Yeezy Boost 700 V2 Geode']    250  adidas\n",
       "9         ['adidas Yeezy Boost 700 V2 Hospital Blue']    276  adidas\n",
       "27                ['adidas Yeezy Boost 700 V2 Geode']    250  adidas\n",
       "45  ['adidas Yeezy Boost 350 V2 Cloud White (Non-R...    250  adidas\n",
       "55               ['adidas Yeezy Boost 350 V2 Sesame']    253  adidas\n",
       "39                 ['adidas Yeezy Boost 700 Inertia']    296  adidas\n",
       "11   ['adidas Yeezy Boost 350 V2 Cream/Triple White']    256  adidas\n",
       "51   ['adidas Yeezy Boost 350 V2 Cream/Triple White']    256  adidas\n",
       "26   ['adidas Yeezy Boost 350 V2 Semi Frozen Yellow']    264  adidas\n",
       "59   ['adidas Yeezy Boost 350 V2 Semi Frozen Yellow']    264  adidas\n",
       "12                    ['adidas Yeezy 500 Bone White']    207  adidas\n",
       "52                    ['adidas Yeezy 500 Bone White']    207  adidas\n",
       "10  ['adidas Yeezy Boost 350 V2 Lundmark (Non Refl...    205  adidas\n",
       "50  ['adidas Yeezy Boost 350 V2 Lundmark (Non Refl...    205  adidas\n",
       "15               ['adidas Yeezy Boost 350 V2 Beluga']    610  adidas\n",
       "13           ['adidas Yeezy Boost 350 V2 Hyperspace']    415  adidas\n",
       "23  ['adidas Yeezy Boost 700 Wave Runner Solid Grey']    405  adidas\n",
       "58  ['adidas Yeezy Boost 700 Wave Runner Solid Grey']    405  adidas\n",
       "32                ['adidas Yeezy Boost 350 V2 Zebra']    390  adidas\n",
       "62                ['adidas Yeezy Boost 350 V2 Zebra']    390  adidas\n",
       "69                ['adidas Yeezy Boost 700 V2 Vanta']    354  adidas\n",
       "42                ['adidas Yeezy Boost 700 V2 Vanta']    354  adidas\n",
       "67                         ['adidas Yeezy 700 Mauve']    310  adidas\n",
       "40                         ['adidas Yeezy 700 Mauve']    310  adidas\n",
       "63  ['adidas Yeezy Boost 350 V2 Static (Non-Reflec...    309  adidas\n",
       "34  ['adidas Yeezy Boost 350 V2 Static (Non-Reflec...    309  adidas\n",
       "24   ['adidas Yeezy Powerphase Calabasas Core White']    180  adidas\n",
       "2   ['adidas Ultra Boost 4.0 Game of Thrones Targa...    181  adidas\n",
       "53                  ['adidas Yeezy Boost 700 Magnet']    307  adidas\n",
       "33             ['adidas Yeezy 500 Super Moon Yellow']    200  adidas\n",
       "49        ['adidas Yeezy Boost 700 V2 Hospital Blue']    276  adidas\n",
       "25  ['Nike Classic Cortez Stranger Things Independ...     86    Nike\n",
       "5   ['Nike Classic Cortez Stranger Things Sail Ups...     96    Nike\n",
       "22         ['Nike Blazer Mid 77 Vintage White Black']    132    Nike\n",
       "35      ['Nike SB Dunk Low Supreme Jewel Swoosh Red']    171    Nike\n",
       "64      ['Nike SB Dunk Low Supreme Jewel Swoosh Red']    171    Nike\n",
       "29   ['Nike SB Dunk Low Supreme Jewel Swoosh Silver']    160    Nike\n",
       "4   ['Nike Tailwind 79 Stranger Things Independenc...    160    Nike\n",
       "61   ['Nike SB Dunk Low Supreme Jewel Swoosh Silver']    160    Nike\n",
       "57         ['Nike Blazer Mid 77 Vintage White Black']    132    Nike"
      ]
     },
     "execution_count": 48,
     "metadata": {},
     "output_type": "execute_result"
    }
   ],
   "source": [
    "df.sort_values(by=['brand'], ascending=False).head(50)"
   ]
  },
  {
   "cell_type": "code",
   "execution_count": 37,
   "metadata": {},
   "outputs": [],
   "source": [
    "df = df.astype({'brand': 'str'})"
   ]
  },
  {
   "cell_type": "code",
   "execution_count": 38,
   "metadata": {},
   "outputs": [
    {
     "data": {
      "text/plain": [
       "sneaker    object\n",
       "price       int32\n",
       "brand      object\n",
       "dtype: object"
      ]
     },
     "execution_count": 38,
     "metadata": {},
     "output_type": "execute_result"
    }
   ],
   "source": [
    "df.dtypes"
   ]
  },
  {
   "cell_type": "code",
   "execution_count": 39,
   "metadata": {},
   "outputs": [],
   "source": [
    "df2 = df.head(3)"
   ]
  },
  {
   "cell_type": "code",
   "execution_count": 40,
   "metadata": {},
   "outputs": [
    {
     "data": {
      "text/html": [
       "<div>\n",
       "<style scoped>\n",
       "    .dataframe tbody tr th:only-of-type {\n",
       "        vertical-align: middle;\n",
       "    }\n",
       "\n",
       "    .dataframe tbody tr th {\n",
       "        vertical-align: top;\n",
       "    }\n",
       "\n",
       "    .dataframe thead th {\n",
       "        text-align: right;\n",
       "    }\n",
       "</style>\n",
       "<table border=\"1\" class=\"dataframe\">\n",
       "  <thead>\n",
       "    <tr style=\"text-align: right;\">\n",
       "      <th></th>\n",
       "      <th>sneaker</th>\n",
       "      <th>price</th>\n",
       "      <th>brand</th>\n",
       "    </tr>\n",
       "  </thead>\n",
       "  <tbody>\n",
       "    <tr>\n",
       "      <td>1</td>\n",
       "      <td>['Jordan 1 Retro High Sports Illustrated (A St...</td>\n",
       "      <td>118</td>\n",
       "      <td>Jordan</td>\n",
       "    </tr>\n",
       "    <tr>\n",
       "      <td>71</td>\n",
       "      <td>['Jordan 1 Retro High Black Crimson Tint']</td>\n",
       "      <td>125</td>\n",
       "      <td>Jordan</td>\n",
       "    </tr>\n",
       "    <tr>\n",
       "      <td>44</td>\n",
       "      <td>['Jordan 1 Retro High Black Crimson Tint']</td>\n",
       "      <td>125</td>\n",
       "      <td>Jordan</td>\n",
       "    </tr>\n",
       "  </tbody>\n",
       "</table>\n",
       "</div>"
      ],
      "text/plain": [
       "                                              sneaker  price   brand\n",
       "1   ['Jordan 1 Retro High Sports Illustrated (A St...    118  Jordan\n",
       "71         ['Jordan 1 Retro High Black Crimson Tint']    125  Jordan\n",
       "44         ['Jordan 1 Retro High Black Crimson Tint']    125  Jordan"
      ]
     },
     "execution_count": 40,
     "metadata": {},
     "output_type": "execute_result"
    }
   ],
   "source": [
    "df2"
   ]
  },
  {
   "cell_type": "code",
   "execution_count": 44,
   "metadata": {},
   "outputs": [],
   "source": [
    "df2.to_csv(\"data.csv\")"
   ]
  },
  {
   "cell_type": "code",
   "execution_count": 45,
   "metadata": {},
   "outputs": [
    {
     "name": "stdout",
     "output_type": "stream",
     "text": [
      "Untitled.ipynb      data.csv            data_analysis.ipynb\n"
     ]
    }
   ],
   "source": [
    "! ls"
   ]
  },
  {
   "cell_type": "code",
   "execution_count": 46,
   "metadata": {},
   "outputs": [
    {
     "name": "stdout",
     "output_type": "stream",
     "text": [
      ",sneaker,price,brand\n",
      "1,['Jordan 1 Retro High Sports Illustrated (A Star Is Born)'],118,Jordan\n",
      "71,['Jordan 1 Retro High Black Crimson Tint'],125,Jordan\n",
      "44,['Jordan 1 Retro High Black Crimson Tint'],125,Jordan\n"
     ]
    }
   ],
   "source": [
    "! head data.csv"
   ]
  },
  {
   "cell_type": "markdown",
   "metadata": {},
   "source": [
    "## Things to do\n",
    "- remove duplicates\n",
    "- clean up names by removing ' and \\[\n"
   ]
  },
  {
   "cell_type": "code",
   "execution_count": 50,
   "metadata": {},
   "outputs": [],
   "source": [
    "df_avg_price = pd.DataFrame({'adidas': [234],\n",
    "                    'nike': [180],\n",
    "                    'puma': [40]})"
   ]
  },
  {
   "cell_type": "code",
   "execution_count": 55,
   "metadata": {},
   "outputs": [],
   "source": [
    "d = df_avg_price.T"
   ]
  },
  {
   "cell_type": "code",
   "execution_count": 56,
   "metadata": {},
   "outputs": [],
   "source": [
    "import matplotlib.pyplot as plt"
   ]
  },
  {
   "cell_type": "code",
   "execution_count": 65,
   "metadata": {},
   "outputs": [
    {
     "data": {
      "text/plain": [
       "[<matplotlib.lines.Line2D at 0x116f54fd0>]"
      ]
     },
     "execution_count": 65,
     "metadata": {},
     "output_type": "execute_result"
    },
    {
     "data": {
      "image/png": "[encoded data removed]",
      "text/plain": [
       "<Figure size 432x288 with 1 Axes>"
      ]
     },
     "metadata": {
      "needs_background": "light"
     },
     "output_type": "display_data"
    }
   ],
   "source": [
    "plt.plot(d)"
   ]
  },
  {
   "cell_type": "code",
   "execution_count": 13,
   "metadata": {},
   "outputs": [
    {
     "data": {
      "text/html": [
       "<div>\n",
       "<style scoped>\n",
       "    .dataframe tbody tr th:only-of-type {\n",
       "        vertical-align: middle;\n",
       "    }\n",
       "\n",
       "    .dataframe tbody tr th {\n",
       "        vertical-align: top;\n",
       "    }\n",
       "\n",
       "    .dataframe thead th {\n",
       "        text-align: right;\n",
       "    }\n",
       "</style>\n",
       "<table border=\"1\" class=\"dataframe\">\n",
       "  <thead>\n",
       "    <tr style=\"text-align: right;\">\n",
       "      <th></th>\n",
       "      <th>sneaker</th>\n",
       "      <th>price</th>\n",
       "      <th>brand</th>\n",
       "    </tr>\n",
       "  </thead>\n",
       "  <tbody>\n",
       "    <tr>\n",
       "      <td>0</td>\n",
       "      <td>['adidas Ultra Boost 4.0 Chinese New Year (201...</td>\n",
       "      <td>133</td>\n",
       "      <td>adidas</td>\n",
       "    </tr>\n",
       "    <tr>\n",
       "      <td>1</td>\n",
       "      <td>['adidas Ultra Boost 4.0 Triple Black']</td>\n",
       "      <td>173</td>\n",
       "      <td>adidas</td>\n",
       "    </tr>\n",
       "    <tr>\n",
       "      <td>2</td>\n",
       "      <td>['adidas Ultra Boost Mid Ronnie Fieg']</td>\n",
       "      <td>249</td>\n",
       "      <td>adidas</td>\n",
       "    </tr>\n",
       "    <tr>\n",
       "      <td>3</td>\n",
       "      <td>['Air More Uptempo Supreme \"Suptempo\" Red']</td>\n",
       "      <td>835</td>\n",
       "      <td>Air</td>\n",
       "    </tr>\n",
       "    <tr>\n",
       "      <td>4</td>\n",
       "      <td>['adidas Ultra Boost 4.0 Game of Thrones Targa...</td>\n",
       "      <td>175</td>\n",
       "      <td>adidas</td>\n",
       "    </tr>\n",
       "  </tbody>\n",
       "</table>\n",
       "</div>"
      ],
      "text/plain": [
       "                                             sneaker price   brand\n",
       "0  ['adidas Ultra Boost 4.0 Chinese New Year (201...   133  adidas\n",
       "1            ['adidas Ultra Boost 4.0 Triple Black']   173  adidas\n",
       "2             ['adidas Ultra Boost Mid Ronnie Fieg']   249  adidas\n",
       "3        ['Air More Uptempo Supreme \"Suptempo\" Red']   835     Air\n",
       "4  ['adidas Ultra Boost 4.0 Game of Thrones Targa...   175  adidas"
      ]
     },
     "execution_count": 13,
     "metadata": {},
     "output_type": "execute_result"
    }
   ],
   "source": [
    "df.head()"
   ]
  },
  {
   "cell_type": "code",
   "execution_count": null,
   "metadata": {},
   "outputs": [],
   "source": []
  }
 ],
 "metadata": {
  "kernelspec": {
   "display_name": "Python 3",
   "language": "python",
   "name": "python3"
  },
  "language_info": {
   "codemirror_mode": {
    "name": "ipython",
    "version": 3
   },
   "file_extension": ".py",
   "mimetype": "text/x-python",
   "name": "python",
   "nbconvert_exporter": "python",
   "pygments_lexer": "ipython3",
   "version": "3.7.3"
  }
 },
 "nbformat": 4,
 "nbformat_minor": 4
}
