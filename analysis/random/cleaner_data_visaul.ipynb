{
 "cells": [
  {
   "cell_type": "code",
   "execution_count": 1,
   "metadata": {},
   "outputs": [
    {
     "data": {
      "text/html": [
       "<div>\n",
       "<style scoped>\n",
       "    .dataframe tbody tr th:only-of-type {\n",
       "        vertical-align: middle;\n",
       "    }\n",
       "\n",
       "    .dataframe tbody tr th {\n",
       "        vertical-align: top;\n",
       "    }\n",
       "\n",
       "    .dataframe thead th {\n",
       "        text-align: right;\n",
       "    }\n",
       "</style>\n",
       "<table border=\"1\" class=\"dataframe\">\n",
       "  <thead>\n",
       "    <tr style=\"text-align: right;\">\n",
       "      <th></th>\n",
       "      <th>price</th>\n",
       "    </tr>\n",
       "    <tr>\n",
       "      <th>brand</th>\n",
       "      <th></th>\n",
       "    </tr>\n",
       "  </thead>\n",
       "  <tbody>\n",
       "    <tr>\n",
       "      <td>A</td>\n",
       "      <td>480.000000</td>\n",
       "    </tr>\n",
       "    <tr>\n",
       "      <td>ACE</td>\n",
       "      <td>200.000000</td>\n",
       "    </tr>\n",
       "    <tr>\n",
       "      <td>ASICS</td>\n",
       "      <td>607.750000</td>\n",
       "    </tr>\n",
       "    <tr>\n",
       "      <td>Air</td>\n",
       "      <td>190.611111</td>\n",
       "    </tr>\n",
       "    <tr>\n",
       "      <td>Asics</td>\n",
       "      <td>237.500000</td>\n",
       "    </tr>\n",
       "    <tr>\n",
       "      <td>Balenciaga</td>\n",
       "      <td>772.000000</td>\n",
       "    </tr>\n",
       "    <tr>\n",
       "      <td>Converse</td>\n",
       "      <td>161.125000</td>\n",
       "    </tr>\n",
       "    <tr>\n",
       "      <td>Diadora</td>\n",
       "      <td>450.000000</td>\n",
       "    </tr>\n",
       "    <tr>\n",
       "      <td>Fear</td>\n",
       "      <td>650.000000</td>\n",
       "    </tr>\n",
       "    <tr>\n",
       "      <td>Gucci</td>\n",
       "      <td>189.000000</td>\n",
       "    </tr>\n",
       "    <tr>\n",
       "      <td>Jordan</td>\n",
       "      <td>229.136364</td>\n",
       "    </tr>\n",
       "    <tr>\n",
       "      <td>LeBron</td>\n",
       "      <td>401.000000</td>\n",
       "    </tr>\n",
       "    <tr>\n",
       "      <td>Lunar</td>\n",
       "      <td>220.000000</td>\n",
       "    </tr>\n",
       "    <tr>\n",
       "      <td>New</td>\n",
       "      <td>327.250000</td>\n",
       "    </tr>\n",
       "    <tr>\n",
       "      <td>Nike</td>\n",
       "      <td>167.065789</td>\n",
       "    </tr>\n",
       "    <tr>\n",
       "      <td>React</td>\n",
       "      <td>65.000000</td>\n",
       "    </tr>\n",
       "    <tr>\n",
       "      <td>Reebok</td>\n",
       "      <td>506.000000</td>\n",
       "    </tr>\n",
       "    <tr>\n",
       "      <td>SF</td>\n",
       "      <td>95.000000</td>\n",
       "    </tr>\n",
       "    <tr>\n",
       "      <td>Saucony</td>\n",
       "      <td>350.000000</td>\n",
       "    </tr>\n",
       "    <tr>\n",
       "      <td>Timberland</td>\n",
       "      <td>145.000000</td>\n",
       "    </tr>\n",
       "    <tr>\n",
       "      <td>Vans</td>\n",
       "      <td>80.000000</td>\n",
       "    </tr>\n",
       "    <tr>\n",
       "      <td>adidas</td>\n",
       "      <td>237.375887</td>\n",
       "    </tr>\n",
       "  </tbody>\n",
       "</table>\n",
       "</div>"
      ],
      "text/plain": [
       "                 price\n",
       "brand                 \n",
       "A           480.000000\n",
       "ACE         200.000000\n",
       "ASICS       607.750000\n",
       "Air         190.611111\n",
       "Asics       237.500000\n",
       "Balenciaga  772.000000\n",
       "Converse    161.125000\n",
       "Diadora     450.000000\n",
       "Fear        650.000000\n",
       "Gucci       189.000000\n",
       "Jordan      229.136364\n",
       "LeBron      401.000000\n",
       "Lunar       220.000000\n",
       "New         327.250000\n",
       "Nike        167.065789\n",
       "React        65.000000\n",
       "Reebok      506.000000\n",
       "SF           95.000000\n",
       "Saucony     350.000000\n",
       "Timberland  145.000000\n",
       "Vans         80.000000\n",
       "adidas      237.375887"
      ]
     },
     "execution_count": 1,
     "metadata": {},
     "output_type": "execute_result"
    }
   ],
   "source": [
    "import pandas as pd\n",
    "import sqlite3\n",
    "import matplotlib.pyplot as plt\n",
    "conn = sqlite3.connect(\"../databases/database2.db\")\n",
    "df = pd.read_sql_query(\"select * from sneakertable;\", conn)\n",
    "df = df.drop(\"id\", axis=1)\n",
    "#set price to ints\n",
    "df = df.astype({'price': 'int32'})\n",
    "#set brand to str\n",
    "df = df.astype({'brand': 'str'})\n",
    "#get rid of duplicates\n",
    "cleaned = df.drop_duplicates(subset=\"sneaker\", keep=\"first\")\n",
    "# prices_as_nums = prices_as_nums.round(decimals=0)\n",
    "avg_table = cleaned.groupby('brand').mean()\n",
    "avg_table"
   ]
  },
  {
   "cell_type": "code",
   "execution_count": 4,
   "metadata": {},
   "outputs": [
    {
     "data": {
      "text/plain": [
       "[<matplotlib.lines.Line2D at 0x11afa54a8>]"
      ]
     },
     "execution_count": 4,
     "metadata": {},
     "output_type": "execute_result"
    },
    {
     "data": {
      "image/png": "[encoded data removed]",
      "text/plain": [
       "<Figure size 432x288 with 1 Axes>"
      ]
     },
     "metadata": {
      "needs_background": "light"
     },
     "output_type": "display_data"
    }
   ],
   "source": [
    "plt.plot(avg_table)"
   ]
  },
  {
   "cell_type": "code",
   "execution_count": null,
   "metadata": {},
   "outputs": [],
   "source": [
    "  {'brand': ['adidas'], 'price': [adidas_avg_price]},\n",
    "#                        {'brand': ['asics'], 'price': [asics_avg_price]},\n",
    "#                        {'brand': ['balenciaga'], 'price': [balenciaga_avg_price]},\n",
    "#                        {'brand': ['reebok'], 'price': [reebok_avg_price]},\n",
    "#                        {'brand': ['new_balance'], 'price': [new_balance_avg_price]},\n",
    "#                        {'brand': ['gucci'], 'price': [gucci_avg_price]},\n",
    "#                        {'brand': ['jordan'], 'price': [jordan_avg_price]},\n",
    "#                        {'brand': ['LeBron'], 'price': [lebron_avg_price]}\n",
    "# adidas_avg_price = avg_table.loc['adidas','price']\n",
    "# asics_avg_price = avg_table.loc['ASICS','price']\n",
    "# balenciaga_avg_price = avg_table.loc['Balenciaga','price']\n",
    "# reebok_avg_price = avg_table.loc['Reebok','price']\n",
    "# new_balace_avg_price = avg_table.loc['New','price']\n",
    "# gucci_avg_price = avg_table.loc['Gucci','price']\n",
    "# jordan_avg_price = avg_table.loc['Jordan','price']\n",
    "# # lebron_avg_price = avg_table.loc['LeBron','price']"
   ]
  }
 ],
 "metadata": {
  "kernelspec": {
   "display_name": "Python 3",
   "language": "python",
   "name": "python3"
  },
  "language_info": {
   "codemirror_mode": {
    "name": "ipython",
    "version": 3
   },
   "file_extension": ".py",
   "mimetype": "text/x-python",
   "name": "python",
   "nbconvert_exporter": "python",
   "pygments_lexer": "ipython3",
   "version": "3.7.3"
  }
 },
 "nbformat": 4,
 "nbformat_minor": 4
}
